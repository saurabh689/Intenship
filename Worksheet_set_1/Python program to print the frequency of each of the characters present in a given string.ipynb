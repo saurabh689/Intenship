{
 "cells": [
  {
   "cell_type": "code",
   "execution_count": 7,
   "id": "9e9d128c",
   "metadata": {},
   "outputs": [
    {
     "name": "stdout",
     "output_type": "stream",
     "text": [
      "Enter the string: saurabh yadav\n",
      "s,1\n",
      "a,4\n",
      "u,1\n",
      "r,1\n",
      "b,1\n",
      "h,1\n",
      " ,1\n",
      "y,1\n",
      "d,1\n",
      "v,1\n"
     ]
    }
   ],
   "source": [
    "string=input(\"Enter the string: \")\n",
    "\n",
    "str1=list(string)\n",
    "\n",
    "strlist=[]\n",
    "\n",
    "for j in str1:\n",
    "    if j not in strlist:\n",
    "       strlist.append(j)\n",
    "       count=0\n",
    "       for i in range(len(str1)):\n",
    "         if j==str1[i]:\n",
    "           count+=1\n",
    "       print(\"{},{}\".format(j,count))"
   ]
  },
  {
   "cell_type": "code",
   "execution_count": null,
   "id": "c1eed6b3",
   "metadata": {},
   "outputs": [],
   "source": []
  }
 ],
 "metadata": {
  "kernelspec": {
   "display_name": "Python 3",
   "language": "python",
   "name": "python3"
  },
  "language_info": {
   "codemirror_mode": {
    "name": "ipython",
    "version": 3
   },
   "file_extension": ".py",
   "mimetype": "text/x-python",
   "name": "python",
   "nbconvert_exporter": "python",
   "pygments_lexer": "ipython3",
   "version": "3.8.8"
  }
 },
 "nbformat": 4,
 "nbformat_minor": 5
}
