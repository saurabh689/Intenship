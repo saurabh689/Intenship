{
 "cells": [
  {
   "cell_type": "code",
   "execution_count": 40,
   "id": "4cdf6538",
   "metadata": {},
   "outputs": [
    {
     "name": "stdout",
     "output_type": "stream",
     "text": [
      "Requirement already satisfied: selenium in d:\\anaconda\\lib\\site-packages (4.1.0)\n",
      "Requirement already satisfied: urllib3[secure]~=1.26 in d:\\anaconda\\lib\\site-packages (from selenium) (1.26.4)\n",
      "Requirement already satisfied: trio-websocket~=0.9 in d:\\anaconda\\lib\\site-packages (from selenium) (0.9.2)\n",
      "Requirement already satisfied: trio~=0.17 in d:\\anaconda\\lib\\site-packages (from selenium) (0.19.0)\n",
      "Requirement already satisfied: sortedcontainers in d:\\anaconda\\lib\\site-packages (from trio~=0.17->selenium) (2.3.0)\n",
      "Requirement already satisfied: attrs>=19.2.0 in d:\\anaconda\\lib\\site-packages (from trio~=0.17->selenium) (20.3.0)\n",
      "Requirement already satisfied: async-generator>=1.9 in d:\\anaconda\\lib\\site-packages (from trio~=0.17->selenium) (1.10)\n",
      "Requirement already satisfied: sniffio in d:\\anaconda\\lib\\site-packages (from trio~=0.17->selenium) (1.2.0)\n",
      "Requirement already satisfied: idna in d:\\anaconda\\lib\\site-packages (from trio~=0.17->selenium) (2.10)\n",
      "Requirement already satisfied: outcome in d:\\anaconda\\lib\\site-packages (from trio~=0.17->selenium) (1.1.0)\n",
      "Requirement already satisfied: cffi>=1.14 in d:\\anaconda\\lib\\site-packages (from trio~=0.17->selenium) (1.14.5)\n",
      "Requirement already satisfied: pycparser in d:\\anaconda\\lib\\site-packages (from cffi>=1.14->trio~=0.17->selenium) (2.20)\n",
      "Requirement already satisfied: wsproto>=0.14 in d:\\anaconda\\lib\\site-packages (from trio-websocket~=0.9->selenium) (1.0.0)\n",
      "Requirement already satisfied: cryptography>=1.3.4 in d:\\anaconda\\lib\\site-packages (from urllib3[secure]~=1.26->selenium) (3.4.7)\n",
      "Requirement already satisfied: certifi in d:\\anaconda\\lib\\site-packages (from urllib3[secure]~=1.26->selenium) (2020.12.5)\n",
      "Requirement already satisfied: pyOpenSSL>=0.14 in d:\\anaconda\\lib\\site-packages (from urllib3[secure]~=1.26->selenium) (20.0.1)\n",
      "Requirement already satisfied: six>=1.5.2 in d:\\anaconda\\lib\\site-packages (from pyOpenSSL>=0.14->urllib3[secure]~=1.26->selenium) (1.15.0)\n",
      "Requirement already satisfied: h11<1,>=0.9.0 in d:\\anaconda\\lib\\site-packages (from wsproto>=0.14->trio-websocket~=0.9->selenium) (0.13.0)\n"
     ]
    }
   ],
   "source": [
    "!pip install selenium"
   ]
  },
  {
   "cell_type": "code",
   "execution_count": 41,
   "id": "2e5f2846",
   "metadata": {},
   "outputs": [],
   "source": [
    "import pandas as pd \n",
    "import numpy as np\n",
    "from selenium import webdriver\n",
    "import warnings\n",
    "warnings.filterwarnings('ignore')"
   ]
  },
  {
   "cell_type": "markdown",
   "id": "33714e6b",
   "metadata": {},
   "source": [
    "# Q1: Write a python program to scrape data for “Data Analyst” Job position in “Bangalore” location. You\n",
    "have to scrape the job-title, job-location, company_name, experience_required. You have to scrape first 10\n",
    "jobs data."
   ]
  },
  {
   "cell_type": "code",
   "execution_count": 42,
   "id": "16bd6831",
   "metadata": {},
   "outputs": [],
   "source": [
    "driver=webdriver.Chrome('chromedriver.exe')"
   ]
  },
  {
   "cell_type": "code",
   "execution_count": 43,
   "id": "10c3c9a7",
   "metadata": {},
   "outputs": [],
   "source": [
    "url='https://www.naukri.com/'\n",
    "driver.get(url)"
   ]
  },
  {
   "cell_type": "code",
   "execution_count": 44,
   "id": "a3515be2",
   "metadata": {},
   "outputs": [
    {
     "data": {
      "text/plain": [
       "<selenium.webdriver.remote.webelement.WebElement (session=\"9a6a68a55579660f1afcba3e54c43303\", element=\"42734630-e7a8-4555-8e7f-b154df5df4f7\")>"
      ]
     },
     "execution_count": 44,
     "metadata": {},
     "output_type": "execute_result"
    }
   ],
   "source": [
    "srh_job=driver.find_element_by_class_name('suggestor-input ')\n",
    "srh_job"
   ]
  },
  {
   "cell_type": "code",
   "execution_count": 45,
   "id": "6668cb5d",
   "metadata": {},
   "outputs": [],
   "source": [
    "srh_job.send_keys('Data Analyst')"
   ]
  },
  {
   "cell_type": "code",
   "execution_count": 46,
   "id": "88aeabf9",
   "metadata": {},
   "outputs": [
    {
     "data": {
      "text/plain": [
       "<selenium.webdriver.remote.webelement.WebElement (session=\"9a6a68a55579660f1afcba3e54c43303\", element=\"cf3442a9-6e9e-45b5-93bd-5623598d2e95\")>"
      ]
     },
     "execution_count": 46,
     "metadata": {},
     "output_type": "execute_result"
    }
   ],
   "source": [
    "loc_job=driver.find_element_by_xpath('/html/body/div/div[2]/div[3]/div/div/div[3]/div/div/div/input')\n",
    "loc_job"
   ]
  },
  {
   "cell_type": "code",
   "execution_count": 47,
   "id": "c0530ce1",
   "metadata": {},
   "outputs": [],
   "source": [
    "loc_job.send_keys('Bangalore')\n"
   ]
  },
  {
   "cell_type": "code",
   "execution_count": 48,
   "id": "3962d065",
   "metadata": {},
   "outputs": [],
   "source": [
    "srh_btn=driver.find_element_by_class_name('qsbSubmit')\n",
    "srh_btn.click()"
   ]
  },
  {
   "cell_type": "code",
   "execution_count": 49,
   "id": "a637aa0d",
   "metadata": {},
   "outputs": [],
   "source": [
    "job_tags=driver.find_elements_by_xpath('//a[@class=\"title fw500 ellipsis\"]')\n"
   ]
  },
  {
   "cell_type": "code",
   "execution_count": 50,
   "id": "f52f0354",
   "metadata": {},
   "outputs": [
    {
     "data": {
      "text/plain": [
       "[<selenium.webdriver.remote.webelement.WebElement (session=\"9a6a68a55579660f1afcba3e54c43303\", element=\"720e1972-b58a-41a3-a1f5-0e5ee6fe5dc1\")>,\n",
       " <selenium.webdriver.remote.webelement.WebElement (session=\"9a6a68a55579660f1afcba3e54c43303\", element=\"024f57a6-7c2a-454d-a2b6-783c1c7ab3f1\")>,\n",
       " <selenium.webdriver.remote.webelement.WebElement (session=\"9a6a68a55579660f1afcba3e54c43303\", element=\"65569e06-752f-4fc2-9823-8337c7499332\")>,\n",
       " <selenium.webdriver.remote.webelement.WebElement (session=\"9a6a68a55579660f1afcba3e54c43303\", element=\"b4c355a9-d1b1-4ecc-90a8-237e7bc8c4f9\")>,\n",
       " <selenium.webdriver.remote.webelement.WebElement (session=\"9a6a68a55579660f1afcba3e54c43303\", element=\"1a716921-93a4-49e4-b78d-5059a36002c0\")>,\n",
       " <selenium.webdriver.remote.webelement.WebElement (session=\"9a6a68a55579660f1afcba3e54c43303\", element=\"41315697-6f0c-4a2e-ae1b-21293118a62b\")>,\n",
       " <selenium.webdriver.remote.webelement.WebElement (session=\"9a6a68a55579660f1afcba3e54c43303\", element=\"fbad0f3e-6383-4451-9512-535ba41f337b\")>,\n",
       " <selenium.webdriver.remote.webelement.WebElement (session=\"9a6a68a55579660f1afcba3e54c43303\", element=\"ea5e6473-05a5-4f2d-a62a-0ee7e7102c19\")>,\n",
       " <selenium.webdriver.remote.webelement.WebElement (session=\"9a6a68a55579660f1afcba3e54c43303\", element=\"2845f925-4acf-4498-b918-ceb587dd6d93\")>,\n",
       " <selenium.webdriver.remote.webelement.WebElement (session=\"9a6a68a55579660f1afcba3e54c43303\", element=\"f1876bec-c321-48b4-b465-9be9293c0e97\")>,\n",
       " <selenium.webdriver.remote.webelement.WebElement (session=\"9a6a68a55579660f1afcba3e54c43303\", element=\"5f4af49a-3f51-478c-b4b0-4ec027f9406f\")>,\n",
       " <selenium.webdriver.remote.webelement.WebElement (session=\"9a6a68a55579660f1afcba3e54c43303\", element=\"ed42b9af-5361-41f0-9b33-a051d75f9487\")>,\n",
       " <selenium.webdriver.remote.webelement.WebElement (session=\"9a6a68a55579660f1afcba3e54c43303\", element=\"98fecbf4-4a48-48f9-9162-f9197d2058fb\")>,\n",
       " <selenium.webdriver.remote.webelement.WebElement (session=\"9a6a68a55579660f1afcba3e54c43303\", element=\"5011f3ef-1aeb-4ef1-997c-e57efda23081\")>,\n",
       " <selenium.webdriver.remote.webelement.WebElement (session=\"9a6a68a55579660f1afcba3e54c43303\", element=\"f73cf83a-867a-4ab2-9a09-b3f9acdf58f8\")>,\n",
       " <selenium.webdriver.remote.webelement.WebElement (session=\"9a6a68a55579660f1afcba3e54c43303\", element=\"ecb80097-1041-4c38-afe0-d65784d7e520\")>,\n",
       " <selenium.webdriver.remote.webelement.WebElement (session=\"9a6a68a55579660f1afcba3e54c43303\", element=\"291fbb35-6b6a-4d0c-819e-848f8774d7ba\")>,\n",
       " <selenium.webdriver.remote.webelement.WebElement (session=\"9a6a68a55579660f1afcba3e54c43303\", element=\"fd0b3369-1b03-4426-9e37-ff1ed21057e6\")>,\n",
       " <selenium.webdriver.remote.webelement.WebElement (session=\"9a6a68a55579660f1afcba3e54c43303\", element=\"92a7ad6a-3ff1-458d-ac91-327975a0e861\")>,\n",
       " <selenium.webdriver.remote.webelement.WebElement (session=\"9a6a68a55579660f1afcba3e54c43303\", element=\"c3d119c7-6f57-4c98-b27c-458ae68fa675\")>]"
      ]
     },
     "execution_count": 50,
     "metadata": {},
     "output_type": "execute_result"
    }
   ],
   "source": [
    "job_tags"
   ]
  },
  {
   "cell_type": "code",
   "execution_count": 51,
   "id": "bad701f9",
   "metadata": {},
   "outputs": [
    {
     "data": {
      "text/plain": [
       "20"
      ]
     },
     "execution_count": 51,
     "metadata": {},
     "output_type": "execute_result"
    }
   ],
   "source": [
    "len(job_tags)"
   ]
  },
  {
   "cell_type": "code",
   "execution_count": 52,
   "id": "832912a5",
   "metadata": {},
   "outputs": [
    {
     "data": {
      "text/plain": [
       "['Hiring -Data Analyst, Business Analyst, MIS Analyst -3rd Party Payroll',\n",
       " 'Senior Data Analyst II',\n",
       " 'Senior Data Analyst',\n",
       " 'Business Analyst (Data Analyst role)',\n",
       " 'Senior Data Analyst',\n",
       " 'Data Analyst',\n",
       " 'Consultant - Data Analyst',\n",
       " 'Senior Data Analyst',\n",
       " 'Senior Analyst, Data Engineering',\n",
       " 'Business Data Analyst - MIS & Reporting',\n",
       " 'Statistician, Data Analyst, SPSS, M.Sc Statistics (0 To 3 years)',\n",
       " 'Analyst - Data Intelligence Group',\n",
       " 'Data Analyst',\n",
       " 'Business Analyst (Data Analyst)',\n",
       " 'Business Analyst/ Data Analyst- Capital Market & SQL (Mandatory)',\n",
       " 'Data Analyst',\n",
       " 'Senior Analyst Data Engineering',\n",
       " 'Data Analyst',\n",
       " 'Success Operations , Data Analyst',\n",
       " 'Data Analyst']"
      ]
     },
     "execution_count": 52,
     "metadata": {},
     "output_type": "execute_result"
    }
   ],
   "source": [
    "job_titles=[]\n",
    "for i in job_tags:\n",
    "    job_titles.append(i.text)\n",
    "    \n",
    "job_titles    "
   ]
  },
  {
   "cell_type": "code",
   "execution_count": 53,
   "id": "d539d42f",
   "metadata": {},
   "outputs": [],
   "source": [
    "location=driver.find_elements_by_xpath('//li[@class=\"fleft grey-text br2 placeHolderLi location\"]')"
   ]
  },
  {
   "cell_type": "code",
   "execution_count": 54,
   "id": "7210933b",
   "metadata": {},
   "outputs": [
    {
     "data": {
      "text/plain": [
       "[<selenium.webdriver.remote.webelement.WebElement (session=\"9a6a68a55579660f1afcba3e54c43303\", element=\"a2ba6b83-45c2-4ea1-8ad9-3f3b5cc0cac0\")>,\n",
       " <selenium.webdriver.remote.webelement.WebElement (session=\"9a6a68a55579660f1afcba3e54c43303\", element=\"cf3f23f6-4da3-47a0-9432-677629cb2aa4\")>,\n",
       " <selenium.webdriver.remote.webelement.WebElement (session=\"9a6a68a55579660f1afcba3e54c43303\", element=\"fdc7a3fe-2758-43fa-bef5-cae92529de05\")>,\n",
       " <selenium.webdriver.remote.webelement.WebElement (session=\"9a6a68a55579660f1afcba3e54c43303\", element=\"ba752bfa-e47e-458e-8e3a-465faea35c9b\")>,\n",
       " <selenium.webdriver.remote.webelement.WebElement (session=\"9a6a68a55579660f1afcba3e54c43303\", element=\"2cf4aa29-42b6-49b4-b70d-459c96a59546\")>,\n",
       " <selenium.webdriver.remote.webelement.WebElement (session=\"9a6a68a55579660f1afcba3e54c43303\", element=\"7685469a-49b8-4f90-bb93-218ebcfda268\")>,\n",
       " <selenium.webdriver.remote.webelement.WebElement (session=\"9a6a68a55579660f1afcba3e54c43303\", element=\"a3f3f18d-b83c-4811-9f30-002c60879c16\")>,\n",
       " <selenium.webdriver.remote.webelement.WebElement (session=\"9a6a68a55579660f1afcba3e54c43303\", element=\"6bec5399-31cf-4e82-86bf-bb6004bedc30\")>,\n",
       " <selenium.webdriver.remote.webelement.WebElement (session=\"9a6a68a55579660f1afcba3e54c43303\", element=\"4cbade09-bac0-4ab7-8950-97cfb65c5f72\")>,\n",
       " <selenium.webdriver.remote.webelement.WebElement (session=\"9a6a68a55579660f1afcba3e54c43303\", element=\"6a5e7052-a569-43f6-b5a8-9de074058913\")>,\n",
       " <selenium.webdriver.remote.webelement.WebElement (session=\"9a6a68a55579660f1afcba3e54c43303\", element=\"41acb054-04ea-417e-b3c0-6ef975faa93c\")>,\n",
       " <selenium.webdriver.remote.webelement.WebElement (session=\"9a6a68a55579660f1afcba3e54c43303\", element=\"ee22091d-f310-4d2f-add4-5220bb102204\")>,\n",
       " <selenium.webdriver.remote.webelement.WebElement (session=\"9a6a68a55579660f1afcba3e54c43303\", element=\"6c9b483b-c9aa-479d-b7a4-54e25d72d2d8\")>,\n",
       " <selenium.webdriver.remote.webelement.WebElement (session=\"9a6a68a55579660f1afcba3e54c43303\", element=\"df79ba43-f2da-4fd6-95e2-1acefd60e4e0\")>,\n",
       " <selenium.webdriver.remote.webelement.WebElement (session=\"9a6a68a55579660f1afcba3e54c43303\", element=\"651e1439-b570-4e3e-be33-6f3decf24075\")>,\n",
       " <selenium.webdriver.remote.webelement.WebElement (session=\"9a6a68a55579660f1afcba3e54c43303\", element=\"e0bbf47b-f169-4d3b-b377-134adc94cf81\")>,\n",
       " <selenium.webdriver.remote.webelement.WebElement (session=\"9a6a68a55579660f1afcba3e54c43303\", element=\"5eb46ae6-db7c-4b5e-bc3c-82ab618aecc1\")>,\n",
       " <selenium.webdriver.remote.webelement.WebElement (session=\"9a6a68a55579660f1afcba3e54c43303\", element=\"2624b9c8-6ac2-4587-9d6f-116bcec2ec73\")>,\n",
       " <selenium.webdriver.remote.webelement.WebElement (session=\"9a6a68a55579660f1afcba3e54c43303\", element=\"7bbb2019-faf1-4574-a325-5a1edc8cbaff\")>,\n",
       " <selenium.webdriver.remote.webelement.WebElement (session=\"9a6a68a55579660f1afcba3e54c43303\", element=\"a4b69a32-eeec-4636-8a69-2d4cf5d9c58a\")>]"
      ]
     },
     "execution_count": 54,
     "metadata": {},
     "output_type": "execute_result"
    }
   ],
   "source": [
    "location"
   ]
  },
  {
   "cell_type": "code",
   "execution_count": 59,
   "id": "e5984154",
   "metadata": {},
   "outputs": [
    {
     "data": {
      "text/plain": [
       "['Bangalore/Bengaluru',\n",
       " 'Bangalore/Bengaluru',\n",
       " 'Bangalore/Bengaluru',\n",
       " 'Mumbai, Hyderabad/Secunderabad, Pune, Chennai, Bangalore/Bengaluru',\n",
       " 'Remote',\n",
       " 'Bangalore/Bengaluru',\n",
       " 'Bangalore/Bengaluru',\n",
       " 'Bangalore/Bengaluru',\n",
       " 'Bangalore/Bengaluru',\n",
       " 'Bangalore/Bengaluru',\n",
       " 'New Delhi(Paschim Vihar +1), Bangalore/Bengaluru(Whitefield +2)',\n",
       " 'Mumbai, Pune, Bangalore/Bengaluru',\n",
       " 'Bangalore/Bengaluru',\n",
       " 'Hyderabad/Secunderabad, Bangalore/Bengaluru, Delhi / NCR',\n",
       " 'Pune, Bangalore/Bengaluru',\n",
       " 'Bangalore/Bengaluru',\n",
       " 'Bangalore/Bengaluru',\n",
       " 'Bangalore/Bengaluru',\n",
       " 'Bangalore/Bengaluru',\n",
       " 'Pune, Gurgaon/Gurugram, Chennai, Bangalore/Bengaluru, Mumbai (All Areas)']"
      ]
     },
     "execution_count": 59,
     "metadata": {},
     "output_type": "execute_result"
    }
   ],
   "source": [
    "loc=[]\n",
    "for i in location:\n",
    "    loc.append(i.text)\n",
    "    \n",
    "loc    "
   ]
  },
  {
   "cell_type": "code",
   "execution_count": 60,
   "id": "9ce3390a",
   "metadata": {},
   "outputs": [],
   "source": [
    "company=driver.find_elements_by_xpath('//a[@class=\"subTitle ellipsis fleft\"]')"
   ]
  },
  {
   "cell_type": "code",
   "execution_count": 61,
   "id": "99082c47",
   "metadata": {},
   "outputs": [
    {
     "data": {
      "text/plain": [
       "[<selenium.webdriver.remote.webelement.WebElement (session=\"9a6a68a55579660f1afcba3e54c43303\", element=\"76a56b53-c827-467f-a5a1-c081d254079c\")>,\n",
       " <selenium.webdriver.remote.webelement.WebElement (session=\"9a6a68a55579660f1afcba3e54c43303\", element=\"0db226ed-d0cf-46d4-8321-4e9d514cbae1\")>,\n",
       " <selenium.webdriver.remote.webelement.WebElement (session=\"9a6a68a55579660f1afcba3e54c43303\", element=\"02ffa6f6-795a-4449-a18e-c2749b6ae4cd\")>,\n",
       " <selenium.webdriver.remote.webelement.WebElement (session=\"9a6a68a55579660f1afcba3e54c43303\", element=\"f61557c9-dd8e-46ec-a3d0-186a62c6fe52\")>,\n",
       " <selenium.webdriver.remote.webelement.WebElement (session=\"9a6a68a55579660f1afcba3e54c43303\", element=\"ede99aa9-f9b2-43cd-8f8d-593187a2aec7\")>,\n",
       " <selenium.webdriver.remote.webelement.WebElement (session=\"9a6a68a55579660f1afcba3e54c43303\", element=\"afb8de38-039b-4d4e-95fc-cb33fcbaa06d\")>,\n",
       " <selenium.webdriver.remote.webelement.WebElement (session=\"9a6a68a55579660f1afcba3e54c43303\", element=\"0eb370a7-132b-4c13-b490-e5a5c2345a76\")>,\n",
       " <selenium.webdriver.remote.webelement.WebElement (session=\"9a6a68a55579660f1afcba3e54c43303\", element=\"763afe14-9b7d-4085-8549-e8caac67de59\")>,\n",
       " <selenium.webdriver.remote.webelement.WebElement (session=\"9a6a68a55579660f1afcba3e54c43303\", element=\"16bb9437-a77f-42fa-9573-843f1eb26c1f\")>,\n",
       " <selenium.webdriver.remote.webelement.WebElement (session=\"9a6a68a55579660f1afcba3e54c43303\", element=\"ebf17365-bcbb-4a24-b820-e0e2977fadd7\")>,\n",
       " <selenium.webdriver.remote.webelement.WebElement (session=\"9a6a68a55579660f1afcba3e54c43303\", element=\"e407bc62-7d87-4fa0-a30e-4d62be4ce356\")>,\n",
       " <selenium.webdriver.remote.webelement.WebElement (session=\"9a6a68a55579660f1afcba3e54c43303\", element=\"21eaadc8-abf4-4d5f-b81f-bbebcecd64ee\")>,\n",
       " <selenium.webdriver.remote.webelement.WebElement (session=\"9a6a68a55579660f1afcba3e54c43303\", element=\"85bbb06d-6031-43ff-8055-9acd8af16baa\")>,\n",
       " <selenium.webdriver.remote.webelement.WebElement (session=\"9a6a68a55579660f1afcba3e54c43303\", element=\"0df5ad6b-2132-48f8-9126-dc0f58dce659\")>,\n",
       " <selenium.webdriver.remote.webelement.WebElement (session=\"9a6a68a55579660f1afcba3e54c43303\", element=\"318b08a6-d5ee-40c2-9cbb-a6d5b7363901\")>,\n",
       " <selenium.webdriver.remote.webelement.WebElement (session=\"9a6a68a55579660f1afcba3e54c43303\", element=\"9197d3f7-39a3-493b-a8c3-9775b8a39973\")>,\n",
       " <selenium.webdriver.remote.webelement.WebElement (session=\"9a6a68a55579660f1afcba3e54c43303\", element=\"7ae03f00-2390-4514-bdfd-7ef648c0ea9c\")>,\n",
       " <selenium.webdriver.remote.webelement.WebElement (session=\"9a6a68a55579660f1afcba3e54c43303\", element=\"e30463ee-7da6-4738-a84a-a8a08bab24ea\")>,\n",
       " <selenium.webdriver.remote.webelement.WebElement (session=\"9a6a68a55579660f1afcba3e54c43303\", element=\"6bd1d9eb-0480-484a-83af-cf076786c93c\")>,\n",
       " <selenium.webdriver.remote.webelement.WebElement (session=\"9a6a68a55579660f1afcba3e54c43303\", element=\"7096d238-3b2a-4afb-bdd9-6759e3eb843a\")>]"
      ]
     },
     "execution_count": 61,
     "metadata": {},
     "output_type": "execute_result"
    }
   ],
   "source": [
    "company"
   ]
  },
  {
   "cell_type": "code",
   "execution_count": 62,
   "id": "0de87646",
   "metadata": {},
   "outputs": [
    {
     "data": {
      "text/plain": [
       "['Flipkart',\n",
       " 'Flipkart',\n",
       " 'Flipkart',\n",
       " 'Xpheno',\n",
       " 'Liventus Technology Services',\n",
       " 'Shell',\n",
       " 'Flipkart',\n",
       " 'Conviva',\n",
       " 'Dell',\n",
       " 'SHAND PIPE INDUSTRY PVT.LTD',\n",
       " 'The HR Bulb',\n",
       " 'TresVista Financial',\n",
       " 'Shell',\n",
       " 'Genpact',\n",
       " 'Genpact',\n",
       " 'McAfee',\n",
       " 'Dell',\n",
       " 'Vedantu Innovations',\n",
       " 'Sense Talent Labs',\n",
       " 'FedEx Express']"
      ]
     },
     "execution_count": 62,
     "metadata": {},
     "output_type": "execute_result"
    }
   ],
   "source": [
    "comp=[]\n",
    "for i in company:\n",
    "    comp.append(i.text)\n",
    "    \n",
    "comp "
   ]
  },
  {
   "cell_type": "code",
   "execution_count": 63,
   "id": "e1c9e040",
   "metadata": {},
   "outputs": [],
   "source": [
    "expirence=driver.find_elements_by_xpath('//span[contains(@title,\"Yrs\")]')"
   ]
  },
  {
   "cell_type": "code",
   "execution_count": 64,
   "id": "c24d7c71",
   "metadata": {},
   "outputs": [
    {
     "data": {
      "text/plain": [
       "[<selenium.webdriver.remote.webelement.WebElement (session=\"9a6a68a55579660f1afcba3e54c43303\", element=\"308dc449-e43a-4145-ad4e-c7bf828c7bdc\")>,\n",
       " <selenium.webdriver.remote.webelement.WebElement (session=\"9a6a68a55579660f1afcba3e54c43303\", element=\"47b10edc-a1fc-423b-a2b8-ec315e1246f0\")>,\n",
       " <selenium.webdriver.remote.webelement.WebElement (session=\"9a6a68a55579660f1afcba3e54c43303\", element=\"f1e8b9cb-64d6-467e-a992-01689912fd20\")>,\n",
       " <selenium.webdriver.remote.webelement.WebElement (session=\"9a6a68a55579660f1afcba3e54c43303\", element=\"5051a816-50c8-495b-8cbb-57b9367f653e\")>,\n",
       " <selenium.webdriver.remote.webelement.WebElement (session=\"9a6a68a55579660f1afcba3e54c43303\", element=\"885baae6-e3c6-4bce-8158-ab72ab2dab76\")>,\n",
       " <selenium.webdriver.remote.webelement.WebElement (session=\"9a6a68a55579660f1afcba3e54c43303\", element=\"752cc48b-cb57-4215-bd10-a311b309cdd2\")>,\n",
       " <selenium.webdriver.remote.webelement.WebElement (session=\"9a6a68a55579660f1afcba3e54c43303\", element=\"b1dcdb40-a8d9-4a16-b980-f97ce36b8c1f\")>,\n",
       " <selenium.webdriver.remote.webelement.WebElement (session=\"9a6a68a55579660f1afcba3e54c43303\", element=\"aa5ace1a-bda1-4a93-b5ac-182004d3ade8\")>,\n",
       " <selenium.webdriver.remote.webelement.WebElement (session=\"9a6a68a55579660f1afcba3e54c43303\", element=\"0d9fcdaa-6a69-4f80-a7d0-e23c3a082155\")>,\n",
       " <selenium.webdriver.remote.webelement.WebElement (session=\"9a6a68a55579660f1afcba3e54c43303\", element=\"cacf4084-b1b5-4fd8-88a1-63d408a3dc87\")>,\n",
       " <selenium.webdriver.remote.webelement.WebElement (session=\"9a6a68a55579660f1afcba3e54c43303\", element=\"b2bf1dc9-bf0a-4910-be55-6a05d096b81c\")>,\n",
       " <selenium.webdriver.remote.webelement.WebElement (session=\"9a6a68a55579660f1afcba3e54c43303\", element=\"a83d9767-49cb-45c2-8bb4-1f8e82d5bd47\")>,\n",
       " <selenium.webdriver.remote.webelement.WebElement (session=\"9a6a68a55579660f1afcba3e54c43303\", element=\"9bf4a299-d9ed-48fb-b7c4-934daf46c51d\")>,\n",
       " <selenium.webdriver.remote.webelement.WebElement (session=\"9a6a68a55579660f1afcba3e54c43303\", element=\"97f61292-9333-4c55-934f-3be099c50543\")>,\n",
       " <selenium.webdriver.remote.webelement.WebElement (session=\"9a6a68a55579660f1afcba3e54c43303\", element=\"02793d16-f6af-431c-aef8-41dd4104d60a\")>,\n",
       " <selenium.webdriver.remote.webelement.WebElement (session=\"9a6a68a55579660f1afcba3e54c43303\", element=\"5edc5ff1-2457-483c-b118-3c4005cc4285\")>,\n",
       " <selenium.webdriver.remote.webelement.WebElement (session=\"9a6a68a55579660f1afcba3e54c43303\", element=\"cdc9cf68-6335-494f-967b-7c172f590d4b\")>,\n",
       " <selenium.webdriver.remote.webelement.WebElement (session=\"9a6a68a55579660f1afcba3e54c43303\", element=\"ede83859-eeb7-4da4-8722-4ec8e85e4696\")>,\n",
       " <selenium.webdriver.remote.webelement.WebElement (session=\"9a6a68a55579660f1afcba3e54c43303\", element=\"b8193e5e-7f88-4c89-9780-c5c7187b0162\")>,\n",
       " <selenium.webdriver.remote.webelement.WebElement (session=\"9a6a68a55579660f1afcba3e54c43303\", element=\"3fadb69e-dabe-44a0-ad5d-aff4c61855e4\")>]"
      ]
     },
     "execution_count": 64,
     "metadata": {},
     "output_type": "execute_result"
    }
   ],
   "source": [
    "expirence"
   ]
  },
  {
   "cell_type": "code",
   "execution_count": 65,
   "id": "070daea4",
   "metadata": {},
   "outputs": [
    {
     "data": {
      "text/plain": [
       "['1-6 Yrs',\n",
       " '2-4 Yrs',\n",
       " '2-3 Yrs',\n",
       " '2-5 Yrs',\n",
       " '5-8 Yrs',\n",
       " '2-7 Yrs',\n",
       " '1-3 Yrs',\n",
       " '6-10 Yrs',\n",
       " '2-5 Yrs',\n",
       " '2-6 Yrs',\n",
       " '0-3 Yrs',\n",
       " '0-1 Yrs',\n",
       " '5-8 Yrs',\n",
       " '6-10 Yrs',\n",
       " '7-12 Yrs',\n",
       " '2-7 Yrs',\n",
       " '3-8 Yrs',\n",
       " '1-5 Yrs',\n",
       " '2-7 Yrs',\n",
       " '2-6 Yrs']"
      ]
     },
     "execution_count": 65,
     "metadata": {},
     "output_type": "execute_result"
    }
   ],
   "source": [
    "exp=[]\n",
    "for i in expirence:\n",
    "    exp.append(i.text)\n",
    "    \n",
    "exp "
   ]
  },
  {
   "cell_type": "code",
   "execution_count": 66,
   "id": "9ad95016",
   "metadata": {},
   "outputs": [],
   "source": [
    "df=pd.DataFrame({'Job-Title':job_titles,'Job-Location':loc,'Company-Name':comp,'Expirence-required':exp})"
   ]
  },
  {
   "cell_type": "code",
   "execution_count": 67,
   "id": "59ea8f1c",
   "metadata": {},
   "outputs": [
    {
     "data": {
      "text/html": [
       "<div>\n",
       "<style scoped>\n",
       "    .dataframe tbody tr th:only-of-type {\n",
       "        vertical-align: middle;\n",
       "    }\n",
       "\n",
       "    .dataframe tbody tr th {\n",
       "        vertical-align: top;\n",
       "    }\n",
       "\n",
       "    .dataframe thead th {\n",
       "        text-align: right;\n",
       "    }\n",
       "</style>\n",
       "<table border=\"1\" class=\"dataframe\">\n",
       "  <thead>\n",
       "    <tr style=\"text-align: right;\">\n",
       "      <th></th>\n",
       "      <th>Job-Title</th>\n",
       "      <th>Job-Location</th>\n",
       "      <th>Company-Name</th>\n",
       "      <th>Expirence-required</th>\n",
       "    </tr>\n",
       "  </thead>\n",
       "  <tbody>\n",
       "    <tr>\n",
       "      <th>0</th>\n",
       "      <td>Hiring -Data Analyst, Business Analyst, MIS An...</td>\n",
       "      <td>Bangalore/Bengaluru</td>\n",
       "      <td>Flipkart</td>\n",
       "      <td>1-6 Yrs</td>\n",
       "    </tr>\n",
       "    <tr>\n",
       "      <th>1</th>\n",
       "      <td>Senior Data Analyst II</td>\n",
       "      <td>Bangalore/Bengaluru</td>\n",
       "      <td>Flipkart</td>\n",
       "      <td>2-4 Yrs</td>\n",
       "    </tr>\n",
       "    <tr>\n",
       "      <th>2</th>\n",
       "      <td>Senior Data Analyst</td>\n",
       "      <td>Bangalore/Bengaluru</td>\n",
       "      <td>Flipkart</td>\n",
       "      <td>2-3 Yrs</td>\n",
       "    </tr>\n",
       "    <tr>\n",
       "      <th>3</th>\n",
       "      <td>Business Analyst (Data Analyst role)</td>\n",
       "      <td>Mumbai, Hyderabad/Secunderabad, Pune, Chennai,...</td>\n",
       "      <td>Xpheno</td>\n",
       "      <td>2-5 Yrs</td>\n",
       "    </tr>\n",
       "    <tr>\n",
       "      <th>4</th>\n",
       "      <td>Senior Data Analyst</td>\n",
       "      <td>Remote</td>\n",
       "      <td>Liventus Technology Services</td>\n",
       "      <td>5-8 Yrs</td>\n",
       "    </tr>\n",
       "    <tr>\n",
       "      <th>5</th>\n",
       "      <td>Data Analyst</td>\n",
       "      <td>Bangalore/Bengaluru</td>\n",
       "      <td>Shell</td>\n",
       "      <td>2-7 Yrs</td>\n",
       "    </tr>\n",
       "    <tr>\n",
       "      <th>6</th>\n",
       "      <td>Consultant - Data Analyst</td>\n",
       "      <td>Bangalore/Bengaluru</td>\n",
       "      <td>Flipkart</td>\n",
       "      <td>1-3 Yrs</td>\n",
       "    </tr>\n",
       "    <tr>\n",
       "      <th>7</th>\n",
       "      <td>Senior Data Analyst</td>\n",
       "      <td>Bangalore/Bengaluru</td>\n",
       "      <td>Conviva</td>\n",
       "      <td>6-10 Yrs</td>\n",
       "    </tr>\n",
       "    <tr>\n",
       "      <th>8</th>\n",
       "      <td>Senior Analyst, Data Engineering</td>\n",
       "      <td>Bangalore/Bengaluru</td>\n",
       "      <td>Dell</td>\n",
       "      <td>2-5 Yrs</td>\n",
       "    </tr>\n",
       "    <tr>\n",
       "      <th>9</th>\n",
       "      <td>Business Data Analyst - MIS &amp; Reporting</td>\n",
       "      <td>Bangalore/Bengaluru</td>\n",
       "      <td>SHAND PIPE INDUSTRY PVT.LTD</td>\n",
       "      <td>2-6 Yrs</td>\n",
       "    </tr>\n",
       "    <tr>\n",
       "      <th>10</th>\n",
       "      <td>Statistician, Data Analyst, SPSS, M.Sc Statist...</td>\n",
       "      <td>New Delhi(Paschim Vihar +1), Bangalore/Bengalu...</td>\n",
       "      <td>The HR Bulb</td>\n",
       "      <td>0-3 Yrs</td>\n",
       "    </tr>\n",
       "    <tr>\n",
       "      <th>11</th>\n",
       "      <td>Analyst - Data Intelligence Group</td>\n",
       "      <td>Mumbai, Pune, Bangalore/Bengaluru</td>\n",
       "      <td>TresVista Financial</td>\n",
       "      <td>0-1 Yrs</td>\n",
       "    </tr>\n",
       "    <tr>\n",
       "      <th>12</th>\n",
       "      <td>Data Analyst</td>\n",
       "      <td>Bangalore/Bengaluru</td>\n",
       "      <td>Shell</td>\n",
       "      <td>5-8 Yrs</td>\n",
       "    </tr>\n",
       "    <tr>\n",
       "      <th>13</th>\n",
       "      <td>Business Analyst (Data Analyst)</td>\n",
       "      <td>Hyderabad/Secunderabad, Bangalore/Bengaluru, D...</td>\n",
       "      <td>Genpact</td>\n",
       "      <td>6-10 Yrs</td>\n",
       "    </tr>\n",
       "    <tr>\n",
       "      <th>14</th>\n",
       "      <td>Business Analyst/ Data Analyst- Capital Market...</td>\n",
       "      <td>Pune, Bangalore/Bengaluru</td>\n",
       "      <td>Genpact</td>\n",
       "      <td>7-12 Yrs</td>\n",
       "    </tr>\n",
       "    <tr>\n",
       "      <th>15</th>\n",
       "      <td>Data Analyst</td>\n",
       "      <td>Bangalore/Bengaluru</td>\n",
       "      <td>McAfee</td>\n",
       "      <td>2-7 Yrs</td>\n",
       "    </tr>\n",
       "    <tr>\n",
       "      <th>16</th>\n",
       "      <td>Senior Analyst Data Engineering</td>\n",
       "      <td>Bangalore/Bengaluru</td>\n",
       "      <td>Dell</td>\n",
       "      <td>3-8 Yrs</td>\n",
       "    </tr>\n",
       "    <tr>\n",
       "      <th>17</th>\n",
       "      <td>Data Analyst</td>\n",
       "      <td>Bangalore/Bengaluru</td>\n",
       "      <td>Vedantu Innovations</td>\n",
       "      <td>1-5 Yrs</td>\n",
       "    </tr>\n",
       "    <tr>\n",
       "      <th>18</th>\n",
       "      <td>Success Operations , Data Analyst</td>\n",
       "      <td>Bangalore/Bengaluru</td>\n",
       "      <td>Sense Talent Labs</td>\n",
       "      <td>2-7 Yrs</td>\n",
       "    </tr>\n",
       "    <tr>\n",
       "      <th>19</th>\n",
       "      <td>Data Analyst</td>\n",
       "      <td>Pune, Gurgaon/Gurugram, Chennai, Bangalore/Ben...</td>\n",
       "      <td>FedEx Express</td>\n",
       "      <td>2-6 Yrs</td>\n",
       "    </tr>\n",
       "  </tbody>\n",
       "</table>\n",
       "</div>"
      ],
      "text/plain": [
       "                                            Job-Title  \\\n",
       "0   Hiring -Data Analyst, Business Analyst, MIS An...   \n",
       "1                              Senior Data Analyst II   \n",
       "2                                 Senior Data Analyst   \n",
       "3                Business Analyst (Data Analyst role)   \n",
       "4                                 Senior Data Analyst   \n",
       "5                                        Data Analyst   \n",
       "6                           Consultant - Data Analyst   \n",
       "7                                 Senior Data Analyst   \n",
       "8                    Senior Analyst, Data Engineering   \n",
       "9             Business Data Analyst - MIS & Reporting   \n",
       "10  Statistician, Data Analyst, SPSS, M.Sc Statist...   \n",
       "11                  Analyst - Data Intelligence Group   \n",
       "12                                       Data Analyst   \n",
       "13                    Business Analyst (Data Analyst)   \n",
       "14  Business Analyst/ Data Analyst- Capital Market...   \n",
       "15                                       Data Analyst   \n",
       "16                    Senior Analyst Data Engineering   \n",
       "17                                       Data Analyst   \n",
       "18                  Success Operations , Data Analyst   \n",
       "19                                       Data Analyst   \n",
       "\n",
       "                                         Job-Location  \\\n",
       "0                                 Bangalore/Bengaluru   \n",
       "1                                 Bangalore/Bengaluru   \n",
       "2                                 Bangalore/Bengaluru   \n",
       "3   Mumbai, Hyderabad/Secunderabad, Pune, Chennai,...   \n",
       "4                                              Remote   \n",
       "5                                 Bangalore/Bengaluru   \n",
       "6                                 Bangalore/Bengaluru   \n",
       "7                                 Bangalore/Bengaluru   \n",
       "8                                 Bangalore/Bengaluru   \n",
       "9                                 Bangalore/Bengaluru   \n",
       "10  New Delhi(Paschim Vihar +1), Bangalore/Bengalu...   \n",
       "11                  Mumbai, Pune, Bangalore/Bengaluru   \n",
       "12                                Bangalore/Bengaluru   \n",
       "13  Hyderabad/Secunderabad, Bangalore/Bengaluru, D...   \n",
       "14                          Pune, Bangalore/Bengaluru   \n",
       "15                                Bangalore/Bengaluru   \n",
       "16                                Bangalore/Bengaluru   \n",
       "17                                Bangalore/Bengaluru   \n",
       "18                                Bangalore/Bengaluru   \n",
       "19  Pune, Gurgaon/Gurugram, Chennai, Bangalore/Ben...   \n",
       "\n",
       "                    Company-Name Expirence-required  \n",
       "0                       Flipkart            1-6 Yrs  \n",
       "1                       Flipkart            2-4 Yrs  \n",
       "2                       Flipkart            2-3 Yrs  \n",
       "3                         Xpheno            2-5 Yrs  \n",
       "4   Liventus Technology Services            5-8 Yrs  \n",
       "5                          Shell            2-7 Yrs  \n",
       "6                       Flipkart            1-3 Yrs  \n",
       "7                        Conviva           6-10 Yrs  \n",
       "8                           Dell            2-5 Yrs  \n",
       "9    SHAND PIPE INDUSTRY PVT.LTD            2-6 Yrs  \n",
       "10                   The HR Bulb            0-3 Yrs  \n",
       "11           TresVista Financial            0-1 Yrs  \n",
       "12                         Shell            5-8 Yrs  \n",
       "13                       Genpact           6-10 Yrs  \n",
       "14                       Genpact           7-12 Yrs  \n",
       "15                        McAfee            2-7 Yrs  \n",
       "16                          Dell            3-8 Yrs  \n",
       "17           Vedantu Innovations            1-5 Yrs  \n",
       "18             Sense Talent Labs            2-7 Yrs  \n",
       "19                 FedEx Express            2-6 Yrs  "
      ]
     },
     "execution_count": 67,
     "metadata": {},
     "output_type": "execute_result"
    }
   ],
   "source": [
    "df"
   ]
  },
  {
   "cell_type": "markdown",
   "id": "66453c7b",
   "metadata": {},
   "source": [
    "# Q2: Write a python program to scrape data for “Data Scientist” Job position in “Bangalore” location. You\n",
    "have to scrape the job-title, job-location, company_name. You have to scrape first 10 jobs data."
   ]
  },
  {
   "cell_type": "code",
   "execution_count": 79,
   "id": "2202898c",
   "metadata": {},
   "outputs": [],
   "source": [
    "driver1=webdriver.Chrome('chromedriver.exe')"
   ]
  },
  {
   "cell_type": "code",
   "execution_count": 80,
   "id": "cf055142",
   "metadata": {},
   "outputs": [],
   "source": [
    "url1='https://www.naukri.com/'\n",
    "driver1.get(url1)"
   ]
  },
  {
   "cell_type": "code",
   "execution_count": 81,
   "id": "df20afc4",
   "metadata": {},
   "outputs": [
    {
     "data": {
      "text/plain": [
       "<selenium.webdriver.remote.webelement.WebElement (session=\"06ccfa35c8b33c5c9069163f4f0577a0\", element=\"cdf90605-ceb3-4669-88c6-364ce8d5a127\")>"
      ]
     },
     "execution_count": 81,
     "metadata": {},
     "output_type": "execute_result"
    }
   ],
   "source": [
    "srh_job1=driver1.find_element_by_class_name('suggestor-input ')\n",
    "srh_job1"
   ]
  },
  {
   "cell_type": "code",
   "execution_count": 82,
   "id": "f42a527a",
   "metadata": {},
   "outputs": [],
   "source": [
    "srh_job1.send_keys('Data Scientist')"
   ]
  },
  {
   "cell_type": "code",
   "execution_count": 87,
   "id": "588f1de8",
   "metadata": {},
   "outputs": [],
   "source": [
    "loc_job1=driver1.find_element_by_xpath('/html/body/div/div[2]/div[3]/div/div/div[3]/div/div/div/input')"
   ]
  },
  {
   "cell_type": "code",
   "execution_count": 88,
   "id": "c4040d70",
   "metadata": {},
   "outputs": [],
   "source": [
    "loc_job1.send_keys('Banglore')\n"
   ]
  },
  {
   "cell_type": "code",
   "execution_count": 89,
   "id": "6dc37edb",
   "metadata": {},
   "outputs": [],
   "source": [
    "srh_btn1=driver1.find_element_by_class_name('qsbSubmit')\n",
    "srh_btn1.click()"
   ]
  },
  {
   "cell_type": "code",
   "execution_count": 90,
   "id": "78c285e1",
   "metadata": {},
   "outputs": [],
   "source": [
    "job_tags1=driver1.find_elements_by_xpath('//a[@class=\"title fw500 ellipsis\"]')\n"
   ]
  },
  {
   "cell_type": "code",
   "execution_count": 91,
   "id": "f30e012c",
   "metadata": {},
   "outputs": [
    {
     "data": {
      "text/plain": [
       "[<selenium.webdriver.remote.webelement.WebElement (session=\"06ccfa35c8b33c5c9069163f4f0577a0\", element=\"ddee277d-b39c-4ea7-a8b4-66bf72669023\")>,\n",
       " <selenium.webdriver.remote.webelement.WebElement (session=\"06ccfa35c8b33c5c9069163f4f0577a0\", element=\"2bdfe24d-69a7-4bad-ba32-35aed5c52ae4\")>,\n",
       " <selenium.webdriver.remote.webelement.WebElement (session=\"06ccfa35c8b33c5c9069163f4f0577a0\", element=\"5a8a98ea-f8a9-4b97-855f-9799f53de84e\")>,\n",
       " <selenium.webdriver.remote.webelement.WebElement (session=\"06ccfa35c8b33c5c9069163f4f0577a0\", element=\"042d52d0-3a3b-4dbc-b18f-33d19b3412d6\")>,\n",
       " <selenium.webdriver.remote.webelement.WebElement (session=\"06ccfa35c8b33c5c9069163f4f0577a0\", element=\"08bfc242-1c39-4a40-bc63-5a317cde50fb\")>,\n",
       " <selenium.webdriver.remote.webelement.WebElement (session=\"06ccfa35c8b33c5c9069163f4f0577a0\", element=\"142e000a-45f0-4dc1-85d8-a96b3e50b1b7\")>,\n",
       " <selenium.webdriver.remote.webelement.WebElement (session=\"06ccfa35c8b33c5c9069163f4f0577a0\", element=\"c626d80d-0a3d-4487-9de5-a41ef3b0c0be\")>,\n",
       " <selenium.webdriver.remote.webelement.WebElement (session=\"06ccfa35c8b33c5c9069163f4f0577a0\", element=\"8d5943d0-af5a-41c1-8ac0-b5a23a86cfbb\")>,\n",
       " <selenium.webdriver.remote.webelement.WebElement (session=\"06ccfa35c8b33c5c9069163f4f0577a0\", element=\"5188f5a0-7428-4a23-8364-514bc617b704\")>,\n",
       " <selenium.webdriver.remote.webelement.WebElement (session=\"06ccfa35c8b33c5c9069163f4f0577a0\", element=\"adb49d21-7500-426c-bba0-206083791c24\")>,\n",
       " <selenium.webdriver.remote.webelement.WebElement (session=\"06ccfa35c8b33c5c9069163f4f0577a0\", element=\"eeca852f-23c3-4a15-a3c3-f2cd548eff4a\")>,\n",
       " <selenium.webdriver.remote.webelement.WebElement (session=\"06ccfa35c8b33c5c9069163f4f0577a0\", element=\"82ccd30b-5e5f-47af-8cfa-90c7e2821db5\")>,\n",
       " <selenium.webdriver.remote.webelement.WebElement (session=\"06ccfa35c8b33c5c9069163f4f0577a0\", element=\"31bacb73-29cb-4ab0-b268-110696878385\")>,\n",
       " <selenium.webdriver.remote.webelement.WebElement (session=\"06ccfa35c8b33c5c9069163f4f0577a0\", element=\"51be88e7-286b-4690-930a-76b218b46b1e\")>,\n",
       " <selenium.webdriver.remote.webelement.WebElement (session=\"06ccfa35c8b33c5c9069163f4f0577a0\", element=\"58384293-803f-4aad-a663-d7c9e59647c2\")>,\n",
       " <selenium.webdriver.remote.webelement.WebElement (session=\"06ccfa35c8b33c5c9069163f4f0577a0\", element=\"5eddc732-5867-4187-8338-69e491213863\")>,\n",
       " <selenium.webdriver.remote.webelement.WebElement (session=\"06ccfa35c8b33c5c9069163f4f0577a0\", element=\"455438a8-b8ea-4697-ba9a-7d24b4180b48\")>,\n",
       " <selenium.webdriver.remote.webelement.WebElement (session=\"06ccfa35c8b33c5c9069163f4f0577a0\", element=\"9c278ce4-8f29-4d25-950e-5dd08b2f66bf\")>,\n",
       " <selenium.webdriver.remote.webelement.WebElement (session=\"06ccfa35c8b33c5c9069163f4f0577a0\", element=\"808de7ae-5fe5-497b-aac5-61b84d0473ef\")>,\n",
       " <selenium.webdriver.remote.webelement.WebElement (session=\"06ccfa35c8b33c5c9069163f4f0577a0\", element=\"60967c0c-a257-4c59-88ed-380ffd7db8ce\")>]"
      ]
     },
     "execution_count": 91,
     "metadata": {},
     "output_type": "execute_result"
    }
   ],
   "source": [
    "job_tags1"
   ]
  },
  {
   "cell_type": "code",
   "execution_count": 92,
   "id": "cc44b7af",
   "metadata": {},
   "outputs": [
    {
     "data": {
      "text/plain": [
       "20"
      ]
     },
     "execution_count": 92,
     "metadata": {},
     "output_type": "execute_result"
    }
   ],
   "source": [
    "len(job_tags1)"
   ]
  },
  {
   "cell_type": "code",
   "execution_count": 93,
   "id": "ec6f1075",
   "metadata": {},
   "outputs": [
    {
     "data": {
      "text/plain": [
       "['Data Scientist / Analyst',\n",
       " 'Senior Risk Data Scientist',\n",
       " 'Data Scientist: Advanced Analytics',\n",
       " 'Data Scientist: Advanced Analytics',\n",
       " 'Global Tax Automation & Operations / Data Scientist Advisor',\n",
       " 'Data Scientist',\n",
       " 'Data Scientist: Artificial Intelligence',\n",
       " 'Data Scientist: Artificial Intelligence',\n",
       " 'Senior Data Scientist - Advanced Analytics',\n",
       " 'Senior Data Scientist',\n",
       " 'Senior Data Scientist',\n",
       " 'Senior - Data Scientist',\n",
       " 'Sr Applied Data Scientist',\n",
       " 'Data Scientist Openings with AT&T',\n",
       " 'Lead Data Scientist required For CU Rise Analytics',\n",
       " 'Senior Data Scientist',\n",
       " 'Data Scientist - Lead / Architect - Looking For Early Joiners - Wipro',\n",
       " 'Lead Data Scientist',\n",
       " 'Staff Data Scientist',\n",
       " 'Data Scientist']"
      ]
     },
     "execution_count": 93,
     "metadata": {},
     "output_type": "execute_result"
    }
   ],
   "source": [
    "job_titles1=[]\n",
    "for i in job_tags1:\n",
    "    job_titles1.append(i.text)\n",
    "    \n",
    "job_titles1   "
   ]
  },
  {
   "cell_type": "code",
   "execution_count": 94,
   "id": "11b2b252",
   "metadata": {},
   "outputs": [],
   "source": [
    "job_loc=driver1.find_elements_by_xpath('//li[@class=\"fleft grey-text br2 placeHolderLi location\"]')"
   ]
  },
  {
   "cell_type": "code",
   "execution_count": 95,
   "id": "628b0d37",
   "metadata": {},
   "outputs": [
    {
     "data": {
      "text/plain": [
       "[<selenium.webdriver.remote.webelement.WebElement (session=\"06ccfa35c8b33c5c9069163f4f0577a0\", element=\"e7943999-9d2d-450e-9f4a-e30dff9f6959\")>,\n",
       " <selenium.webdriver.remote.webelement.WebElement (session=\"06ccfa35c8b33c5c9069163f4f0577a0\", element=\"74502d7c-1c55-45ee-a869-2f362fac5269\")>,\n",
       " <selenium.webdriver.remote.webelement.WebElement (session=\"06ccfa35c8b33c5c9069163f4f0577a0\", element=\"a7683109-dc3e-4fc3-88d6-d430ce890144\")>,\n",
       " <selenium.webdriver.remote.webelement.WebElement (session=\"06ccfa35c8b33c5c9069163f4f0577a0\", element=\"45674afe-4b39-4904-b350-208a333c83bc\")>,\n",
       " <selenium.webdriver.remote.webelement.WebElement (session=\"06ccfa35c8b33c5c9069163f4f0577a0\", element=\"77d269fe-f8dc-48c6-92ea-e83c774f70e1\")>,\n",
       " <selenium.webdriver.remote.webelement.WebElement (session=\"06ccfa35c8b33c5c9069163f4f0577a0\", element=\"695abfed-50a3-4ff4-95b2-9398c7af83da\")>,\n",
       " <selenium.webdriver.remote.webelement.WebElement (session=\"06ccfa35c8b33c5c9069163f4f0577a0\", element=\"9b88ba31-6b94-4ee2-b1aa-c083edd7490c\")>,\n",
       " <selenium.webdriver.remote.webelement.WebElement (session=\"06ccfa35c8b33c5c9069163f4f0577a0\", element=\"5c209c4f-4b97-4916-af10-acc677b621a8\")>,\n",
       " <selenium.webdriver.remote.webelement.WebElement (session=\"06ccfa35c8b33c5c9069163f4f0577a0\", element=\"9a24f5c3-eb00-4e94-a1c4-09757beccbf5\")>,\n",
       " <selenium.webdriver.remote.webelement.WebElement (session=\"06ccfa35c8b33c5c9069163f4f0577a0\", element=\"2f9cfe09-db04-4de4-af0b-9b02ecd2af9a\")>,\n",
       " <selenium.webdriver.remote.webelement.WebElement (session=\"06ccfa35c8b33c5c9069163f4f0577a0\", element=\"3029bced-dcb7-4e81-87ef-92bea383a082\")>,\n",
       " <selenium.webdriver.remote.webelement.WebElement (session=\"06ccfa35c8b33c5c9069163f4f0577a0\", element=\"5e44c8e5-92f8-46f0-97f9-db69b57e6d51\")>,\n",
       " <selenium.webdriver.remote.webelement.WebElement (session=\"06ccfa35c8b33c5c9069163f4f0577a0\", element=\"c474fe6b-cf79-439b-92bf-39cc579cda11\")>,\n",
       " <selenium.webdriver.remote.webelement.WebElement (session=\"06ccfa35c8b33c5c9069163f4f0577a0\", element=\"f03579a4-ff75-4f65-86b4-ea348eb5e88e\")>,\n",
       " <selenium.webdriver.remote.webelement.WebElement (session=\"06ccfa35c8b33c5c9069163f4f0577a0\", element=\"6147f0ed-3f8d-498e-bb35-08c2183687f7\")>,\n",
       " <selenium.webdriver.remote.webelement.WebElement (session=\"06ccfa35c8b33c5c9069163f4f0577a0\", element=\"22763fb8-fefe-40c1-9269-90c6a975d89f\")>,\n",
       " <selenium.webdriver.remote.webelement.WebElement (session=\"06ccfa35c8b33c5c9069163f4f0577a0\", element=\"5d2ec033-09d5-47d6-a323-b826c986c750\")>,\n",
       " <selenium.webdriver.remote.webelement.WebElement (session=\"06ccfa35c8b33c5c9069163f4f0577a0\", element=\"a590f4b0-5f3a-4c13-ac4a-32925e451383\")>,\n",
       " <selenium.webdriver.remote.webelement.WebElement (session=\"06ccfa35c8b33c5c9069163f4f0577a0\", element=\"95796d3d-1c70-4790-bea6-1123d0d09ef2\")>,\n",
       " <selenium.webdriver.remote.webelement.WebElement (session=\"06ccfa35c8b33c5c9069163f4f0577a0\", element=\"895cae01-2de2-45c8-ba19-3977f44ffd12\")>]"
      ]
     },
     "execution_count": 95,
     "metadata": {},
     "output_type": "execute_result"
    }
   ],
   "source": [
    "job_loc"
   ]
  },
  {
   "cell_type": "code",
   "execution_count": 96,
   "id": "e5704524",
   "metadata": {},
   "outputs": [
    {
     "data": {
      "text/plain": [
       "['Hyderabad/Secunderabad, Bangalore/Bengaluru, Delhi / NCR',\n",
       " 'Bangalore/Bengaluru',\n",
       " 'Bangalore/Bengaluru',\n",
       " 'Bangalore/Bengaluru',\n",
       " 'Bangalore/Bengaluru',\n",
       " 'Bangalore/Bengaluru',\n",
       " 'Bangalore/Bengaluru',\n",
       " 'Bangalore/Bengaluru',\n",
       " 'Bangalore/Bengaluru',\n",
       " 'Bangalore/Bengaluru',\n",
       " 'Bangalore/Bengaluru',\n",
       " 'Bangalore/Bengaluru',\n",
       " 'Bangalore/Bengaluru',\n",
       " 'Bangalore/Bengaluru(Whitefield)',\n",
       " 'Ahmedabad, Bangalore/Bengaluru',\n",
       " 'Bangalore/Bengaluru',\n",
       " 'Kochi/Cochin, Kolkata, Pune, Gurgaon/Gurugram, Chennai, Coimbatore, Bangalore/Bengaluru, Mumbai (All Areas), Hyderabad',\n",
       " 'Bangalore/Bengaluru',\n",
       " 'Bangalore/Bengaluru',\n",
       " 'Bangalore/Bengaluru']"
      ]
     },
     "execution_count": 96,
     "metadata": {},
     "output_type": "execute_result"
    }
   ],
   "source": [
    "job_loc1=[]\n",
    "for i in job_loc:\n",
    "    job_loc1.append(i.text)\n",
    "    \n",
    "job_loc1 "
   ]
  },
  {
   "cell_type": "code",
   "execution_count": 97,
   "id": "48a9f820",
   "metadata": {},
   "outputs": [],
   "source": [
    "comp_name=driver1.find_elements_by_xpath('//a[@class=\"subTitle ellipsis fleft\"]')"
   ]
  },
  {
   "cell_type": "code",
   "execution_count": 98,
   "id": "8cee6cfe",
   "metadata": {},
   "outputs": [
    {
     "data": {
      "text/plain": [
       "[<selenium.webdriver.remote.webelement.WebElement (session=\"06ccfa35c8b33c5c9069163f4f0577a0\", element=\"e72aac86-c22b-468c-b460-8e2080b29ff3\")>,\n",
       " <selenium.webdriver.remote.webelement.WebElement (session=\"06ccfa35c8b33c5c9069163f4f0577a0\", element=\"096f5136-a739-4c1e-9b68-1faba8c6a220\")>,\n",
       " <selenium.webdriver.remote.webelement.WebElement (session=\"06ccfa35c8b33c5c9069163f4f0577a0\", element=\"badb084e-9f46-4480-aef5-7c0b1f2aee06\")>,\n",
       " <selenium.webdriver.remote.webelement.WebElement (session=\"06ccfa35c8b33c5c9069163f4f0577a0\", element=\"c703bb62-8500-46f4-a3fb-a80092694ad1\")>,\n",
       " <selenium.webdriver.remote.webelement.WebElement (session=\"06ccfa35c8b33c5c9069163f4f0577a0\", element=\"1f7288d8-c796-422b-aa9b-0de3bc0a7fd9\")>,\n",
       " <selenium.webdriver.remote.webelement.WebElement (session=\"06ccfa35c8b33c5c9069163f4f0577a0\", element=\"2eccb066-5e71-42ee-b598-1fd2da81c1d8\")>,\n",
       " <selenium.webdriver.remote.webelement.WebElement (session=\"06ccfa35c8b33c5c9069163f4f0577a0\", element=\"adb626e1-6f0b-4810-ab2b-fefb55a12d01\")>,\n",
       " <selenium.webdriver.remote.webelement.WebElement (session=\"06ccfa35c8b33c5c9069163f4f0577a0\", element=\"47e135ed-33a6-4467-adbf-137ae968b034\")>,\n",
       " <selenium.webdriver.remote.webelement.WebElement (session=\"06ccfa35c8b33c5c9069163f4f0577a0\", element=\"4ba987b1-918c-4ee7-bba1-ebb8a84db055\")>,\n",
       " <selenium.webdriver.remote.webelement.WebElement (session=\"06ccfa35c8b33c5c9069163f4f0577a0\", element=\"9e40a100-6f5c-44bb-8844-f01f37570f17\")>,\n",
       " <selenium.webdriver.remote.webelement.WebElement (session=\"06ccfa35c8b33c5c9069163f4f0577a0\", element=\"273c6f4a-91b2-4113-aa89-fd5e4f134838\")>,\n",
       " <selenium.webdriver.remote.webelement.WebElement (session=\"06ccfa35c8b33c5c9069163f4f0577a0\", element=\"88c45713-554d-4251-80c5-1630114639c7\")>,\n",
       " <selenium.webdriver.remote.webelement.WebElement (session=\"06ccfa35c8b33c5c9069163f4f0577a0\", element=\"6c948d20-0341-4d85-83ab-20ff6c6f7bc7\")>,\n",
       " <selenium.webdriver.remote.webelement.WebElement (session=\"06ccfa35c8b33c5c9069163f4f0577a0\", element=\"a82ba61f-b6fa-49b4-94a0-92b745ea9795\")>,\n",
       " <selenium.webdriver.remote.webelement.WebElement (session=\"06ccfa35c8b33c5c9069163f4f0577a0\", element=\"fcdc7c59-f720-4863-99d6-b059e9e9ab87\")>,\n",
       " <selenium.webdriver.remote.webelement.WebElement (session=\"06ccfa35c8b33c5c9069163f4f0577a0\", element=\"7c55d94f-363c-497b-a9a1-3199da1e9abb\")>,\n",
       " <selenium.webdriver.remote.webelement.WebElement (session=\"06ccfa35c8b33c5c9069163f4f0577a0\", element=\"62c403db-54f7-42ee-b684-a79399a4058d\")>,\n",
       " <selenium.webdriver.remote.webelement.WebElement (session=\"06ccfa35c8b33c5c9069163f4f0577a0\", element=\"2688862a-22e1-4d7d-8006-6a06ca095d7e\")>,\n",
       " <selenium.webdriver.remote.webelement.WebElement (session=\"06ccfa35c8b33c5c9069163f4f0577a0\", element=\"c413ab74-2e3d-4139-9c96-6de3a9af018c\")>,\n",
       " <selenium.webdriver.remote.webelement.WebElement (session=\"06ccfa35c8b33c5c9069163f4f0577a0\", element=\"5ba6a3c9-f6ff-46c8-950b-71afd4252051\")>]"
      ]
     },
     "execution_count": 98,
     "metadata": {},
     "output_type": "execute_result"
    }
   ],
   "source": [
    "comp_name"
   ]
  },
  {
   "cell_type": "code",
   "execution_count": 99,
   "id": "adfaf276",
   "metadata": {},
   "outputs": [
    {
     "data": {
      "text/plain": [
       "['Talentify',\n",
       " 'GSK India',\n",
       " 'IBM',\n",
       " 'IBM',\n",
       " 'Dell',\n",
       " 'IBM',\n",
       " 'IBM',\n",
       " 'IBM',\n",
       " 'Siemens',\n",
       " 'Walmart',\n",
       " 'Spiceworks',\n",
       " 'AT and T Global Business Services India P. Ltd.',\n",
       " 'Tesco Bengaluru',\n",
       " 'AT&T',\n",
       " 'CURise Analytics Pvt. Ltd. (A Trellance Company)',\n",
       " 'Inflexon Point',\n",
       " 'Wipro',\n",
       " 'Societe Generale',\n",
       " 'Walmart',\n",
       " 'Kinara Financial Private Limited']"
      ]
     },
     "execution_count": 99,
     "metadata": {},
     "output_type": "execute_result"
    }
   ],
   "source": [
    "comp_name1=[]\n",
    "for i in comp_name:\n",
    "    comp_name1.append(i.text)\n",
    "    \n",
    "comp_name1"
   ]
  },
  {
   "cell_type": "code",
   "execution_count": 100,
   "id": "d80a0cfe",
   "metadata": {},
   "outputs": [],
   "source": [
    "df=pd.DataFrame({'Job-Title':job_titles1,'Job-Location':job_loc1,'Company-Name':comp_name1})"
   ]
  },
  {
   "cell_type": "code",
   "execution_count": 101,
   "id": "36125a4d",
   "metadata": {},
   "outputs": [
    {
     "data": {
      "text/html": [
       "<div>\n",
       "<style scoped>\n",
       "    .dataframe tbody tr th:only-of-type {\n",
       "        vertical-align: middle;\n",
       "    }\n",
       "\n",
       "    .dataframe tbody tr th {\n",
       "        vertical-align: top;\n",
       "    }\n",
       "\n",
       "    .dataframe thead th {\n",
       "        text-align: right;\n",
       "    }\n",
       "</style>\n",
       "<table border=\"1\" class=\"dataframe\">\n",
       "  <thead>\n",
       "    <tr style=\"text-align: right;\">\n",
       "      <th></th>\n",
       "      <th>Job-Title</th>\n",
       "      <th>Job-Location</th>\n",
       "      <th>Company-Name</th>\n",
       "    </tr>\n",
       "  </thead>\n",
       "  <tbody>\n",
       "    <tr>\n",
       "      <th>0</th>\n",
       "      <td>Data Scientist / Analyst</td>\n",
       "      <td>Hyderabad/Secunderabad, Bangalore/Bengaluru, D...</td>\n",
       "      <td>Talentify</td>\n",
       "    </tr>\n",
       "    <tr>\n",
       "      <th>1</th>\n",
       "      <td>Senior Risk Data Scientist</td>\n",
       "      <td>Bangalore/Bengaluru</td>\n",
       "      <td>GSK India</td>\n",
       "    </tr>\n",
       "    <tr>\n",
       "      <th>2</th>\n",
       "      <td>Data Scientist: Advanced Analytics</td>\n",
       "      <td>Bangalore/Bengaluru</td>\n",
       "      <td>IBM</td>\n",
       "    </tr>\n",
       "    <tr>\n",
       "      <th>3</th>\n",
       "      <td>Data Scientist: Advanced Analytics</td>\n",
       "      <td>Bangalore/Bengaluru</td>\n",
       "      <td>IBM</td>\n",
       "    </tr>\n",
       "    <tr>\n",
       "      <th>4</th>\n",
       "      <td>Global Tax Automation &amp; Operations / Data Scie...</td>\n",
       "      <td>Bangalore/Bengaluru</td>\n",
       "      <td>Dell</td>\n",
       "    </tr>\n",
       "    <tr>\n",
       "      <th>5</th>\n",
       "      <td>Data Scientist</td>\n",
       "      <td>Bangalore/Bengaluru</td>\n",
       "      <td>IBM</td>\n",
       "    </tr>\n",
       "    <tr>\n",
       "      <th>6</th>\n",
       "      <td>Data Scientist: Artificial Intelligence</td>\n",
       "      <td>Bangalore/Bengaluru</td>\n",
       "      <td>IBM</td>\n",
       "    </tr>\n",
       "    <tr>\n",
       "      <th>7</th>\n",
       "      <td>Data Scientist: Artificial Intelligence</td>\n",
       "      <td>Bangalore/Bengaluru</td>\n",
       "      <td>IBM</td>\n",
       "    </tr>\n",
       "    <tr>\n",
       "      <th>8</th>\n",
       "      <td>Senior Data Scientist - Advanced Analytics</td>\n",
       "      <td>Bangalore/Bengaluru</td>\n",
       "      <td>Siemens</td>\n",
       "    </tr>\n",
       "    <tr>\n",
       "      <th>9</th>\n",
       "      <td>Senior Data Scientist</td>\n",
       "      <td>Bangalore/Bengaluru</td>\n",
       "      <td>Walmart</td>\n",
       "    </tr>\n",
       "    <tr>\n",
       "      <th>10</th>\n",
       "      <td>Senior Data Scientist</td>\n",
       "      <td>Bangalore/Bengaluru</td>\n",
       "      <td>Spiceworks</td>\n",
       "    </tr>\n",
       "    <tr>\n",
       "      <th>11</th>\n",
       "      <td>Senior - Data Scientist</td>\n",
       "      <td>Bangalore/Bengaluru</td>\n",
       "      <td>AT and T Global Business Services India P. Ltd.</td>\n",
       "    </tr>\n",
       "    <tr>\n",
       "      <th>12</th>\n",
       "      <td>Sr Applied Data Scientist</td>\n",
       "      <td>Bangalore/Bengaluru</td>\n",
       "      <td>Tesco Bengaluru</td>\n",
       "    </tr>\n",
       "    <tr>\n",
       "      <th>13</th>\n",
       "      <td>Data Scientist Openings with AT&amp;T</td>\n",
       "      <td>Bangalore/Bengaluru(Whitefield)</td>\n",
       "      <td>AT&amp;T</td>\n",
       "    </tr>\n",
       "    <tr>\n",
       "      <th>14</th>\n",
       "      <td>Lead Data Scientist required For CU Rise Analy...</td>\n",
       "      <td>Ahmedabad, Bangalore/Bengaluru</td>\n",
       "      <td>CURise Analytics Pvt. Ltd. (A Trellance Company)</td>\n",
       "    </tr>\n",
       "    <tr>\n",
       "      <th>15</th>\n",
       "      <td>Senior Data Scientist</td>\n",
       "      <td>Bangalore/Bengaluru</td>\n",
       "      <td>Inflexon Point</td>\n",
       "    </tr>\n",
       "    <tr>\n",
       "      <th>16</th>\n",
       "      <td>Data Scientist - Lead / Architect - Looking Fo...</td>\n",
       "      <td>Kochi/Cochin, Kolkata, Pune, Gurgaon/Gurugram,...</td>\n",
       "      <td>Wipro</td>\n",
       "    </tr>\n",
       "    <tr>\n",
       "      <th>17</th>\n",
       "      <td>Lead Data Scientist</td>\n",
       "      <td>Bangalore/Bengaluru</td>\n",
       "      <td>Societe Generale</td>\n",
       "    </tr>\n",
       "    <tr>\n",
       "      <th>18</th>\n",
       "      <td>Staff Data Scientist</td>\n",
       "      <td>Bangalore/Bengaluru</td>\n",
       "      <td>Walmart</td>\n",
       "    </tr>\n",
       "    <tr>\n",
       "      <th>19</th>\n",
       "      <td>Data Scientist</td>\n",
       "      <td>Bangalore/Bengaluru</td>\n",
       "      <td>Kinara Financial Private Limited</td>\n",
       "    </tr>\n",
       "  </tbody>\n",
       "</table>\n",
       "</div>"
      ],
      "text/plain": [
       "                                            Job-Title  \\\n",
       "0                            Data Scientist / Analyst   \n",
       "1                          Senior Risk Data Scientist   \n",
       "2                  Data Scientist: Advanced Analytics   \n",
       "3                  Data Scientist: Advanced Analytics   \n",
       "4   Global Tax Automation & Operations / Data Scie...   \n",
       "5                                      Data Scientist   \n",
       "6             Data Scientist: Artificial Intelligence   \n",
       "7             Data Scientist: Artificial Intelligence   \n",
       "8          Senior Data Scientist - Advanced Analytics   \n",
       "9                               Senior Data Scientist   \n",
       "10                              Senior Data Scientist   \n",
       "11                            Senior - Data Scientist   \n",
       "12                          Sr Applied Data Scientist   \n",
       "13                  Data Scientist Openings with AT&T   \n",
       "14  Lead Data Scientist required For CU Rise Analy...   \n",
       "15                              Senior Data Scientist   \n",
       "16  Data Scientist - Lead / Architect - Looking Fo...   \n",
       "17                                Lead Data Scientist   \n",
       "18                               Staff Data Scientist   \n",
       "19                                     Data Scientist   \n",
       "\n",
       "                                         Job-Location  \\\n",
       "0   Hyderabad/Secunderabad, Bangalore/Bengaluru, D...   \n",
       "1                                 Bangalore/Bengaluru   \n",
       "2                                 Bangalore/Bengaluru   \n",
       "3                                 Bangalore/Bengaluru   \n",
       "4                                 Bangalore/Bengaluru   \n",
       "5                                 Bangalore/Bengaluru   \n",
       "6                                 Bangalore/Bengaluru   \n",
       "7                                 Bangalore/Bengaluru   \n",
       "8                                 Bangalore/Bengaluru   \n",
       "9                                 Bangalore/Bengaluru   \n",
       "10                                Bangalore/Bengaluru   \n",
       "11                                Bangalore/Bengaluru   \n",
       "12                                Bangalore/Bengaluru   \n",
       "13                    Bangalore/Bengaluru(Whitefield)   \n",
       "14                     Ahmedabad, Bangalore/Bengaluru   \n",
       "15                                Bangalore/Bengaluru   \n",
       "16  Kochi/Cochin, Kolkata, Pune, Gurgaon/Gurugram,...   \n",
       "17                                Bangalore/Bengaluru   \n",
       "18                                Bangalore/Bengaluru   \n",
       "19                                Bangalore/Bengaluru   \n",
       "\n",
       "                                        Company-Name  \n",
       "0                                          Talentify  \n",
       "1                                          GSK India  \n",
       "2                                                IBM  \n",
       "3                                                IBM  \n",
       "4                                               Dell  \n",
       "5                                                IBM  \n",
       "6                                                IBM  \n",
       "7                                                IBM  \n",
       "8                                            Siemens  \n",
       "9                                            Walmart  \n",
       "10                                        Spiceworks  \n",
       "11   AT and T Global Business Services India P. Ltd.  \n",
       "12                                   Tesco Bengaluru  \n",
       "13                                              AT&T  \n",
       "14  CURise Analytics Pvt. Ltd. (A Trellance Company)  \n",
       "15                                    Inflexon Point  \n",
       "16                                             Wipro  \n",
       "17                                  Societe Generale  \n",
       "18                                           Walmart  \n",
       "19                  Kinara Financial Private Limited  "
      ]
     },
     "execution_count": 101,
     "metadata": {},
     "output_type": "execute_result"
    }
   ],
   "source": [
    "df"
   ]
  },
  {
   "cell_type": "markdown",
   "id": "ec520397",
   "metadata": {},
   "source": [
    "# Q3: In this question you have to scrape data using the filters available on the webpage as shown below"
   ]
  },
  {
   "cell_type": "code",
   "execution_count": 1,
   "id": "b5314517",
   "metadata": {},
   "outputs": [],
   "source": [
    "import pandas as pd \n",
    "import numpy as np\n",
    "from selenium import webdriver\n",
    "import warnings\n",
    "warnings.filterwarnings('ignore')"
   ]
  },
  {
   "cell_type": "code",
   "execution_count": 2,
   "id": "ba56fec3",
   "metadata": {},
   "outputs": [],
   "source": [
    "driver3=webdriver.Chrome('chromedriver.exe')"
   ]
  },
  {
   "cell_type": "code",
   "execution_count": 3,
   "id": "81dc3e29",
   "metadata": {},
   "outputs": [],
   "source": [
    "url3='https://www.naukri.com/'\n",
    "driver3.get(url3)"
   ]
  },
  {
   "cell_type": "code",
   "execution_count": 4,
   "id": "f3e6feff",
   "metadata": {},
   "outputs": [],
   "source": [
    "srh_job3=driver3.find_element_by_class_name('suggestor-input')"
   ]
  },
  {
   "cell_type": "code",
   "execution_count": 5,
   "id": "53f020dc",
   "metadata": {},
   "outputs": [
    {
     "data": {
      "text/plain": [
       "<selenium.webdriver.remote.webelement.WebElement (session=\"3e26bec56dae3d029db7e6efb042d17a\", element=\"65563d5f-355d-460e-a688-6a185c0261d8\")>"
      ]
     },
     "execution_count": 5,
     "metadata": {},
     "output_type": "execute_result"
    }
   ],
   "source": [
    "srh_job3"
   ]
  },
  {
   "cell_type": "code",
   "execution_count": 6,
   "id": "795a8853",
   "metadata": {},
   "outputs": [],
   "source": [
    "srh_job3.send_keys('Data Scientist')"
   ]
  },
  {
   "cell_type": "code",
   "execution_count": 8,
   "id": "ebd4b3b4",
   "metadata": {},
   "outputs": [],
   "source": [
    "srh_btn3=driver3.find_element_by_class_name('qsbSubmit')\n",
    "srh_btn3.click()"
   ]
  },
  {
   "cell_type": "code",
   "execution_count": 9,
   "id": "8e78c3db",
   "metadata": {},
   "outputs": [],
   "source": [
    "loc_filter=driver3.find_element_by_xpath('/html/body/div[1]/div[3]/div[2]/section[1]/div[2]/div[3]/div[2]/div[3]/label/p/span[2]')\n"
   ]
  },
  {
   "cell_type": "code",
   "execution_count": 10,
   "id": "468f5ee8",
   "metadata": {},
   "outputs": [],
   "source": [
    "loc_filter.click()"
   ]
  },
  {
   "cell_type": "code",
   "execution_count": 11,
   "id": "8c4f223b",
   "metadata": {},
   "outputs": [],
   "source": [
    "sal_filter=driver3.find_element_by_xpath('/html/body/div[1]/div[3]/div[2]/section[1]/div[2]/div[4]/div[2]/div[2]/label/p/span[1]')\n",
    "sal_filter.click()"
   ]
  },
  {
   "cell_type": "code",
   "execution_count": 12,
   "id": "d3817a5e",
   "metadata": {},
   "outputs": [],
   "source": [
    "job_tags2=driver3.find_elements_by_xpath('//a[@class=\"title fw500 ellipsis\"]')"
   ]
  },
  {
   "cell_type": "code",
   "execution_count": 13,
   "id": "1007e0f6",
   "metadata": {},
   "outputs": [
    {
     "data": {
      "text/plain": [
       "[<selenium.webdriver.remote.webelement.WebElement (session=\"3e26bec56dae3d029db7e6efb042d17a\", element=\"ee142094-c865-484a-b4c4-b4881da26c48\")>,\n",
       " <selenium.webdriver.remote.webelement.WebElement (session=\"3e26bec56dae3d029db7e6efb042d17a\", element=\"ca366f59-fe90-4c37-98ec-1e3e82723a3e\")>,\n",
       " <selenium.webdriver.remote.webelement.WebElement (session=\"3e26bec56dae3d029db7e6efb042d17a\", element=\"050d8ecd-e709-4d04-a094-9a5a376cb2ab\")>,\n",
       " <selenium.webdriver.remote.webelement.WebElement (session=\"3e26bec56dae3d029db7e6efb042d17a\", element=\"f24b5196-8c71-4fd2-8fff-cb5fef02976d\")>,\n",
       " <selenium.webdriver.remote.webelement.WebElement (session=\"3e26bec56dae3d029db7e6efb042d17a\", element=\"e3874fc9-8b36-44dd-8dc3-115e426f0996\")>,\n",
       " <selenium.webdriver.remote.webelement.WebElement (session=\"3e26bec56dae3d029db7e6efb042d17a\", element=\"35098f08-6e8d-4895-ba95-33bff485585a\")>,\n",
       " <selenium.webdriver.remote.webelement.WebElement (session=\"3e26bec56dae3d029db7e6efb042d17a\", element=\"b66f9b57-bfee-4e35-93b9-2e8991118b27\")>,\n",
       " <selenium.webdriver.remote.webelement.WebElement (session=\"3e26bec56dae3d029db7e6efb042d17a\", element=\"44d8d526-50a3-409d-b2df-51f35865c3ff\")>,\n",
       " <selenium.webdriver.remote.webelement.WebElement (session=\"3e26bec56dae3d029db7e6efb042d17a\", element=\"fdee457d-ecec-498c-a2cc-36bb9a497951\")>,\n",
       " <selenium.webdriver.remote.webelement.WebElement (session=\"3e26bec56dae3d029db7e6efb042d17a\", element=\"dbfc9da4-250e-49ff-ae95-d921be892773\")>,\n",
       " <selenium.webdriver.remote.webelement.WebElement (session=\"3e26bec56dae3d029db7e6efb042d17a\", element=\"afc2acab-91a5-4d3b-9924-6c6174f6eeda\")>,\n",
       " <selenium.webdriver.remote.webelement.WebElement (session=\"3e26bec56dae3d029db7e6efb042d17a\", element=\"8a6d0906-e0fb-495b-87a3-d4da2c032ee7\")>,\n",
       " <selenium.webdriver.remote.webelement.WebElement (session=\"3e26bec56dae3d029db7e6efb042d17a\", element=\"bec4294d-ce25-4d5c-9947-cbd43d97ecfb\")>,\n",
       " <selenium.webdriver.remote.webelement.WebElement (session=\"3e26bec56dae3d029db7e6efb042d17a\", element=\"6e7ddd5a-c4be-4938-b1af-8ae5a4cf0ced\")>,\n",
       " <selenium.webdriver.remote.webelement.WebElement (session=\"3e26bec56dae3d029db7e6efb042d17a\", element=\"f8438b6e-c8a9-453c-bf77-cf926acfbb92\")>,\n",
       " <selenium.webdriver.remote.webelement.WebElement (session=\"3e26bec56dae3d029db7e6efb042d17a\", element=\"e5cdd397-6651-4691-9c76-b4b6e703365c\")>,\n",
       " <selenium.webdriver.remote.webelement.WebElement (session=\"3e26bec56dae3d029db7e6efb042d17a\", element=\"7d675a4a-fa6e-459a-8e5d-0d00b6e65ba1\")>,\n",
       " <selenium.webdriver.remote.webelement.WebElement (session=\"3e26bec56dae3d029db7e6efb042d17a\", element=\"bf2495e8-72f6-44cb-95d9-73824c9376d6\")>,\n",
       " <selenium.webdriver.remote.webelement.WebElement (session=\"3e26bec56dae3d029db7e6efb042d17a\", element=\"94b948e1-f539-4491-bb0c-d8b370acee98\")>,\n",
       " <selenium.webdriver.remote.webelement.WebElement (session=\"3e26bec56dae3d029db7e6efb042d17a\", element=\"45a3103d-6525-40e9-91ef-ab91e478636d\")>]"
      ]
     },
     "execution_count": 13,
     "metadata": {},
     "output_type": "execute_result"
    }
   ],
   "source": [
    "job_tags2"
   ]
  },
  {
   "cell_type": "code",
   "execution_count": 14,
   "id": "52d15441",
   "metadata": {},
   "outputs": [
    {
     "data": {
      "text/plain": [
       "20"
      ]
     },
     "execution_count": 14,
     "metadata": {},
     "output_type": "execute_result"
    }
   ],
   "source": [
    "len(job_tags2)"
   ]
  },
  {
   "cell_type": "code",
   "execution_count": 15,
   "id": "c9adb61b",
   "metadata": {},
   "outputs": [
    {
     "data": {
      "text/plain": [
       "['Opening For Data Scientist',\n",
       " 'Data Scientist II',\n",
       " 'Data Scientist',\n",
       " 'Lead Data Scientist - KYC/Fraud/Marketing',\n",
       " 'Junior Data Scientist - Goods & Service Tax Network, Delhi',\n",
       " 'Associate Data Scientist - Java/ Scala/ Apache Server',\n",
       " 'Data Scientist',\n",
       " 'Data Scientist',\n",
       " 'Data Scientist / Senior DS/ Team Lead',\n",
       " 'Data Scientist | Python | Machine Learning | Deep Learning- Fresher']"
      ]
     },
     "execution_count": 15,
     "metadata": {},
     "output_type": "execute_result"
    }
   ],
   "source": [
    "job_head=[]\n",
    "for i in job_tags2:\n",
    "    job_head.append(i.text)\n",
    "    job_head=job_head[0:10]\n",
    "    \n",
    "job_head "
   ]
  },
  {
   "cell_type": "code",
   "execution_count": 16,
   "id": "ea7e509c",
   "metadata": {},
   "outputs": [],
   "source": [
    "job_loc3=driver3.find_elements_by_xpath('//li[@class=\"fleft grey-text br2 placeHolderLi location\"]')"
   ]
  },
  {
   "cell_type": "code",
   "execution_count": 17,
   "id": "14d079e5",
   "metadata": {},
   "outputs": [
    {
     "data": {
      "text/plain": [
       "[<selenium.webdriver.remote.webelement.WebElement (session=\"3e26bec56dae3d029db7e6efb042d17a\", element=\"ed7fe7e6-cb39-484e-be42-0e6743344f10\")>,\n",
       " <selenium.webdriver.remote.webelement.WebElement (session=\"3e26bec56dae3d029db7e6efb042d17a\", element=\"57bdb2a6-4688-4721-aa86-4198caf0ae61\")>,\n",
       " <selenium.webdriver.remote.webelement.WebElement (session=\"3e26bec56dae3d029db7e6efb042d17a\", element=\"b8d85a07-3de3-48f8-9a0b-82f0e6a079d7\")>,\n",
       " <selenium.webdriver.remote.webelement.WebElement (session=\"3e26bec56dae3d029db7e6efb042d17a\", element=\"6b8b7bb4-88e1-4fe6-8202-6fa9fe16f4c9\")>,\n",
       " <selenium.webdriver.remote.webelement.WebElement (session=\"3e26bec56dae3d029db7e6efb042d17a\", element=\"04e1e34c-7d85-4caf-9c7d-2553e6a5273a\")>,\n",
       " <selenium.webdriver.remote.webelement.WebElement (session=\"3e26bec56dae3d029db7e6efb042d17a\", element=\"10a9fc18-6d28-4ae7-b946-76883ff24013\")>,\n",
       " <selenium.webdriver.remote.webelement.WebElement (session=\"3e26bec56dae3d029db7e6efb042d17a\", element=\"7936e64a-22b0-4fda-8b46-f091385d1263\")>,\n",
       " <selenium.webdriver.remote.webelement.WebElement (session=\"3e26bec56dae3d029db7e6efb042d17a\", element=\"33c1a798-9d0b-405d-ad30-929a7c51d59e\")>,\n",
       " <selenium.webdriver.remote.webelement.WebElement (session=\"3e26bec56dae3d029db7e6efb042d17a\", element=\"6fccf9df-bf5e-462f-97aa-c98e4dc60520\")>,\n",
       " <selenium.webdriver.remote.webelement.WebElement (session=\"3e26bec56dae3d029db7e6efb042d17a\", element=\"7fdea33f-697c-4b82-b8c5-d646bb9a216a\")>,\n",
       " <selenium.webdriver.remote.webelement.WebElement (session=\"3e26bec56dae3d029db7e6efb042d17a\", element=\"53613e81-6eb0-46d0-81e0-daf480e7f75b\")>,\n",
       " <selenium.webdriver.remote.webelement.WebElement (session=\"3e26bec56dae3d029db7e6efb042d17a\", element=\"eaf235d8-428f-4819-b4ee-07b52b1f83ce\")>,\n",
       " <selenium.webdriver.remote.webelement.WebElement (session=\"3e26bec56dae3d029db7e6efb042d17a\", element=\"999cbe68-4020-4b4c-9baf-a9967388ce8c\")>,\n",
       " <selenium.webdriver.remote.webelement.WebElement (session=\"3e26bec56dae3d029db7e6efb042d17a\", element=\"51fa27dc-405c-4824-88e4-0f6bd8b59f12\")>,\n",
       " <selenium.webdriver.remote.webelement.WebElement (session=\"3e26bec56dae3d029db7e6efb042d17a\", element=\"4b39e2ff-1ce8-4d74-bb70-92ddae05ea07\")>,\n",
       " <selenium.webdriver.remote.webelement.WebElement (session=\"3e26bec56dae3d029db7e6efb042d17a\", element=\"d655b67c-dc57-4586-acc1-a0928fccb0a3\")>,\n",
       " <selenium.webdriver.remote.webelement.WebElement (session=\"3e26bec56dae3d029db7e6efb042d17a\", element=\"5c2c2485-ff14-49f1-a1fd-a7f683eb257f\")>,\n",
       " <selenium.webdriver.remote.webelement.WebElement (session=\"3e26bec56dae3d029db7e6efb042d17a\", element=\"f117350b-9ac3-4dc4-8321-6e140e988f48\")>,\n",
       " <selenium.webdriver.remote.webelement.WebElement (session=\"3e26bec56dae3d029db7e6efb042d17a\", element=\"2076d9c6-4f32-46a3-8ad3-aa650ff642eb\")>,\n",
       " <selenium.webdriver.remote.webelement.WebElement (session=\"3e26bec56dae3d029db7e6efb042d17a\", element=\"ba67220e-8674-4cf7-be09-c657883c7a19\")>]"
      ]
     },
     "execution_count": 17,
     "metadata": {},
     "output_type": "execute_result"
    }
   ],
   "source": [
    "job_loc3"
   ]
  },
  {
   "cell_type": "code",
   "execution_count": 18,
   "id": "d19bb8f6",
   "metadata": {},
   "outputs": [
    {
     "data": {
      "text/plain": [
       "20"
      ]
     },
     "execution_count": 18,
     "metadata": {},
     "output_type": "execute_result"
    }
   ],
   "source": [
    "len(job_loc3)"
   ]
  },
  {
   "cell_type": "code",
   "execution_count": 20,
   "id": "a6aebce0",
   "metadata": {},
   "outputs": [
    {
     "data": {
      "text/plain": [
       "['Gurgaon/Gurugram',\n",
       " 'Delhi / NCR',\n",
       " 'Noida',\n",
       " 'New Delhi',\n",
       " 'Delhi / NCR',\n",
       " 'Noida',\n",
       " 'Gurgaon/Gurugram\\n(WFH during Covid)',\n",
       " 'New Delhi',\n",
       " 'Mumbai, Gurgaon/Gurugram(Cyber City +1)',\n",
       " 'Noida, Gurgaon/Gurugram, Delhi / NCR']"
      ]
     },
     "execution_count": 20,
     "metadata": {},
     "output_type": "execute_result"
    }
   ],
   "source": [
    "job_location=[]\n",
    "for i in job_loc3:\n",
    "    job_location.append(i.text)\n",
    "    job_location=job_location[0:10]\n",
    "    \n",
    "job_location "
   ]
  },
  {
   "cell_type": "code",
   "execution_count": 23,
   "id": "4b17a9cc",
   "metadata": {},
   "outputs": [],
   "source": [
    "comp_name3=driver3.find_elements_by_xpath('//a[@class=\"subTitle ellipsis fleft\"]')"
   ]
  },
  {
   "cell_type": "code",
   "execution_count": 24,
   "id": "cd3c7b07",
   "metadata": {},
   "outputs": [
    {
     "data": {
      "text/plain": [
       "[<selenium.webdriver.remote.webelement.WebElement (session=\"3e26bec56dae3d029db7e6efb042d17a\", element=\"08130edd-0511-45fe-a78e-4ce5ef49c95c\")>,\n",
       " <selenium.webdriver.remote.webelement.WebElement (session=\"3e26bec56dae3d029db7e6efb042d17a\", element=\"79fc7f58-b921-4cac-8f9d-07dac868a160\")>,\n",
       " <selenium.webdriver.remote.webelement.WebElement (session=\"3e26bec56dae3d029db7e6efb042d17a\", element=\"e9eb8cc4-be4a-473d-bd95-ce2da0741988\")>,\n",
       " <selenium.webdriver.remote.webelement.WebElement (session=\"3e26bec56dae3d029db7e6efb042d17a\", element=\"28454502-7dcd-4da9-a434-66080a4a0f80\")>,\n",
       " <selenium.webdriver.remote.webelement.WebElement (session=\"3e26bec56dae3d029db7e6efb042d17a\", element=\"81806644-a5b0-41f5-a6b2-2209821064aa\")>,\n",
       " <selenium.webdriver.remote.webelement.WebElement (session=\"3e26bec56dae3d029db7e6efb042d17a\", element=\"ddb7b7ee-3e9c-4036-9042-3da740f597a7\")>,\n",
       " <selenium.webdriver.remote.webelement.WebElement (session=\"3e26bec56dae3d029db7e6efb042d17a\", element=\"c95b9116-82dd-4304-b0ff-d0f29e79915a\")>,\n",
       " <selenium.webdriver.remote.webelement.WebElement (session=\"3e26bec56dae3d029db7e6efb042d17a\", element=\"29ba3a69-e62f-4ade-a651-79be3fc2526e\")>,\n",
       " <selenium.webdriver.remote.webelement.WebElement (session=\"3e26bec56dae3d029db7e6efb042d17a\", element=\"1fc39d39-15b4-4d63-b5b3-67a6fe5175a6\")>,\n",
       " <selenium.webdriver.remote.webelement.WebElement (session=\"3e26bec56dae3d029db7e6efb042d17a\", element=\"6267c03a-764c-4791-a346-61c11f9412cb\")>,\n",
       " <selenium.webdriver.remote.webelement.WebElement (session=\"3e26bec56dae3d029db7e6efb042d17a\", element=\"ed1262a2-7509-48b1-91eb-8bd827ff2e1d\")>,\n",
       " <selenium.webdriver.remote.webelement.WebElement (session=\"3e26bec56dae3d029db7e6efb042d17a\", element=\"b753335d-5131-46e8-8c81-dd14f8b2ad0d\")>,\n",
       " <selenium.webdriver.remote.webelement.WebElement (session=\"3e26bec56dae3d029db7e6efb042d17a\", element=\"2db93291-004e-4681-9ce4-8fe5c37fd9ae\")>,\n",
       " <selenium.webdriver.remote.webelement.WebElement (session=\"3e26bec56dae3d029db7e6efb042d17a\", element=\"547bb0c1-556e-4bc6-a68d-37ec8bc92f2f\")>,\n",
       " <selenium.webdriver.remote.webelement.WebElement (session=\"3e26bec56dae3d029db7e6efb042d17a\", element=\"f0c379cd-920d-4c75-9677-3ce2508dc764\")>,\n",
       " <selenium.webdriver.remote.webelement.WebElement (session=\"3e26bec56dae3d029db7e6efb042d17a\", element=\"e1bb675c-c5c0-477a-ad72-5439a2f34cdc\")>,\n",
       " <selenium.webdriver.remote.webelement.WebElement (session=\"3e26bec56dae3d029db7e6efb042d17a\", element=\"06e17afe-2521-4162-bfcf-c59ab080851c\")>,\n",
       " <selenium.webdriver.remote.webelement.WebElement (session=\"3e26bec56dae3d029db7e6efb042d17a\", element=\"ce600390-e657-49c8-9cb6-4d31e8709457\")>,\n",
       " <selenium.webdriver.remote.webelement.WebElement (session=\"3e26bec56dae3d029db7e6efb042d17a\", element=\"2b1d0b77-ec9f-465a-b59c-c6cc6b867902\")>,\n",
       " <selenium.webdriver.remote.webelement.WebElement (session=\"3e26bec56dae3d029db7e6efb042d17a\", element=\"59153818-c7f4-438f-a2e1-eec00b1c2d9d\")>]"
      ]
     },
     "execution_count": 24,
     "metadata": {},
     "output_type": "execute_result"
    }
   ],
   "source": [
    "comp_name3"
   ]
  },
  {
   "cell_type": "code",
   "execution_count": 25,
   "id": "d18c9fe0",
   "metadata": {},
   "outputs": [
    {
     "data": {
      "text/plain": [
       "20"
      ]
     },
     "execution_count": 25,
     "metadata": {},
     "output_type": "execute_result"
    }
   ],
   "source": [
    "len(comp_name3)"
   ]
  },
  {
   "cell_type": "code",
   "execution_count": 26,
   "id": "756f2516",
   "metadata": {},
   "outputs": [
    {
     "data": {
      "text/plain": [
       "['Care Health Insurance',\n",
       " 'Chegg',\n",
       " 'Stefanini',\n",
       " 'Tide Software',\n",
       " 'NISG (National Institute for Smart Government)',\n",
       " 'Smart work Consultants',\n",
       " 'Zekardo Automotive Solutions',\n",
       " 'Team Computers Pvt Ltd',\n",
       " 'NebulARC Technologies Private Limited',\n",
       " 'Schlesinger Group']"
      ]
     },
     "execution_count": 26,
     "metadata": {},
     "output_type": "execute_result"
    }
   ],
   "source": [
    "comp_location=[]\n",
    "for i in comp_name3:\n",
    "    comp_location.append(i.text)\n",
    "    comp_location=comp_location[0:10]\n",
    "    \n",
    "comp_location"
   ]
  },
  {
   "cell_type": "code",
   "execution_count": 28,
   "id": "b2bc3ff8",
   "metadata": {},
   "outputs": [
    {
     "data": {
      "text/plain": [
       "[<selenium.webdriver.remote.webelement.WebElement (session=\"3e26bec56dae3d029db7e6efb042d17a\", element=\"af83a436-462e-4ded-8eaa-3b68cadb6168\")>,\n",
       " <selenium.webdriver.remote.webelement.WebElement (session=\"3e26bec56dae3d029db7e6efb042d17a\", element=\"007d677f-4e4f-465d-ad13-31604874c5aa\")>,\n",
       " <selenium.webdriver.remote.webelement.WebElement (session=\"3e26bec56dae3d029db7e6efb042d17a\", element=\"45063f81-dd21-47cc-9c25-834f318fac76\")>,\n",
       " <selenium.webdriver.remote.webelement.WebElement (session=\"3e26bec56dae3d029db7e6efb042d17a\", element=\"ff8fbb4b-2f77-46f5-9035-dc3ca0ba9342\")>,\n",
       " <selenium.webdriver.remote.webelement.WebElement (session=\"3e26bec56dae3d029db7e6efb042d17a\", element=\"87323529-0cc1-470a-a9dc-fe091eb7a404\")>,\n",
       " <selenium.webdriver.remote.webelement.WebElement (session=\"3e26bec56dae3d029db7e6efb042d17a\", element=\"a788e751-94ad-4fd0-ba4b-f5f4b4ea102a\")>,\n",
       " <selenium.webdriver.remote.webelement.WebElement (session=\"3e26bec56dae3d029db7e6efb042d17a\", element=\"86aaff52-174e-4723-aefe-ac4b94b9dbe9\")>,\n",
       " <selenium.webdriver.remote.webelement.WebElement (session=\"3e26bec56dae3d029db7e6efb042d17a\", element=\"8a1a02bb-50d4-4cce-8609-65ceb0a48500\")>,\n",
       " <selenium.webdriver.remote.webelement.WebElement (session=\"3e26bec56dae3d029db7e6efb042d17a\", element=\"6978e3d3-a6bc-47f0-add4-612a9e0a38d6\")>,\n",
       " <selenium.webdriver.remote.webelement.WebElement (session=\"3e26bec56dae3d029db7e6efb042d17a\", element=\"6c8c24e1-5bfa-4730-afd9-df9396247d60\")>,\n",
       " <selenium.webdriver.remote.webelement.WebElement (session=\"3e26bec56dae3d029db7e6efb042d17a\", element=\"ca3a2cfb-bdf3-42fc-bdda-28f661215dba\")>,\n",
       " <selenium.webdriver.remote.webelement.WebElement (session=\"3e26bec56dae3d029db7e6efb042d17a\", element=\"dde9d36c-f407-438e-bca4-529ca73a27ec\")>,\n",
       " <selenium.webdriver.remote.webelement.WebElement (session=\"3e26bec56dae3d029db7e6efb042d17a\", element=\"b57bb05f-3167-4966-8948-0a05982cb688\")>,\n",
       " <selenium.webdriver.remote.webelement.WebElement (session=\"3e26bec56dae3d029db7e6efb042d17a\", element=\"3dc74578-7e5b-4225-9235-7e04ea22d84e\")>,\n",
       " <selenium.webdriver.remote.webelement.WebElement (session=\"3e26bec56dae3d029db7e6efb042d17a\", element=\"27a36b7e-d734-4bb9-8923-aa7fd1d2ad27\")>,\n",
       " <selenium.webdriver.remote.webelement.WebElement (session=\"3e26bec56dae3d029db7e6efb042d17a\", element=\"b10dd0ce-8bea-4d5f-a3cd-56d5dc8a8757\")>,\n",
       " <selenium.webdriver.remote.webelement.WebElement (session=\"3e26bec56dae3d029db7e6efb042d17a\", element=\"5ca8c7fb-379c-485d-be7f-903dda096f18\")>,\n",
       " <selenium.webdriver.remote.webelement.WebElement (session=\"3e26bec56dae3d029db7e6efb042d17a\", element=\"9f2b37d3-39c4-49f0-a3d0-416f82bd46de\")>,\n",
       " <selenium.webdriver.remote.webelement.WebElement (session=\"3e26bec56dae3d029db7e6efb042d17a\", element=\"2d60c788-34aa-40af-ad94-7d78ca285498\")>,\n",
       " <selenium.webdriver.remote.webelement.WebElement (session=\"3e26bec56dae3d029db7e6efb042d17a\", element=\"a376bcfb-3418-42ca-962a-76ff0573af33\")>]"
      ]
     },
     "execution_count": 28,
     "metadata": {},
     "output_type": "execute_result"
    }
   ],
   "source": [
    "expirence=driver3.find_elements_by_xpath('//span[contains(@title,\"Yrs\")]')\n",
    "expirence"
   ]
  },
  {
   "cell_type": "code",
   "execution_count": 29,
   "id": "c1e1e38f",
   "metadata": {},
   "outputs": [
    {
     "data": {
      "text/plain": [
       "20"
      ]
     },
     "execution_count": 29,
     "metadata": {},
     "output_type": "execute_result"
    }
   ],
   "source": [
    "len(expirence)"
   ]
  },
  {
   "cell_type": "code",
   "execution_count": 30,
   "id": "452652ce",
   "metadata": {},
   "outputs": [
    {
     "data": {
      "text/plain": [
       "['1-5 Yrs',\n",
       " '2-6 Yrs',\n",
       " '3-8 Yrs',\n",
       " '1-6 Yrs',\n",
       " '3-8 Yrs',\n",
       " '1-4 Yrs',\n",
       " '5-8 Yrs',\n",
       " '2-6 Yrs',\n",
       " '0-4 Yrs',\n",
       " '0-3 Yrs']"
      ]
     },
     "execution_count": 30,
     "metadata": {},
     "output_type": "execute_result"
    }
   ],
   "source": [
    "exp_req=[]\n",
    "for i in expirence:\n",
    "    exp_req.append(i.text)\n",
    "    exp_req=exp_req[0:10]\n",
    "    \n",
    "exp_req"
   ]
  },
  {
   "cell_type": "code",
   "execution_count": 31,
   "id": "ac4d9a1b",
   "metadata": {},
   "outputs": [],
   "source": [
    "df=pd.DataFrame({'Job-Title':job_head,'Job-Location':job_location,'Company-Name':comp_location,'Expirence-Required':exp_req})"
   ]
  },
  {
   "cell_type": "code",
   "execution_count": 32,
   "id": "c7ea37e4",
   "metadata": {},
   "outputs": [
    {
     "data": {
      "text/html": [
       "<div>\n",
       "<style scoped>\n",
       "    .dataframe tbody tr th:only-of-type {\n",
       "        vertical-align: middle;\n",
       "    }\n",
       "\n",
       "    .dataframe tbody tr th {\n",
       "        vertical-align: top;\n",
       "    }\n",
       "\n",
       "    .dataframe thead th {\n",
       "        text-align: right;\n",
       "    }\n",
       "</style>\n",
       "<table border=\"1\" class=\"dataframe\">\n",
       "  <thead>\n",
       "    <tr style=\"text-align: right;\">\n",
       "      <th></th>\n",
       "      <th>Job-Title</th>\n",
       "      <th>Job-Location</th>\n",
       "      <th>Company-Name</th>\n",
       "      <th>Expirence-Required</th>\n",
       "    </tr>\n",
       "  </thead>\n",
       "  <tbody>\n",
       "    <tr>\n",
       "      <th>0</th>\n",
       "      <td>Opening For Data Scientist</td>\n",
       "      <td>Gurgaon/Gurugram</td>\n",
       "      <td>Care Health Insurance</td>\n",
       "      <td>1-5 Yrs</td>\n",
       "    </tr>\n",
       "    <tr>\n",
       "      <th>1</th>\n",
       "      <td>Data Scientist II</td>\n",
       "      <td>Delhi / NCR</td>\n",
       "      <td>Chegg</td>\n",
       "      <td>2-6 Yrs</td>\n",
       "    </tr>\n",
       "    <tr>\n",
       "      <th>2</th>\n",
       "      <td>Data Scientist</td>\n",
       "      <td>Noida</td>\n",
       "      <td>Stefanini</td>\n",
       "      <td>3-8 Yrs</td>\n",
       "    </tr>\n",
       "    <tr>\n",
       "      <th>3</th>\n",
       "      <td>Lead Data Scientist - KYC/Fraud/Marketing</td>\n",
       "      <td>New Delhi</td>\n",
       "      <td>Tide Software</td>\n",
       "      <td>1-6 Yrs</td>\n",
       "    </tr>\n",
       "    <tr>\n",
       "      <th>4</th>\n",
       "      <td>Junior Data Scientist - Goods &amp; Service Tax Ne...</td>\n",
       "      <td>Delhi / NCR</td>\n",
       "      <td>NISG (National Institute for Smart Government)</td>\n",
       "      <td>3-8 Yrs</td>\n",
       "    </tr>\n",
       "    <tr>\n",
       "      <th>5</th>\n",
       "      <td>Associate Data Scientist - Java/ Scala/ Apache...</td>\n",
       "      <td>Noida</td>\n",
       "      <td>Smart work Consultants</td>\n",
       "      <td>1-4 Yrs</td>\n",
       "    </tr>\n",
       "    <tr>\n",
       "      <th>6</th>\n",
       "      <td>Data Scientist</td>\n",
       "      <td>Gurgaon/Gurugram\\n(WFH during Covid)</td>\n",
       "      <td>Zekardo Automotive Solutions</td>\n",
       "      <td>5-8 Yrs</td>\n",
       "    </tr>\n",
       "    <tr>\n",
       "      <th>7</th>\n",
       "      <td>Data Scientist</td>\n",
       "      <td>New Delhi</td>\n",
       "      <td>Team Computers Pvt Ltd</td>\n",
       "      <td>2-6 Yrs</td>\n",
       "    </tr>\n",
       "    <tr>\n",
       "      <th>8</th>\n",
       "      <td>Data Scientist / Senior DS/ Team Lead</td>\n",
       "      <td>Mumbai, Gurgaon/Gurugram(Cyber City +1)</td>\n",
       "      <td>NebulARC Technologies Private Limited</td>\n",
       "      <td>0-4 Yrs</td>\n",
       "    </tr>\n",
       "    <tr>\n",
       "      <th>9</th>\n",
       "      <td>Data Scientist | Python | Machine Learning | D...</td>\n",
       "      <td>Noida, Gurgaon/Gurugram, Delhi / NCR</td>\n",
       "      <td>Schlesinger Group</td>\n",
       "      <td>0-3 Yrs</td>\n",
       "    </tr>\n",
       "  </tbody>\n",
       "</table>\n",
       "</div>"
      ],
      "text/plain": [
       "                                           Job-Title  \\\n",
       "0                         Opening For Data Scientist   \n",
       "1                                  Data Scientist II   \n",
       "2                                     Data Scientist   \n",
       "3          Lead Data Scientist - KYC/Fraud/Marketing   \n",
       "4  Junior Data Scientist - Goods & Service Tax Ne...   \n",
       "5  Associate Data Scientist - Java/ Scala/ Apache...   \n",
       "6                                     Data Scientist   \n",
       "7                                     Data Scientist   \n",
       "8              Data Scientist / Senior DS/ Team Lead   \n",
       "9  Data Scientist | Python | Machine Learning | D...   \n",
       "\n",
       "                              Job-Location  \\\n",
       "0                         Gurgaon/Gurugram   \n",
       "1                              Delhi / NCR   \n",
       "2                                    Noida   \n",
       "3                                New Delhi   \n",
       "4                              Delhi / NCR   \n",
       "5                                    Noida   \n",
       "6     Gurgaon/Gurugram\\n(WFH during Covid)   \n",
       "7                                New Delhi   \n",
       "8  Mumbai, Gurgaon/Gurugram(Cyber City +1)   \n",
       "9     Noida, Gurgaon/Gurugram, Delhi / NCR   \n",
       "\n",
       "                                     Company-Name Expirence-Required  \n",
       "0                           Care Health Insurance            1-5 Yrs  \n",
       "1                                           Chegg            2-6 Yrs  \n",
       "2                                       Stefanini            3-8 Yrs  \n",
       "3                                   Tide Software            1-6 Yrs  \n",
       "4  NISG (National Institute for Smart Government)            3-8 Yrs  \n",
       "5                          Smart work Consultants            1-4 Yrs  \n",
       "6                    Zekardo Automotive Solutions            5-8 Yrs  \n",
       "7                          Team Computers Pvt Ltd            2-6 Yrs  \n",
       "8           NebulARC Technologies Private Limited            0-4 Yrs  \n",
       "9                               Schlesinger Group            0-3 Yrs  "
      ]
     },
     "execution_count": 32,
     "metadata": {},
     "output_type": "execute_result"
    }
   ],
   "source": [
    "df"
   ]
  },
  {
   "cell_type": "markdown",
   "id": "ce3ee7da",
   "metadata": {},
   "source": [
    "# Q4: Scrape data of first 100 sunglasses listings on flipkart.com. You have to scrape four attributes"
   ]
  },
  {
   "cell_type": "code",
   "execution_count": 39,
   "id": "77ed0846",
   "metadata": {},
   "outputs": [],
   "source": [
    "driver4=webdriver.Chrome('chromedriver.exe')"
   ]
  },
  {
   "cell_type": "code",
   "execution_count": 40,
   "id": "18343ef2",
   "metadata": {},
   "outputs": [],
   "source": [
    "url4='https://www.flipkart.com/'\n",
    "driver4.get(url4)"
   ]
  },
  {
   "cell_type": "code",
   "execution_count": 41,
   "id": "0e43747b",
   "metadata": {},
   "outputs": [],
   "source": [
    "srh_glass=driver4.find_element_by_class_name('_3704LK')"
   ]
  },
  {
   "cell_type": "code",
   "execution_count": 42,
   "id": "94bdb51d",
   "metadata": {},
   "outputs": [
    {
     "data": {
      "text/plain": [
       "<selenium.webdriver.remote.webelement.WebElement (session=\"993e7df9a5251c616153e28f8352ee4c\", element=\"76dbac58-2b9d-483c-b31e-d82b82a70f8f\")>"
      ]
     },
     "execution_count": 42,
     "metadata": {},
     "output_type": "execute_result"
    }
   ],
   "source": [
    "srh_glass"
   ]
  },
  {
   "cell_type": "code",
   "execution_count": 43,
   "id": "8336c211",
   "metadata": {},
   "outputs": [],
   "source": [
    "srh_glass.send_keys('sunglasses')"
   ]
  },
  {
   "cell_type": "code",
   "execution_count": 45,
   "id": "73900868",
   "metadata": {},
   "outputs": [],
   "source": [
    "srh_btn4=driver4.find_element_by_class_name('L0Z3Pu')"
   ]
  },
  {
   "cell_type": "code",
   "execution_count": 47,
   "id": "33af236c",
   "metadata": {},
   "outputs": [],
   "source": [
    "srh_btn4.click()"
   ]
  },
  {
   "cell_type": "code",
   "execution_count": 48,
   "id": "cf84cc23",
   "metadata": {},
   "outputs": [],
   "source": [
    "brand=driver4.find_element_by_class_name('_2WkVRV')"
   ]
  },
  {
   "cell_type": "code",
   "execution_count": 49,
   "id": "542f3b31",
   "metadata": {},
   "outputs": [
    {
     "data": {
      "text/plain": [
       "<selenium.webdriver.remote.webelement.WebElement (session=\"993e7df9a5251c616153e28f8352ee4c\", element=\"d6ac6f4d-8aee-4116-baf1-4f208d32f3ed\")>"
      ]
     },
     "execution_count": 49,
     "metadata": {},
     "output_type": "execute_result"
    }
   ],
   "source": [
    "brand"
   ]
  },
  {
   "cell_type": "code",
   "execution_count": 50,
   "id": "fe9095da",
   "metadata": {},
   "outputs": [
    {
     "data": {
      "text/plain": [
       "'Elligator'"
      ]
     },
     "execution_count": 50,
     "metadata": {},
     "output_type": "execute_result"
    }
   ],
   "source": [
    "brand.text"
   ]
  },
  {
   "cell_type": "code",
   "execution_count": 52,
   "id": "36e287f8",
   "metadata": {},
   "outputs": [],
   "source": [
    "page_brand=driver4.find_elements_by_xpath('//div[@class=\"_2WkVRV\"]')"
   ]
  },
  {
   "cell_type": "code",
   "execution_count": 53,
   "id": "01ddcd43",
   "metadata": {},
   "outputs": [
    {
     "data": {
      "text/plain": [
       "[<selenium.webdriver.remote.webelement.WebElement (session=\"993e7df9a5251c616153e28f8352ee4c\", element=\"d6ac6f4d-8aee-4116-baf1-4f208d32f3ed\")>,\n",
       " <selenium.webdriver.remote.webelement.WebElement (session=\"993e7df9a5251c616153e28f8352ee4c\", element=\"e6f2ba88-49d7-4fdb-96d5-8f948d2f9298\")>,\n",
       " <selenium.webdriver.remote.webelement.WebElement (session=\"993e7df9a5251c616153e28f8352ee4c\", element=\"e9d4515f-3da8-4e61-918e-fed5c927e3b1\")>,\n",
       " <selenium.webdriver.remote.webelement.WebElement (session=\"993e7df9a5251c616153e28f8352ee4c\", element=\"dfa6faa9-6007-45e3-a1b7-ccaaefa9ec0d\")>,\n",
       " <selenium.webdriver.remote.webelement.WebElement (session=\"993e7df9a5251c616153e28f8352ee4c\", element=\"552d74d4-d514-4e9a-a37a-e9d4a0435175\")>,\n",
       " <selenium.webdriver.remote.webelement.WebElement (session=\"993e7df9a5251c616153e28f8352ee4c\", element=\"1167d7b9-9127-454c-b307-f70c2a18317a\")>,\n",
       " <selenium.webdriver.remote.webelement.WebElement (session=\"993e7df9a5251c616153e28f8352ee4c\", element=\"60a8803e-319f-404f-afc3-51d361afc3f3\")>,\n",
       " <selenium.webdriver.remote.webelement.WebElement (session=\"993e7df9a5251c616153e28f8352ee4c\", element=\"f62f2d00-79a3-45fe-a9bd-90aa7185c223\")>,\n",
       " <selenium.webdriver.remote.webelement.WebElement (session=\"993e7df9a5251c616153e28f8352ee4c\", element=\"75ef3d97-9d5b-4ca5-90b5-44b3aacf35e9\")>,\n",
       " <selenium.webdriver.remote.webelement.WebElement (session=\"993e7df9a5251c616153e28f8352ee4c\", element=\"eac746e6-db5c-4d97-bf96-6fd6f789c877\")>,\n",
       " <selenium.webdriver.remote.webelement.WebElement (session=\"993e7df9a5251c616153e28f8352ee4c\", element=\"717bf418-589c-473e-96e0-ae4dcfaa3430\")>,\n",
       " <selenium.webdriver.remote.webelement.WebElement (session=\"993e7df9a5251c616153e28f8352ee4c\", element=\"6ccee1e3-4c0d-4d60-acaf-62e38507f9cc\")>,\n",
       " <selenium.webdriver.remote.webelement.WebElement (session=\"993e7df9a5251c616153e28f8352ee4c\", element=\"865f5e88-f103-4fb9-a9f4-2b83761b223a\")>,\n",
       " <selenium.webdriver.remote.webelement.WebElement (session=\"993e7df9a5251c616153e28f8352ee4c\", element=\"74d77d8f-f7ee-4a92-b9dc-186a91eac219\")>,\n",
       " <selenium.webdriver.remote.webelement.WebElement (session=\"993e7df9a5251c616153e28f8352ee4c\", element=\"1714680d-e040-4750-abdf-ae8d323781e8\")>,\n",
       " <selenium.webdriver.remote.webelement.WebElement (session=\"993e7df9a5251c616153e28f8352ee4c\", element=\"8b3d795c-b67f-4b48-b599-6632923b69aa\")>,\n",
       " <selenium.webdriver.remote.webelement.WebElement (session=\"993e7df9a5251c616153e28f8352ee4c\", element=\"612f8d32-ea3d-47f7-8a74-8c9fc6dbccee\")>,\n",
       " <selenium.webdriver.remote.webelement.WebElement (session=\"993e7df9a5251c616153e28f8352ee4c\", element=\"53d3f1ed-c5f6-4582-be1b-81ad760d8dce\")>,\n",
       " <selenium.webdriver.remote.webelement.WebElement (session=\"993e7df9a5251c616153e28f8352ee4c\", element=\"2ba19b11-1049-42a0-ad12-735e5059235b\")>,\n",
       " <selenium.webdriver.remote.webelement.WebElement (session=\"993e7df9a5251c616153e28f8352ee4c\", element=\"10a81a77-eafc-4e09-8639-dca5be3e7d76\")>,\n",
       " <selenium.webdriver.remote.webelement.WebElement (session=\"993e7df9a5251c616153e28f8352ee4c\", element=\"f43d598c-b891-44ff-93e9-07bfb5b8bd89\")>,\n",
       " <selenium.webdriver.remote.webelement.WebElement (session=\"993e7df9a5251c616153e28f8352ee4c\", element=\"4c9a1b92-a6ac-4d53-adf9-7f25d5035678\")>,\n",
       " <selenium.webdriver.remote.webelement.WebElement (session=\"993e7df9a5251c616153e28f8352ee4c\", element=\"231a5642-eb5a-4708-897e-ef2f62cc289c\")>,\n",
       " <selenium.webdriver.remote.webelement.WebElement (session=\"993e7df9a5251c616153e28f8352ee4c\", element=\"ef556853-b5d0-4950-8ed1-e90d4254ec24\")>,\n",
       " <selenium.webdriver.remote.webelement.WebElement (session=\"993e7df9a5251c616153e28f8352ee4c\", element=\"004838d1-eb9c-40ec-95fe-d8f1472ddd96\")>,\n",
       " <selenium.webdriver.remote.webelement.WebElement (session=\"993e7df9a5251c616153e28f8352ee4c\", element=\"0abcff9d-e516-4e63-9e0b-29d5a4cd024e\")>,\n",
       " <selenium.webdriver.remote.webelement.WebElement (session=\"993e7df9a5251c616153e28f8352ee4c\", element=\"da67947f-fef8-47e8-bb51-04e1cc15179c\")>,\n",
       " <selenium.webdriver.remote.webelement.WebElement (session=\"993e7df9a5251c616153e28f8352ee4c\", element=\"77aff259-edc4-43a0-861c-78939e065b00\")>,\n",
       " <selenium.webdriver.remote.webelement.WebElement (session=\"993e7df9a5251c616153e28f8352ee4c\", element=\"5314fd75-b592-4362-9a3c-404dc49378d8\")>,\n",
       " <selenium.webdriver.remote.webelement.WebElement (session=\"993e7df9a5251c616153e28f8352ee4c\", element=\"9d16d814-4f27-4b11-a99d-96064354b097\")>,\n",
       " <selenium.webdriver.remote.webelement.WebElement (session=\"993e7df9a5251c616153e28f8352ee4c\", element=\"818876bc-4513-465e-8cea-5b231cdd5085\")>,\n",
       " <selenium.webdriver.remote.webelement.WebElement (session=\"993e7df9a5251c616153e28f8352ee4c\", element=\"8a058dad-b633-4985-84c3-bc52d6370fbe\")>,\n",
       " <selenium.webdriver.remote.webelement.WebElement (session=\"993e7df9a5251c616153e28f8352ee4c\", element=\"c7cbb9e4-f872-45fd-8e9d-b53553dfe1e9\")>,\n",
       " <selenium.webdriver.remote.webelement.WebElement (session=\"993e7df9a5251c616153e28f8352ee4c\", element=\"a35f5f0b-2f0a-4e98-8397-325ca58e72af\")>,\n",
       " <selenium.webdriver.remote.webelement.WebElement (session=\"993e7df9a5251c616153e28f8352ee4c\", element=\"f9d5f40d-bd36-468b-af41-803e6c207a0c\")>,\n",
       " <selenium.webdriver.remote.webelement.WebElement (session=\"993e7df9a5251c616153e28f8352ee4c\", element=\"888ea834-2a87-489c-9514-749688ca4e5c\")>,\n",
       " <selenium.webdriver.remote.webelement.WebElement (session=\"993e7df9a5251c616153e28f8352ee4c\", element=\"44a9b6cf-864f-4e11-b100-090528fdd00d\")>,\n",
       " <selenium.webdriver.remote.webelement.WebElement (session=\"993e7df9a5251c616153e28f8352ee4c\", element=\"46b23675-81b7-4f74-8642-877cf29ff2a1\")>,\n",
       " <selenium.webdriver.remote.webelement.WebElement (session=\"993e7df9a5251c616153e28f8352ee4c\", element=\"1df8ba75-b4c5-4ecd-a3e1-787dd112d11d\")>,\n",
       " <selenium.webdriver.remote.webelement.WebElement (session=\"993e7df9a5251c616153e28f8352ee4c\", element=\"6d06f508-6705-4c6f-95b5-97787d4c5c29\")>]"
      ]
     },
     "execution_count": 53,
     "metadata": {},
     "output_type": "execute_result"
    }
   ],
   "source": [
    "page_brand"
   ]
  },
  {
   "cell_type": "code",
   "execution_count": 55,
   "id": "7f26e1d3",
   "metadata": {},
   "outputs": [
    {
     "data": {
      "text/plain": [
       "['Elligator',\n",
       " 'SUNBEE',\n",
       " 'SHAAH COLLECTIONS',\n",
       " 'PIRASO',\n",
       " 'Fastrack',\n",
       " 'New Specs',\n",
       " 'SHAAH COLLECTIONS',\n",
       " 'SUNBEE',\n",
       " 'kingsunglasses',\n",
       " 'Fastrack',\n",
       " 'PHENOMENAL',\n",
       " 'ROZZETTA CRAFT',\n",
       " 'PIRASO',\n",
       " 'PIRASO',\n",
       " 'PHENOMENAL',\n",
       " 'GANSTA',\n",
       " 'Elligator',\n",
       " 'Johaena',\n",
       " 'maxa',\n",
       " 'kingsunglasses',\n",
       " 'Elligator',\n",
       " 'Rich Club',\n",
       " 'ROYAL SON',\n",
       " 'Singco India',\n",
       " 'PIRASO',\n",
       " 'PIRASO',\n",
       " 'Rich Club',\n",
       " 'SRPM',\n",
       " 'DEIXELS',\n",
       " 'Elligator',\n",
       " 'PHENOMENAL',\n",
       " 'kingsunglasses',\n",
       " 'Lee Topper',\n",
       " 'agera',\n",
       " 'Singco India',\n",
       " 'kingsunglasses',\n",
       " 'ROYAL SON',\n",
       " 'SUNBEE',\n",
       " 'kingsunglasses',\n",
       " 'ROZZETTA CRAFT']"
      ]
     },
     "execution_count": 55,
     "metadata": {},
     "output_type": "execute_result"
    }
   ],
   "source": [
    "brand_name=[]\n",
    "for i in page_brand:\n",
    "    brand_name.append(i.text)\n",
    "    \n",
    "brand_name    "
   ]
  },
  {
   "cell_type": "code",
   "execution_count": 60,
   "id": "02807a6d",
   "metadata": {},
   "outputs": [
    {
     "data": {
      "text/plain": [
       "[<selenium.webdriver.remote.webelement.WebElement (session=\"993e7df9a5251c616153e28f8352ee4c\", element=\"29d0e1ae-43bb-4b8b-928a-12764e202546\")>,\n",
       " <selenium.webdriver.remote.webelement.WebElement (session=\"993e7df9a5251c616153e28f8352ee4c\", element=\"07851e82-eb8b-4ba8-b7d3-d3c8dcba270b\")>,\n",
       " <selenium.webdriver.remote.webelement.WebElement (session=\"993e7df9a5251c616153e28f8352ee4c\", element=\"c0071429-38c0-4182-852f-e5fdcf4dc411\")>,\n",
       " <selenium.webdriver.remote.webelement.WebElement (session=\"993e7df9a5251c616153e28f8352ee4c\", element=\"2d355b77-c31b-4bce-9f68-0ea31c76e242\")>,\n",
       " <selenium.webdriver.remote.webelement.WebElement (session=\"993e7df9a5251c616153e28f8352ee4c\", element=\"103b0ad2-3f0f-402a-bba6-695cd3790acc\")>,\n",
       " <selenium.webdriver.remote.webelement.WebElement (session=\"993e7df9a5251c616153e28f8352ee4c\", element=\"cefcd749-dc0c-4552-8bf1-e86dd0769b96\")>,\n",
       " <selenium.webdriver.remote.webelement.WebElement (session=\"993e7df9a5251c616153e28f8352ee4c\", element=\"7ef2e36f-8374-4cf9-85c6-5e941d8b330c\")>,\n",
       " <selenium.webdriver.remote.webelement.WebElement (session=\"993e7df9a5251c616153e28f8352ee4c\", element=\"8ded0bd4-2ddb-4a91-9ebe-be8d6a682b73\")>,\n",
       " <selenium.webdriver.remote.webelement.WebElement (session=\"993e7df9a5251c616153e28f8352ee4c\", element=\"ef722832-5ec2-4873-9af5-fdc6af6f2b18\")>,\n",
       " <selenium.webdriver.remote.webelement.WebElement (session=\"993e7df9a5251c616153e28f8352ee4c\", element=\"ef3551a2-35c6-4342-8926-d81ff5d6f007\")>,\n",
       " <selenium.webdriver.remote.webelement.WebElement (session=\"993e7df9a5251c616153e28f8352ee4c\", element=\"d8e82c66-d22f-4f3d-9ea7-bedd4ced4134\")>,\n",
       " <selenium.webdriver.remote.webelement.WebElement (session=\"993e7df9a5251c616153e28f8352ee4c\", element=\"7ff795ab-015a-484e-b6e2-d0206c7a04ea\")>,\n",
       " <selenium.webdriver.remote.webelement.WebElement (session=\"993e7df9a5251c616153e28f8352ee4c\", element=\"2391ccd1-f991-475f-8bbb-c3e1b2bcf8f0\")>,\n",
       " <selenium.webdriver.remote.webelement.WebElement (session=\"993e7df9a5251c616153e28f8352ee4c\", element=\"0565ffec-286c-4cd8-8ab9-0f8192699f63\")>,\n",
       " <selenium.webdriver.remote.webelement.WebElement (session=\"993e7df9a5251c616153e28f8352ee4c\", element=\"13cc3035-d19a-4815-a504-a2bc4fc90218\")>,\n",
       " <selenium.webdriver.remote.webelement.WebElement (session=\"993e7df9a5251c616153e28f8352ee4c\", element=\"ca8bd9de-0c11-47bf-a193-e6c17466aa5d\")>,\n",
       " <selenium.webdriver.remote.webelement.WebElement (session=\"993e7df9a5251c616153e28f8352ee4c\", element=\"d2f36c9c-0982-4155-b814-b26c40a99f71\")>,\n",
       " <selenium.webdriver.remote.webelement.WebElement (session=\"993e7df9a5251c616153e28f8352ee4c\", element=\"365ec367-a49e-486f-b674-280012fa55ca\")>,\n",
       " <selenium.webdriver.remote.webelement.WebElement (session=\"993e7df9a5251c616153e28f8352ee4c\", element=\"7fcee7ba-d114-469a-ae24-147b7c1f6d3e\")>,\n",
       " <selenium.webdriver.remote.webelement.WebElement (session=\"993e7df9a5251c616153e28f8352ee4c\", element=\"3413f7d8-cb53-4173-ada4-68e6933b4cad\")>,\n",
       " <selenium.webdriver.remote.webelement.WebElement (session=\"993e7df9a5251c616153e28f8352ee4c\", element=\"84c9228a-eda3-48bf-8fcc-caf46e59692c\")>,\n",
       " <selenium.webdriver.remote.webelement.WebElement (session=\"993e7df9a5251c616153e28f8352ee4c\", element=\"6366e932-c908-45cd-8013-d1584ddaac1b\")>,\n",
       " <selenium.webdriver.remote.webelement.WebElement (session=\"993e7df9a5251c616153e28f8352ee4c\", element=\"723a0b92-d03b-440f-819d-662db4ce7e14\")>,\n",
       " <selenium.webdriver.remote.webelement.WebElement (session=\"993e7df9a5251c616153e28f8352ee4c\", element=\"d6c15a27-3647-47aa-988e-78dc1d98ae2a\")>,\n",
       " <selenium.webdriver.remote.webelement.WebElement (session=\"993e7df9a5251c616153e28f8352ee4c\", element=\"8d2b019e-9eb8-4fd6-aba0-566151cef9fa\")>,\n",
       " <selenium.webdriver.remote.webelement.WebElement (session=\"993e7df9a5251c616153e28f8352ee4c\", element=\"53f5914c-3896-4cd6-99c2-33a8f723c36f\")>,\n",
       " <selenium.webdriver.remote.webelement.WebElement (session=\"993e7df9a5251c616153e28f8352ee4c\", element=\"b033b6f2-8c45-4b72-b488-b378961788fc\")>,\n",
       " <selenium.webdriver.remote.webelement.WebElement (session=\"993e7df9a5251c616153e28f8352ee4c\", element=\"53a1d478-986a-4855-97a9-145e83f1f51c\")>,\n",
       " <selenium.webdriver.remote.webelement.WebElement (session=\"993e7df9a5251c616153e28f8352ee4c\", element=\"6fdf680a-7689-45cf-8b37-eddc2a2c2f70\")>,\n",
       " <selenium.webdriver.remote.webelement.WebElement (session=\"993e7df9a5251c616153e28f8352ee4c\", element=\"a1de476b-4f1d-48b4-9cea-bda800361a57\")>,\n",
       " <selenium.webdriver.remote.webelement.WebElement (session=\"993e7df9a5251c616153e28f8352ee4c\", element=\"7d20dfe0-5714-4f6a-9598-31ed31a6abaa\")>,\n",
       " <selenium.webdriver.remote.webelement.WebElement (session=\"993e7df9a5251c616153e28f8352ee4c\", element=\"a3365ded-c46c-41fe-b9b8-8b75a4ca383b\")>,\n",
       " <selenium.webdriver.remote.webelement.WebElement (session=\"993e7df9a5251c616153e28f8352ee4c\", element=\"22c1f030-4f19-49b8-a3e2-9a38f43d52d0\")>,\n",
       " <selenium.webdriver.remote.webelement.WebElement (session=\"993e7df9a5251c616153e28f8352ee4c\", element=\"9320e3bc-6818-4f0f-910d-264535e71db1\")>,\n",
       " <selenium.webdriver.remote.webelement.WebElement (session=\"993e7df9a5251c616153e28f8352ee4c\", element=\"ea019c19-0880-4b08-a422-a0bf50f12154\")>,\n",
       " <selenium.webdriver.remote.webelement.WebElement (session=\"993e7df9a5251c616153e28f8352ee4c\", element=\"5c34590f-8ce3-4e1e-8882-13c5d66c3482\")>,\n",
       " <selenium.webdriver.remote.webelement.WebElement (session=\"993e7df9a5251c616153e28f8352ee4c\", element=\"38063d72-fbe8-4d6e-be98-8ffdd6ffc405\")>,\n",
       " <selenium.webdriver.remote.webelement.WebElement (session=\"993e7df9a5251c616153e28f8352ee4c\", element=\"b45040ea-5d2a-498f-83ee-054a90342c47\")>,\n",
       " <selenium.webdriver.remote.webelement.WebElement (session=\"993e7df9a5251c616153e28f8352ee4c\", element=\"296c736e-f380-471f-9831-6a9ce437c59b\")>,\n",
       " <selenium.webdriver.remote.webelement.WebElement (session=\"993e7df9a5251c616153e28f8352ee4c\", element=\"66178eae-00e7-4f31-9e36-4b1c41c63278\")>]"
      ]
     },
     "execution_count": 60,
     "metadata": {},
     "output_type": "execute_result"
    }
   ],
   "source": [
    "prdt_des=driver4.find_elements_by_xpath('//a[@class=\"IRpwTa\"]')\n",
    "prdt_des"
   ]
  },
  {
   "cell_type": "code",
   "execution_count": 61,
   "id": "b72db6a1",
   "metadata": {},
   "outputs": [
    {
     "data": {
      "text/plain": [
       "40"
      ]
     },
     "execution_count": 61,
     "metadata": {},
     "output_type": "execute_result"
    }
   ],
   "source": [
    "len(prdt_des)"
   ]
  },
  {
   "cell_type": "code",
   "execution_count": 62,
   "id": "8680f994",
   "metadata": {},
   "outputs": [
    {
     "data": {
      "text/plain": [
       "['UV Protection Rectangular Sunglasses (58)',\n",
       " 'Mirrored, UV Protection, Riding Glasses, Others Round S...',\n",
       " 'Riding Glasses, UV Protection Oval Sunglasses (52)',\n",
       " 'UV Protection, Gradient Retro Square Sunglasses (Free S...',\n",
       " 'Polarized Round Sunglasses (48)',\n",
       " 'UV Protection Rectangular Sunglasses (Free Size)',\n",
       " 'Polarized, Night Vision, Riding Glasses Sports, Wrap-ar...',\n",
       " 'UV Protection, Gradient Rectangular Sunglasses (Free Si...',\n",
       " 'UV Protection Retro Square Sunglasses (58)',\n",
       " 'UV Protection Wayfarer Sunglasses (Free Size)',\n",
       " 'UV Protection Aviator Sunglasses (88)',\n",
       " 'by Lenskart Polarized, UV Protection Wayfarer Sunglasse...',\n",
       " 'UV Protection Sports Sunglasses (63)',\n",
       " 'UV Protection Aviator Sunglasses (58)',\n",
       " 'UV Protection, Mirrored Clubmaster Sunglasses (Free Siz...',\n",
       " 'UV Protection, Others, Riding Glasses Wayfarer, Rectang...',\n",
       " 'Mirrored, Gradient, Riding Glasses Round Sunglasses (55...',\n",
       " 'UV Protection Butterfly Sunglasses (65)',\n",
       " 'UV Protection Aviator Sunglasses (Free Size)',\n",
       " 'Polarized, UV Protection Round Sunglasses (53)',\n",
       " 'Gradient, Toughened Glass Lens, UV Protection Retro Squ...',\n",
       " 'UV Protection, Mirrored Sports Sunglasses (Free Size)',\n",
       " 'Gradient, UV Protection Round Sunglasses (Free Size)',\n",
       " 'UV Protection, Gradient Retro Square Sunglasses (Free S...',\n",
       " 'UV Protection, Gradient Rectangular Sunglasses (Free Si...',\n",
       " 'Mirrored Aviator Sunglasses (55)',\n",
       " 'UV Protection, Riding Glasses Retro Square, Spectacle ...',\n",
       " 'by Lenskart Polarized, UV Protection Aviator Sunglasses...',\n",
       " 'UV Protection Aviator Sunglasses (58)',\n",
       " 'Mirrored, UV Protection Wayfarer Sunglasses (53)',\n",
       " 'UV Protection Rectangular Sunglasses (55)',\n",
       " 'Polarized, UV Protection Aviator Sunglasses (58)',\n",
       " 'UV Protection Oval Sunglasses (56)',\n",
       " 'UV Protection Wayfarer Sunglasses (Free Size)',\n",
       " 'Riding Glasses Wrap-around Sunglasses (Free Size)',\n",
       " 'Polarized, UV Protection Wayfarer Sunglasses (61)',\n",
       " 'UV Protection Retro Square Sunglasses (Free Size)',\n",
       " 'Mirrored, UV Protection, Gradient Round Sunglasses (55)',\n",
       " 'UV Protection Aviator Sunglasses (Free Size)',\n",
       " 'Polarized, UV Protection Wayfarer, Retro Square Sunglas...']"
      ]
     },
     "execution_count": 62,
     "metadata": {},
     "output_type": "execute_result"
    }
   ],
   "source": [
    "des_name=[]\n",
    "for i in prdt_des:\n",
    "    des_name.append(i.text)\n",
    "    \n",
    "des_name"
   ]
  },
  {
   "cell_type": "code",
   "execution_count": 77,
   "id": "d5dc9716",
   "metadata": {},
   "outputs": [
    {
     "data": {
      "text/plain": [
       "[<selenium.webdriver.remote.webelement.WebElement (session=\"993e7df9a5251c616153e28f8352ee4c\", element=\"db2d530e-90e5-48ae-94c4-3b179782f4ed\")>,\n",
       " <selenium.webdriver.remote.webelement.WebElement (session=\"993e7df9a5251c616153e28f8352ee4c\", element=\"e1b016a7-f91a-4cde-abce-e9458b2ce221\")>,\n",
       " <selenium.webdriver.remote.webelement.WebElement (session=\"993e7df9a5251c616153e28f8352ee4c\", element=\"95c62938-2493-4268-beb7-fda978260635\")>,\n",
       " <selenium.webdriver.remote.webelement.WebElement (session=\"993e7df9a5251c616153e28f8352ee4c\", element=\"f279aaa5-29a9-4316-b02d-d0045fd755de\")>,\n",
       " <selenium.webdriver.remote.webelement.WebElement (session=\"993e7df9a5251c616153e28f8352ee4c\", element=\"3ae3e82f-d7d2-4647-9a0e-f83376e0a9dc\")>,\n",
       " <selenium.webdriver.remote.webelement.WebElement (session=\"993e7df9a5251c616153e28f8352ee4c\", element=\"75aeb616-41ee-4f6f-8326-331335b0d7b7\")>,\n",
       " <selenium.webdriver.remote.webelement.WebElement (session=\"993e7df9a5251c616153e28f8352ee4c\", element=\"cb41a0d0-2223-4486-8865-361ef0b912bc\")>,\n",
       " <selenium.webdriver.remote.webelement.WebElement (session=\"993e7df9a5251c616153e28f8352ee4c\", element=\"f2da5a9c-46a3-4f9a-856d-6dfcec9a99af\")>,\n",
       " <selenium.webdriver.remote.webelement.WebElement (session=\"993e7df9a5251c616153e28f8352ee4c\", element=\"361c09a7-4b9c-4463-bd2b-073d5319dd11\")>,\n",
       " <selenium.webdriver.remote.webelement.WebElement (session=\"993e7df9a5251c616153e28f8352ee4c\", element=\"512a475d-2dec-4b61-a7b7-ce784e70680f\")>,\n",
       " <selenium.webdriver.remote.webelement.WebElement (session=\"993e7df9a5251c616153e28f8352ee4c\", element=\"e2e97fa0-87a1-4126-aca3-245dc23ddb2a\")>,\n",
       " <selenium.webdriver.remote.webelement.WebElement (session=\"993e7df9a5251c616153e28f8352ee4c\", element=\"029663df-9ab6-41f6-87b5-bede931ca2c6\")>,\n",
       " <selenium.webdriver.remote.webelement.WebElement (session=\"993e7df9a5251c616153e28f8352ee4c\", element=\"0228981e-1c86-43e2-ad93-668aeb4fff49\")>,\n",
       " <selenium.webdriver.remote.webelement.WebElement (session=\"993e7df9a5251c616153e28f8352ee4c\", element=\"d66e9bd4-1551-451d-b7bd-046fd9dfcbd0\")>,\n",
       " <selenium.webdriver.remote.webelement.WebElement (session=\"993e7df9a5251c616153e28f8352ee4c\", element=\"15a4fc1c-1fdf-4a43-a7ad-e458cf3aeae0\")>,\n",
       " <selenium.webdriver.remote.webelement.WebElement (session=\"993e7df9a5251c616153e28f8352ee4c\", element=\"f178214a-8c4c-493e-b76f-f36e16f2eb4e\")>,\n",
       " <selenium.webdriver.remote.webelement.WebElement (session=\"993e7df9a5251c616153e28f8352ee4c\", element=\"f13f68a1-24e5-44de-a2bd-89242d438a59\")>,\n",
       " <selenium.webdriver.remote.webelement.WebElement (session=\"993e7df9a5251c616153e28f8352ee4c\", element=\"bf601281-af9b-4735-b874-86502c07e4ae\")>,\n",
       " <selenium.webdriver.remote.webelement.WebElement (session=\"993e7df9a5251c616153e28f8352ee4c\", element=\"458dcc46-bcc4-45cf-b500-34ed57b066cf\")>,\n",
       " <selenium.webdriver.remote.webelement.WebElement (session=\"993e7df9a5251c616153e28f8352ee4c\", element=\"a9b66155-337d-47c6-8158-9c2ce3e100b4\")>,\n",
       " <selenium.webdriver.remote.webelement.WebElement (session=\"993e7df9a5251c616153e28f8352ee4c\", element=\"55f8b98a-271c-4d35-821e-847be155c629\")>,\n",
       " <selenium.webdriver.remote.webelement.WebElement (session=\"993e7df9a5251c616153e28f8352ee4c\", element=\"d66c21d5-c92a-4bf2-9c09-d84d18985f06\")>,\n",
       " <selenium.webdriver.remote.webelement.WebElement (session=\"993e7df9a5251c616153e28f8352ee4c\", element=\"84628f66-642c-40f7-a4fb-68648e3fa78c\")>,\n",
       " <selenium.webdriver.remote.webelement.WebElement (session=\"993e7df9a5251c616153e28f8352ee4c\", element=\"a13090e5-0f19-48a2-b3fd-3090922baa97\")>,\n",
       " <selenium.webdriver.remote.webelement.WebElement (session=\"993e7df9a5251c616153e28f8352ee4c\", element=\"d2fc6272-6c49-4400-989e-0abf3ae6c2ae\")>,\n",
       " <selenium.webdriver.remote.webelement.WebElement (session=\"993e7df9a5251c616153e28f8352ee4c\", element=\"05e555f7-8f83-4ee2-ace0-c6ca39302e57\")>,\n",
       " <selenium.webdriver.remote.webelement.WebElement (session=\"993e7df9a5251c616153e28f8352ee4c\", element=\"825acb41-30f7-418b-a1c1-8ec57b934904\")>,\n",
       " <selenium.webdriver.remote.webelement.WebElement (session=\"993e7df9a5251c616153e28f8352ee4c\", element=\"955baedc-21f7-4b4c-a47c-30934da8aaa0\")>,\n",
       " <selenium.webdriver.remote.webelement.WebElement (session=\"993e7df9a5251c616153e28f8352ee4c\", element=\"1c73a64f-6cca-4c69-a45c-e463561a4344\")>,\n",
       " <selenium.webdriver.remote.webelement.WebElement (session=\"993e7df9a5251c616153e28f8352ee4c\", element=\"ac8350ed-1df1-42cd-b04b-626f9610a49c\")>,\n",
       " <selenium.webdriver.remote.webelement.WebElement (session=\"993e7df9a5251c616153e28f8352ee4c\", element=\"3ebec605-10da-4962-af94-2f234ebfa2e7\")>,\n",
       " <selenium.webdriver.remote.webelement.WebElement (session=\"993e7df9a5251c616153e28f8352ee4c\", element=\"c1e54c14-331f-478e-b622-61dcc574392d\")>,\n",
       " <selenium.webdriver.remote.webelement.WebElement (session=\"993e7df9a5251c616153e28f8352ee4c\", element=\"5a624e2f-5641-4079-9bc4-3aa36095c826\")>,\n",
       " <selenium.webdriver.remote.webelement.WebElement (session=\"993e7df9a5251c616153e28f8352ee4c\", element=\"1b94de60-fdaf-4d9b-8038-6ac3ef4d3999\")>,\n",
       " <selenium.webdriver.remote.webelement.WebElement (session=\"993e7df9a5251c616153e28f8352ee4c\", element=\"0a4e4b3d-ff34-4de7-bb6a-5f99dea36ac0\")>,\n",
       " <selenium.webdriver.remote.webelement.WebElement (session=\"993e7df9a5251c616153e28f8352ee4c\", element=\"ebb2129d-11de-418d-819f-80715d401ca3\")>,\n",
       " <selenium.webdriver.remote.webelement.WebElement (session=\"993e7df9a5251c616153e28f8352ee4c\", element=\"51c6e3d7-2729-495c-9bc2-976886a69b0b\")>,\n",
       " <selenium.webdriver.remote.webelement.WebElement (session=\"993e7df9a5251c616153e28f8352ee4c\", element=\"7f875432-667f-41ea-b364-f15857c2ec4c\")>,\n",
       " <selenium.webdriver.remote.webelement.WebElement (session=\"993e7df9a5251c616153e28f8352ee4c\", element=\"95e5876d-8a06-4678-92c8-e3efd6d2a729\")>,\n",
       " <selenium.webdriver.remote.webelement.WebElement (session=\"993e7df9a5251c616153e28f8352ee4c\", element=\"6ff90941-e91e-4253-9e84-09e01186fdaa\")>]"
      ]
     },
     "execution_count": 77,
     "metadata": {},
     "output_type": "execute_result"
    }
   ],
   "source": [
    "price=driver4.find_elements_by_xpath('//div[@class=\"_30jeq3\"]')\n",
    "price"
   ]
  },
  {
   "cell_type": "code",
   "execution_count": 78,
   "id": "1e034a4e",
   "metadata": {},
   "outputs": [
    {
     "data": {
      "text/plain": [
       "['₹449',\n",
       " '₹259',\n",
       " '₹156',\n",
       " '₹449',\n",
       " '₹152',\n",
       " '₹156',\n",
       " '₹499',\n",
       " '₹399',\n",
       " '₹449',\n",
       " '₹199',\n",
       " '₹242',\n",
       " '₹799',\n",
       " '₹719',\n",
       " '₹299',\n",
       " '₹289',\n",
       " '₹178',\n",
       " '₹189',\n",
       " '₹349',\n",
       " '₹639',\n",
       " '₹664',\n",
       " '₹664',\n",
       " '₹144',\n",
       " '₹197',\n",
       " '₹349',\n",
       " '₹348',\n",
       " '₹359',\n",
       " '₹375',\n",
       " '₹999',\n",
       " '₹1,059',\n",
       " '₹249',\n",
       " '₹159',\n",
       " '₹759',\n",
       " '₹269',\n",
       " '₹233',\n",
       " '₹275',\n",
       " '₹699',\n",
       " '₹499',\n",
       " '₹189',\n",
       " '₹334',\n",
       " '₹664']"
      ]
     },
     "execution_count": 78,
     "metadata": {},
     "output_type": "execute_result"
    }
   ],
   "source": [
    "price_name=[]\n",
    "for i in price:\n",
    "    price_name.append(i.text)\n",
    "    \n",
    "price_name"
   ]
  },
  {
   "cell_type": "code",
   "execution_count": null,
   "id": "0979d16c",
   "metadata": {},
   "outputs": [],
   "source": [
    "next_page=driver4.find_element_by_class_name('ge-49M')"
   ]
  },
  {
   "cell_type": "code",
   "execution_count": null,
   "id": "dc6715f4",
   "metadata": {},
   "outputs": [],
   "source": [
    "next_page.click()"
   ]
  },
  {
   "cell_type": "code",
   "execution_count": 66,
   "id": "5c4bf816",
   "metadata": {},
   "outputs": [],
   "source": [
    "page2_glass=driver4.find_elements_by_xpath('//div[@class=\"_2WkVRV\"]')"
   ]
  },
  {
   "cell_type": "code",
   "execution_count": 67,
   "id": "313fbc5a",
   "metadata": {},
   "outputs": [
    {
     "data": {
      "text/plain": [
       "[<selenium.webdriver.remote.webelement.WebElement (session=\"993e7df9a5251c616153e28f8352ee4c\", element=\"57aad8c0-0e94-4bd8-80ea-67ce34f75c84\")>,\n",
       " <selenium.webdriver.remote.webelement.WebElement (session=\"993e7df9a5251c616153e28f8352ee4c\", element=\"adb85ed6-8a0c-421e-9517-3592506c7b53\")>,\n",
       " <selenium.webdriver.remote.webelement.WebElement (session=\"993e7df9a5251c616153e28f8352ee4c\", element=\"2387f89f-ad7f-4cc0-b3fb-3807095a52f5\")>,\n",
       " <selenium.webdriver.remote.webelement.WebElement (session=\"993e7df9a5251c616153e28f8352ee4c\", element=\"f1ee3f4e-dd8f-493e-a848-4f2be9c10942\")>,\n",
       " <selenium.webdriver.remote.webelement.WebElement (session=\"993e7df9a5251c616153e28f8352ee4c\", element=\"fe2d2787-20df-4f7a-baa4-48057f7a3e7d\")>,\n",
       " <selenium.webdriver.remote.webelement.WebElement (session=\"993e7df9a5251c616153e28f8352ee4c\", element=\"76429c1c-4fad-435a-aea3-1f0710792e9e\")>,\n",
       " <selenium.webdriver.remote.webelement.WebElement (session=\"993e7df9a5251c616153e28f8352ee4c\", element=\"df2ba5ca-d187-42c5-9829-8a4e31e0a5a7\")>,\n",
       " <selenium.webdriver.remote.webelement.WebElement (session=\"993e7df9a5251c616153e28f8352ee4c\", element=\"90cdbc9f-64b2-4d80-9085-32406a0e7f2e\")>,\n",
       " <selenium.webdriver.remote.webelement.WebElement (session=\"993e7df9a5251c616153e28f8352ee4c\", element=\"ad888b59-2b62-4bd8-bc25-d814a88ad879\")>,\n",
       " <selenium.webdriver.remote.webelement.WebElement (session=\"993e7df9a5251c616153e28f8352ee4c\", element=\"cab46224-d495-402b-a65a-22c701d85b82\")>,\n",
       " <selenium.webdriver.remote.webelement.WebElement (session=\"993e7df9a5251c616153e28f8352ee4c\", element=\"79f478e3-50e4-4faf-8650-3e2ab35ff60f\")>,\n",
       " <selenium.webdriver.remote.webelement.WebElement (session=\"993e7df9a5251c616153e28f8352ee4c\", element=\"8a1f9579-5d06-41f4-bdd0-a68ff0403a3c\")>,\n",
       " <selenium.webdriver.remote.webelement.WebElement (session=\"993e7df9a5251c616153e28f8352ee4c\", element=\"cac53565-2b57-4c9a-81c4-498da5824264\")>,\n",
       " <selenium.webdriver.remote.webelement.WebElement (session=\"993e7df9a5251c616153e28f8352ee4c\", element=\"c048327d-2b21-41ed-87c7-fdeda1394dbd\")>,\n",
       " <selenium.webdriver.remote.webelement.WebElement (session=\"993e7df9a5251c616153e28f8352ee4c\", element=\"b525b642-d319-42b5-8f6e-f973fb2a8cdd\")>,\n",
       " <selenium.webdriver.remote.webelement.WebElement (session=\"993e7df9a5251c616153e28f8352ee4c\", element=\"1c06051a-0e4c-46b3-a48e-ff79a7b458b0\")>,\n",
       " <selenium.webdriver.remote.webelement.WebElement (session=\"993e7df9a5251c616153e28f8352ee4c\", element=\"220615c3-270d-405b-b628-a78a07b5a777\")>,\n",
       " <selenium.webdriver.remote.webelement.WebElement (session=\"993e7df9a5251c616153e28f8352ee4c\", element=\"3fa5117f-7c01-45ef-904e-ed53308b8db4\")>,\n",
       " <selenium.webdriver.remote.webelement.WebElement (session=\"993e7df9a5251c616153e28f8352ee4c\", element=\"239123ce-3b9e-44dd-920b-43425734ef89\")>,\n",
       " <selenium.webdriver.remote.webelement.WebElement (session=\"993e7df9a5251c616153e28f8352ee4c\", element=\"b89c8e4a-d35a-4c5b-92e5-ba26652074e1\")>,\n",
       " <selenium.webdriver.remote.webelement.WebElement (session=\"993e7df9a5251c616153e28f8352ee4c\", element=\"34679635-bb80-4213-8872-fa75779e26ab\")>,\n",
       " <selenium.webdriver.remote.webelement.WebElement (session=\"993e7df9a5251c616153e28f8352ee4c\", element=\"2c7b5bb3-7f7a-404b-a743-a3dd2e6c74fd\")>,\n",
       " <selenium.webdriver.remote.webelement.WebElement (session=\"993e7df9a5251c616153e28f8352ee4c\", element=\"e974e034-4f8f-46d1-a3e3-45e0ff1e9770\")>,\n",
       " <selenium.webdriver.remote.webelement.WebElement (session=\"993e7df9a5251c616153e28f8352ee4c\", element=\"7ae5f8fa-c4bd-4cc7-ae68-e8d9b43d4420\")>,\n",
       " <selenium.webdriver.remote.webelement.WebElement (session=\"993e7df9a5251c616153e28f8352ee4c\", element=\"7bb08c69-8908-49d9-b0f8-78fc2ed76c05\")>,\n",
       " <selenium.webdriver.remote.webelement.WebElement (session=\"993e7df9a5251c616153e28f8352ee4c\", element=\"6dade1de-2858-463f-a83b-e7f1b094ced2\")>,\n",
       " <selenium.webdriver.remote.webelement.WebElement (session=\"993e7df9a5251c616153e28f8352ee4c\", element=\"c2711347-5582-4a18-b0df-fb0bfb0ef2c1\")>,\n",
       " <selenium.webdriver.remote.webelement.WebElement (session=\"993e7df9a5251c616153e28f8352ee4c\", element=\"d089d5b5-c701-4999-a78f-a075f7a7536d\")>,\n",
       " <selenium.webdriver.remote.webelement.WebElement (session=\"993e7df9a5251c616153e28f8352ee4c\", element=\"c0675bda-40cb-4192-ba03-25f77c1b0304\")>,\n",
       " <selenium.webdriver.remote.webelement.WebElement (session=\"993e7df9a5251c616153e28f8352ee4c\", element=\"66ae31ee-8baa-47e4-973e-005ca37ae725\")>,\n",
       " <selenium.webdriver.remote.webelement.WebElement (session=\"993e7df9a5251c616153e28f8352ee4c\", element=\"296118f9-9c02-4cec-9f01-453f475dd6cf\")>,\n",
       " <selenium.webdriver.remote.webelement.WebElement (session=\"993e7df9a5251c616153e28f8352ee4c\", element=\"991a3156-a9d5-47bf-a538-2325f131c95e\")>,\n",
       " <selenium.webdriver.remote.webelement.WebElement (session=\"993e7df9a5251c616153e28f8352ee4c\", element=\"4db71ea2-4219-4f54-a42e-862684ccb7cc\")>,\n",
       " <selenium.webdriver.remote.webelement.WebElement (session=\"993e7df9a5251c616153e28f8352ee4c\", element=\"2c01daf6-513a-4778-a491-045df71125ce\")>,\n",
       " <selenium.webdriver.remote.webelement.WebElement (session=\"993e7df9a5251c616153e28f8352ee4c\", element=\"90f5257c-3d30-4c2d-a6a6-77d072d1db1c\")>,\n",
       " <selenium.webdriver.remote.webelement.WebElement (session=\"993e7df9a5251c616153e28f8352ee4c\", element=\"eba5c836-8308-4924-ae41-679892fa788b\")>,\n",
       " <selenium.webdriver.remote.webelement.WebElement (session=\"993e7df9a5251c616153e28f8352ee4c\", element=\"f98f5b8a-e226-4704-aa6b-f064e962847e\")>,\n",
       " <selenium.webdriver.remote.webelement.WebElement (session=\"993e7df9a5251c616153e28f8352ee4c\", element=\"0296c4c4-4895-44cc-aa0b-9a16fa91082e\")>,\n",
       " <selenium.webdriver.remote.webelement.WebElement (session=\"993e7df9a5251c616153e28f8352ee4c\", element=\"fa48c7e9-b6f6-4763-8a76-b2281a4481d4\")>,\n",
       " <selenium.webdriver.remote.webelement.WebElement (session=\"993e7df9a5251c616153e28f8352ee4c\", element=\"7fec9879-8522-4ae9-9971-6f6b8fcc2066\")>]"
      ]
     },
     "execution_count": 67,
     "metadata": {},
     "output_type": "execute_result"
    }
   ],
   "source": [
    "page2_glass"
   ]
  },
  {
   "cell_type": "code",
   "execution_count": 68,
   "id": "8980f0eb",
   "metadata": {},
   "outputs": [
    {
     "data": {
      "text/plain": [
       "['ROYAL SON',\n",
       " 'New Specs',\n",
       " 'Johaena',\n",
       " 'ROZZETTA CRAFT',\n",
       " 'Rich Club',\n",
       " 'New Specs',\n",
       " 'ROZZETTA CRAFT',\n",
       " 'ROZZETTA CRAFT',\n",
       " 'ROYAL SON',\n",
       " 'DEIXELS',\n",
       " 'Silver Kartz',\n",
       " 'VINCENT CHASE',\n",
       " 'Fastrack',\n",
       " 'PIRASO',\n",
       " 'PHENOMENAL',\n",
       " 'EYEXACK',\n",
       " 'hipe',\n",
       " 'PIRASO',\n",
       " 'Fastrack',\n",
       " 'ROYAL SON',\n",
       " 'Singco India',\n",
       " 'New Specs',\n",
       " 'hipe',\n",
       " 'ROZZETTA CRAFT',\n",
       " 'ROZZETTA CRAFT',\n",
       " 'ROYAL SON',\n",
       " 'Lee Topper',\n",
       " 'VINCENT CHASE',\n",
       " 'Fastrack',\n",
       " 'kingsunglasses',\n",
       " 'kingsunglasses',\n",
       " 'ROYAL SON',\n",
       " 'Silver Kartz',\n",
       " 'Silver Kartz',\n",
       " 'Lee Topper',\n",
       " 'ROYAL SON',\n",
       " 'ROZZETTA CRAFT',\n",
       " 'hipe',\n",
       " 'Singco India',\n",
       " 'ROYAL SON']"
      ]
     },
     "execution_count": 68,
     "metadata": {},
     "output_type": "execute_result"
    }
   ],
   "source": [
    "page2_brand=[]\n",
    "for i in page2_glass:\n",
    "    page2_brand.append(i.text)\n",
    "    \n",
    "page2_brand"
   ]
  },
  {
   "cell_type": "code",
   "execution_count": 69,
   "id": "982833a4",
   "metadata": {},
   "outputs": [
    {
     "data": {
      "text/plain": [
       "[<selenium.webdriver.remote.webelement.WebElement (session=\"993e7df9a5251c616153e28f8352ee4c\", element=\"29d0e1ae-43bb-4b8b-928a-12764e202546\")>,\n",
       " <selenium.webdriver.remote.webelement.WebElement (session=\"993e7df9a5251c616153e28f8352ee4c\", element=\"07851e82-eb8b-4ba8-b7d3-d3c8dcba270b\")>,\n",
       " <selenium.webdriver.remote.webelement.WebElement (session=\"993e7df9a5251c616153e28f8352ee4c\", element=\"c0071429-38c0-4182-852f-e5fdcf4dc411\")>,\n",
       " <selenium.webdriver.remote.webelement.WebElement (session=\"993e7df9a5251c616153e28f8352ee4c\", element=\"2d355b77-c31b-4bce-9f68-0ea31c76e242\")>,\n",
       " <selenium.webdriver.remote.webelement.WebElement (session=\"993e7df9a5251c616153e28f8352ee4c\", element=\"103b0ad2-3f0f-402a-bba6-695cd3790acc\")>,\n",
       " <selenium.webdriver.remote.webelement.WebElement (session=\"993e7df9a5251c616153e28f8352ee4c\", element=\"cefcd749-dc0c-4552-8bf1-e86dd0769b96\")>,\n",
       " <selenium.webdriver.remote.webelement.WebElement (session=\"993e7df9a5251c616153e28f8352ee4c\", element=\"7ef2e36f-8374-4cf9-85c6-5e941d8b330c\")>,\n",
       " <selenium.webdriver.remote.webelement.WebElement (session=\"993e7df9a5251c616153e28f8352ee4c\", element=\"8ded0bd4-2ddb-4a91-9ebe-be8d6a682b73\")>,\n",
       " <selenium.webdriver.remote.webelement.WebElement (session=\"993e7df9a5251c616153e28f8352ee4c\", element=\"ef722832-5ec2-4873-9af5-fdc6af6f2b18\")>,\n",
       " <selenium.webdriver.remote.webelement.WebElement (session=\"993e7df9a5251c616153e28f8352ee4c\", element=\"ef3551a2-35c6-4342-8926-d81ff5d6f007\")>,\n",
       " <selenium.webdriver.remote.webelement.WebElement (session=\"993e7df9a5251c616153e28f8352ee4c\", element=\"d8e82c66-d22f-4f3d-9ea7-bedd4ced4134\")>,\n",
       " <selenium.webdriver.remote.webelement.WebElement (session=\"993e7df9a5251c616153e28f8352ee4c\", element=\"7ff795ab-015a-484e-b6e2-d0206c7a04ea\")>,\n",
       " <selenium.webdriver.remote.webelement.WebElement (session=\"993e7df9a5251c616153e28f8352ee4c\", element=\"2391ccd1-f991-475f-8bbb-c3e1b2bcf8f0\")>,\n",
       " <selenium.webdriver.remote.webelement.WebElement (session=\"993e7df9a5251c616153e28f8352ee4c\", element=\"0565ffec-286c-4cd8-8ab9-0f8192699f63\")>,\n",
       " <selenium.webdriver.remote.webelement.WebElement (session=\"993e7df9a5251c616153e28f8352ee4c\", element=\"13cc3035-d19a-4815-a504-a2bc4fc90218\")>,\n",
       " <selenium.webdriver.remote.webelement.WebElement (session=\"993e7df9a5251c616153e28f8352ee4c\", element=\"ca8bd9de-0c11-47bf-a193-e6c17466aa5d\")>,\n",
       " <selenium.webdriver.remote.webelement.WebElement (session=\"993e7df9a5251c616153e28f8352ee4c\", element=\"d2f36c9c-0982-4155-b814-b26c40a99f71\")>,\n",
       " <selenium.webdriver.remote.webelement.WebElement (session=\"993e7df9a5251c616153e28f8352ee4c\", element=\"365ec367-a49e-486f-b674-280012fa55ca\")>,\n",
       " <selenium.webdriver.remote.webelement.WebElement (session=\"993e7df9a5251c616153e28f8352ee4c\", element=\"7fcee7ba-d114-469a-ae24-147b7c1f6d3e\")>,\n",
       " <selenium.webdriver.remote.webelement.WebElement (session=\"993e7df9a5251c616153e28f8352ee4c\", element=\"3413f7d8-cb53-4173-ada4-68e6933b4cad\")>,\n",
       " <selenium.webdriver.remote.webelement.WebElement (session=\"993e7df9a5251c616153e28f8352ee4c\", element=\"84c9228a-eda3-48bf-8fcc-caf46e59692c\")>,\n",
       " <selenium.webdriver.remote.webelement.WebElement (session=\"993e7df9a5251c616153e28f8352ee4c\", element=\"6366e932-c908-45cd-8013-d1584ddaac1b\")>,\n",
       " <selenium.webdriver.remote.webelement.WebElement (session=\"993e7df9a5251c616153e28f8352ee4c\", element=\"723a0b92-d03b-440f-819d-662db4ce7e14\")>,\n",
       " <selenium.webdriver.remote.webelement.WebElement (session=\"993e7df9a5251c616153e28f8352ee4c\", element=\"d6c15a27-3647-47aa-988e-78dc1d98ae2a\")>,\n",
       " <selenium.webdriver.remote.webelement.WebElement (session=\"993e7df9a5251c616153e28f8352ee4c\", element=\"8d2b019e-9eb8-4fd6-aba0-566151cef9fa\")>,\n",
       " <selenium.webdriver.remote.webelement.WebElement (session=\"993e7df9a5251c616153e28f8352ee4c\", element=\"53f5914c-3896-4cd6-99c2-33a8f723c36f\")>,\n",
       " <selenium.webdriver.remote.webelement.WebElement (session=\"993e7df9a5251c616153e28f8352ee4c\", element=\"b033b6f2-8c45-4b72-b488-b378961788fc\")>,\n",
       " <selenium.webdriver.remote.webelement.WebElement (session=\"993e7df9a5251c616153e28f8352ee4c\", element=\"53a1d478-986a-4855-97a9-145e83f1f51c\")>,\n",
       " <selenium.webdriver.remote.webelement.WebElement (session=\"993e7df9a5251c616153e28f8352ee4c\", element=\"6fdf680a-7689-45cf-8b37-eddc2a2c2f70\")>,\n",
       " <selenium.webdriver.remote.webelement.WebElement (session=\"993e7df9a5251c616153e28f8352ee4c\", element=\"a1de476b-4f1d-48b4-9cea-bda800361a57\")>,\n",
       " <selenium.webdriver.remote.webelement.WebElement (session=\"993e7df9a5251c616153e28f8352ee4c\", element=\"7d20dfe0-5714-4f6a-9598-31ed31a6abaa\")>,\n",
       " <selenium.webdriver.remote.webelement.WebElement (session=\"993e7df9a5251c616153e28f8352ee4c\", element=\"a3365ded-c46c-41fe-b9b8-8b75a4ca383b\")>,\n",
       " <selenium.webdriver.remote.webelement.WebElement (session=\"993e7df9a5251c616153e28f8352ee4c\", element=\"22c1f030-4f19-49b8-a3e2-9a38f43d52d0\")>,\n",
       " <selenium.webdriver.remote.webelement.WebElement (session=\"993e7df9a5251c616153e28f8352ee4c\", element=\"9320e3bc-6818-4f0f-910d-264535e71db1\")>,\n",
       " <selenium.webdriver.remote.webelement.WebElement (session=\"993e7df9a5251c616153e28f8352ee4c\", element=\"ea019c19-0880-4b08-a422-a0bf50f12154\")>,\n",
       " <selenium.webdriver.remote.webelement.WebElement (session=\"993e7df9a5251c616153e28f8352ee4c\", element=\"5c34590f-8ce3-4e1e-8882-13c5d66c3482\")>,\n",
       " <selenium.webdriver.remote.webelement.WebElement (session=\"993e7df9a5251c616153e28f8352ee4c\", element=\"38063d72-fbe8-4d6e-be98-8ffdd6ffc405\")>,\n",
       " <selenium.webdriver.remote.webelement.WebElement (session=\"993e7df9a5251c616153e28f8352ee4c\", element=\"b45040ea-5d2a-498f-83ee-054a90342c47\")>,\n",
       " <selenium.webdriver.remote.webelement.WebElement (session=\"993e7df9a5251c616153e28f8352ee4c\", element=\"296c736e-f380-471f-9831-6a9ce437c59b\")>,\n",
       " <selenium.webdriver.remote.webelement.WebElement (session=\"993e7df9a5251c616153e28f8352ee4c\", element=\"66178eae-00e7-4f31-9e36-4b1c41c63278\")>]"
      ]
     },
     "execution_count": 69,
     "metadata": {},
     "output_type": "execute_result"
    }
   ],
   "source": [
    "prdt2_des=driver4.find_elements_by_xpath('//a[@class=\"IRpwTa\"]')\n",
    "prdt2_des"
   ]
  },
  {
   "cell_type": "code",
   "execution_count": 70,
   "id": "415bdd6e",
   "metadata": {},
   "outputs": [
    {
     "data": {
      "text/plain": [
       "['UV Protection Rectangular Sunglasses (58)',\n",
       " 'Mirrored, UV Protection, Riding Glasses, Others Round S...',\n",
       " 'Riding Glasses, UV Protection Oval Sunglasses (52)',\n",
       " 'UV Protection, Gradient Retro Square Sunglasses (Free S...',\n",
       " 'Polarized Round Sunglasses (48)',\n",
       " 'UV Protection Rectangular Sunglasses (Free Size)',\n",
       " 'Polarized, Night Vision, Riding Glasses Sports, Wrap-ar...',\n",
       " 'UV Protection, Gradient Rectangular Sunglasses (Free Si...',\n",
       " 'UV Protection Retro Square Sunglasses (58)',\n",
       " 'UV Protection Wayfarer Sunglasses (Free Size)',\n",
       " 'UV Protection Aviator Sunglasses (88)',\n",
       " 'by Lenskart Polarized, UV Protection Wayfarer Sunglasse...',\n",
       " 'UV Protection Sports Sunglasses (63)',\n",
       " 'UV Protection Aviator Sunglasses (58)',\n",
       " 'UV Protection, Mirrored Clubmaster Sunglasses (Free Siz...',\n",
       " 'UV Protection, Others, Riding Glasses Wayfarer, Rectang...',\n",
       " 'Mirrored, Gradient, Riding Glasses Round Sunglasses (55...',\n",
       " 'UV Protection Butterfly Sunglasses (65)',\n",
       " 'UV Protection Aviator Sunglasses (Free Size)',\n",
       " 'Polarized, UV Protection Round Sunglasses (53)',\n",
       " 'Gradient, Toughened Glass Lens, UV Protection Retro Squ...',\n",
       " 'UV Protection, Mirrored Sports Sunglasses (Free Size)',\n",
       " 'Gradient, UV Protection Round Sunglasses (Free Size)',\n",
       " 'UV Protection, Gradient Retro Square Sunglasses (Free S...',\n",
       " 'UV Protection, Gradient Rectangular Sunglasses (Free Si...',\n",
       " 'Mirrored Aviator Sunglasses (55)',\n",
       " 'UV Protection, Riding Glasses Retro Square, Spectacle ...',\n",
       " 'by Lenskart Polarized, UV Protection Aviator Sunglasses...',\n",
       " 'UV Protection Aviator Sunglasses (58)',\n",
       " 'Mirrored, UV Protection Wayfarer Sunglasses (53)',\n",
       " 'UV Protection Rectangular Sunglasses (55)',\n",
       " 'Polarized, UV Protection Aviator Sunglasses (58)',\n",
       " 'UV Protection Oval Sunglasses (56)',\n",
       " 'UV Protection Wayfarer Sunglasses (Free Size)',\n",
       " 'Riding Glasses Wrap-around Sunglasses (Free Size)',\n",
       " 'Polarized, UV Protection Wayfarer Sunglasses (61)',\n",
       " 'UV Protection Retro Square Sunglasses (Free Size)',\n",
       " 'Mirrored, UV Protection, Gradient Round Sunglasses (55)',\n",
       " 'UV Protection Aviator Sunglasses (Free Size)',\n",
       " 'Polarized, UV Protection Wayfarer, Retro Square Sunglas...']"
      ]
     },
     "execution_count": 70,
     "metadata": {},
     "output_type": "execute_result"
    }
   ],
   "source": [
    "des2_name=[]\n",
    "for i in prdt2_des:\n",
    "    des2_name.append(i.text)\n",
    "    \n",
    "des2_name"
   ]
  },
  {
   "cell_type": "code",
   "execution_count": 73,
   "id": "ce39c426",
   "metadata": {},
   "outputs": [
    {
     "data": {
      "text/plain": [
       "[<selenium.webdriver.remote.webelement.WebElement (session=\"993e7df9a5251c616153e28f8352ee4c\", element=\"db2d530e-90e5-48ae-94c4-3b179782f4ed\")>,\n",
       " <selenium.webdriver.remote.webelement.WebElement (session=\"993e7df9a5251c616153e28f8352ee4c\", element=\"e1b016a7-f91a-4cde-abce-e9458b2ce221\")>,\n",
       " <selenium.webdriver.remote.webelement.WebElement (session=\"993e7df9a5251c616153e28f8352ee4c\", element=\"95c62938-2493-4268-beb7-fda978260635\")>,\n",
       " <selenium.webdriver.remote.webelement.WebElement (session=\"993e7df9a5251c616153e28f8352ee4c\", element=\"f279aaa5-29a9-4316-b02d-d0045fd755de\")>,\n",
       " <selenium.webdriver.remote.webelement.WebElement (session=\"993e7df9a5251c616153e28f8352ee4c\", element=\"3ae3e82f-d7d2-4647-9a0e-f83376e0a9dc\")>,\n",
       " <selenium.webdriver.remote.webelement.WebElement (session=\"993e7df9a5251c616153e28f8352ee4c\", element=\"75aeb616-41ee-4f6f-8326-331335b0d7b7\")>,\n",
       " <selenium.webdriver.remote.webelement.WebElement (session=\"993e7df9a5251c616153e28f8352ee4c\", element=\"cb41a0d0-2223-4486-8865-361ef0b912bc\")>,\n",
       " <selenium.webdriver.remote.webelement.WebElement (session=\"993e7df9a5251c616153e28f8352ee4c\", element=\"f2da5a9c-46a3-4f9a-856d-6dfcec9a99af\")>,\n",
       " <selenium.webdriver.remote.webelement.WebElement (session=\"993e7df9a5251c616153e28f8352ee4c\", element=\"361c09a7-4b9c-4463-bd2b-073d5319dd11\")>,\n",
       " <selenium.webdriver.remote.webelement.WebElement (session=\"993e7df9a5251c616153e28f8352ee4c\", element=\"512a475d-2dec-4b61-a7b7-ce784e70680f\")>,\n",
       " <selenium.webdriver.remote.webelement.WebElement (session=\"993e7df9a5251c616153e28f8352ee4c\", element=\"e2e97fa0-87a1-4126-aca3-245dc23ddb2a\")>,\n",
       " <selenium.webdriver.remote.webelement.WebElement (session=\"993e7df9a5251c616153e28f8352ee4c\", element=\"029663df-9ab6-41f6-87b5-bede931ca2c6\")>,\n",
       " <selenium.webdriver.remote.webelement.WebElement (session=\"993e7df9a5251c616153e28f8352ee4c\", element=\"0228981e-1c86-43e2-ad93-668aeb4fff49\")>,\n",
       " <selenium.webdriver.remote.webelement.WebElement (session=\"993e7df9a5251c616153e28f8352ee4c\", element=\"d66e9bd4-1551-451d-b7bd-046fd9dfcbd0\")>,\n",
       " <selenium.webdriver.remote.webelement.WebElement (session=\"993e7df9a5251c616153e28f8352ee4c\", element=\"15a4fc1c-1fdf-4a43-a7ad-e458cf3aeae0\")>,\n",
       " <selenium.webdriver.remote.webelement.WebElement (session=\"993e7df9a5251c616153e28f8352ee4c\", element=\"f178214a-8c4c-493e-b76f-f36e16f2eb4e\")>,\n",
       " <selenium.webdriver.remote.webelement.WebElement (session=\"993e7df9a5251c616153e28f8352ee4c\", element=\"f13f68a1-24e5-44de-a2bd-89242d438a59\")>,\n",
       " <selenium.webdriver.remote.webelement.WebElement (session=\"993e7df9a5251c616153e28f8352ee4c\", element=\"bf601281-af9b-4735-b874-86502c07e4ae\")>,\n",
       " <selenium.webdriver.remote.webelement.WebElement (session=\"993e7df9a5251c616153e28f8352ee4c\", element=\"458dcc46-bcc4-45cf-b500-34ed57b066cf\")>,\n",
       " <selenium.webdriver.remote.webelement.WebElement (session=\"993e7df9a5251c616153e28f8352ee4c\", element=\"a9b66155-337d-47c6-8158-9c2ce3e100b4\")>,\n",
       " <selenium.webdriver.remote.webelement.WebElement (session=\"993e7df9a5251c616153e28f8352ee4c\", element=\"55f8b98a-271c-4d35-821e-847be155c629\")>,\n",
       " <selenium.webdriver.remote.webelement.WebElement (session=\"993e7df9a5251c616153e28f8352ee4c\", element=\"d66c21d5-c92a-4bf2-9c09-d84d18985f06\")>,\n",
       " <selenium.webdriver.remote.webelement.WebElement (session=\"993e7df9a5251c616153e28f8352ee4c\", element=\"84628f66-642c-40f7-a4fb-68648e3fa78c\")>,\n",
       " <selenium.webdriver.remote.webelement.WebElement (session=\"993e7df9a5251c616153e28f8352ee4c\", element=\"a13090e5-0f19-48a2-b3fd-3090922baa97\")>,\n",
       " <selenium.webdriver.remote.webelement.WebElement (session=\"993e7df9a5251c616153e28f8352ee4c\", element=\"d2fc6272-6c49-4400-989e-0abf3ae6c2ae\")>,\n",
       " <selenium.webdriver.remote.webelement.WebElement (session=\"993e7df9a5251c616153e28f8352ee4c\", element=\"05e555f7-8f83-4ee2-ace0-c6ca39302e57\")>,\n",
       " <selenium.webdriver.remote.webelement.WebElement (session=\"993e7df9a5251c616153e28f8352ee4c\", element=\"825acb41-30f7-418b-a1c1-8ec57b934904\")>,\n",
       " <selenium.webdriver.remote.webelement.WebElement (session=\"993e7df9a5251c616153e28f8352ee4c\", element=\"955baedc-21f7-4b4c-a47c-30934da8aaa0\")>,\n",
       " <selenium.webdriver.remote.webelement.WebElement (session=\"993e7df9a5251c616153e28f8352ee4c\", element=\"1c73a64f-6cca-4c69-a45c-e463561a4344\")>,\n",
       " <selenium.webdriver.remote.webelement.WebElement (session=\"993e7df9a5251c616153e28f8352ee4c\", element=\"ac8350ed-1df1-42cd-b04b-626f9610a49c\")>,\n",
       " <selenium.webdriver.remote.webelement.WebElement (session=\"993e7df9a5251c616153e28f8352ee4c\", element=\"3ebec605-10da-4962-af94-2f234ebfa2e7\")>,\n",
       " <selenium.webdriver.remote.webelement.WebElement (session=\"993e7df9a5251c616153e28f8352ee4c\", element=\"c1e54c14-331f-478e-b622-61dcc574392d\")>,\n",
       " <selenium.webdriver.remote.webelement.WebElement (session=\"993e7df9a5251c616153e28f8352ee4c\", element=\"5a624e2f-5641-4079-9bc4-3aa36095c826\")>,\n",
       " <selenium.webdriver.remote.webelement.WebElement (session=\"993e7df9a5251c616153e28f8352ee4c\", element=\"1b94de60-fdaf-4d9b-8038-6ac3ef4d3999\")>,\n",
       " <selenium.webdriver.remote.webelement.WebElement (session=\"993e7df9a5251c616153e28f8352ee4c\", element=\"0a4e4b3d-ff34-4de7-bb6a-5f99dea36ac0\")>,\n",
       " <selenium.webdriver.remote.webelement.WebElement (session=\"993e7df9a5251c616153e28f8352ee4c\", element=\"ebb2129d-11de-418d-819f-80715d401ca3\")>,\n",
       " <selenium.webdriver.remote.webelement.WebElement (session=\"993e7df9a5251c616153e28f8352ee4c\", element=\"51c6e3d7-2729-495c-9bc2-976886a69b0b\")>,\n",
       " <selenium.webdriver.remote.webelement.WebElement (session=\"993e7df9a5251c616153e28f8352ee4c\", element=\"7f875432-667f-41ea-b364-f15857c2ec4c\")>,\n",
       " <selenium.webdriver.remote.webelement.WebElement (session=\"993e7df9a5251c616153e28f8352ee4c\", element=\"95e5876d-8a06-4678-92c8-e3efd6d2a729\")>,\n",
       " <selenium.webdriver.remote.webelement.WebElement (session=\"993e7df9a5251c616153e28f8352ee4c\", element=\"6ff90941-e91e-4253-9e84-09e01186fdaa\")>]"
      ]
     },
     "execution_count": 73,
     "metadata": {},
     "output_type": "execute_result"
    }
   ],
   "source": [
    "price2=driver4.find_elements_by_xpath('//div[@class=\"_30jeq3\"]')\n",
    "price2"
   ]
  },
  {
   "cell_type": "code",
   "execution_count": 74,
   "id": "426e1561",
   "metadata": {},
   "outputs": [
    {
     "data": {
      "text/plain": [
       "['₹449',\n",
       " '₹259',\n",
       " '₹156',\n",
       " '₹449',\n",
       " '₹152',\n",
       " '₹156',\n",
       " '₹499',\n",
       " '₹399',\n",
       " '₹449',\n",
       " '₹199',\n",
       " '₹242',\n",
       " '₹799',\n",
       " '₹719',\n",
       " '₹299',\n",
       " '₹289',\n",
       " '₹178',\n",
       " '₹189',\n",
       " '₹349',\n",
       " '₹639',\n",
       " '₹664',\n",
       " '₹664',\n",
       " '₹144',\n",
       " '₹197',\n",
       " '₹349',\n",
       " '₹348',\n",
       " '₹359',\n",
       " '₹375',\n",
       " '₹999',\n",
       " '₹1,059',\n",
       " '₹249',\n",
       " '₹159',\n",
       " '₹759',\n",
       " '₹269',\n",
       " '₹233',\n",
       " '₹275',\n",
       " '₹699',\n",
       " '₹499',\n",
       " '₹189',\n",
       " '₹334',\n",
       " '₹664']"
      ]
     },
     "execution_count": 74,
     "metadata": {},
     "output_type": "execute_result"
    }
   ],
   "source": [
    "price2_name=[]\n",
    "for i in price2:\n",
    "    price2_name.append(i.text)\n",
    "    \n",
    "price2_name"
   ]
  },
  {
   "cell_type": "code",
   "execution_count": 79,
   "id": "a39ed5c6",
   "metadata": {},
   "outputs": [],
   "source": [
    "next_page=driver4.find_element_by_class_name('ge-49M')"
   ]
  },
  {
   "cell_type": "code",
   "execution_count": 80,
   "id": "2310f5c3",
   "metadata": {},
   "outputs": [
    {
     "data": {
      "text/plain": [
       "<selenium.webdriver.remote.webelement.WebElement (session=\"993e7df9a5251c616153e28f8352ee4c\", element=\"63bc8c50-779e-43c2-83e1-929a13b8265f\")>"
      ]
     },
     "execution_count": 80,
     "metadata": {},
     "output_type": "execute_result"
    }
   ],
   "source": [
    "next_page"
   ]
  },
  {
   "cell_type": "code",
   "execution_count": 81,
   "id": "a2c00294",
   "metadata": {},
   "outputs": [],
   "source": [
    "next_page.click()"
   ]
  },
  {
   "cell_type": "code",
   "execution_count": 82,
   "id": "5c188c34",
   "metadata": {},
   "outputs": [
    {
     "data": {
      "text/plain": [
       "[<selenium.webdriver.remote.webelement.WebElement (session=\"993e7df9a5251c616153e28f8352ee4c\", element=\"2b866ffd-e03a-4a58-813d-773c6c208efa\")>,\n",
       " <selenium.webdriver.remote.webelement.WebElement (session=\"993e7df9a5251c616153e28f8352ee4c\", element=\"74ff678a-68a8-482b-9608-fe1962946bf5\")>,\n",
       " <selenium.webdriver.remote.webelement.WebElement (session=\"993e7df9a5251c616153e28f8352ee4c\", element=\"8cbb310d-de29-4c3a-8e04-e7dec442c47c\")>,\n",
       " <selenium.webdriver.remote.webelement.WebElement (session=\"993e7df9a5251c616153e28f8352ee4c\", element=\"7aa2f66b-650b-44c7-9c5b-eb7d0516a9dd\")>,\n",
       " <selenium.webdriver.remote.webelement.WebElement (session=\"993e7df9a5251c616153e28f8352ee4c\", element=\"7a058b34-c927-416f-a74d-cd7c022a4543\")>,\n",
       " <selenium.webdriver.remote.webelement.WebElement (session=\"993e7df9a5251c616153e28f8352ee4c\", element=\"fea3b0c0-713a-4c88-a4f5-a9fad79b64a0\")>,\n",
       " <selenium.webdriver.remote.webelement.WebElement (session=\"993e7df9a5251c616153e28f8352ee4c\", element=\"40c5a2df-ce6d-4f5c-9d45-988fc24b5ea1\")>,\n",
       " <selenium.webdriver.remote.webelement.WebElement (session=\"993e7df9a5251c616153e28f8352ee4c\", element=\"17695007-e183-4367-b3d4-fc33adbff572\")>,\n",
       " <selenium.webdriver.remote.webelement.WebElement (session=\"993e7df9a5251c616153e28f8352ee4c\", element=\"bd3b352a-361f-40d0-bece-2054d499fc45\")>,\n",
       " <selenium.webdriver.remote.webelement.WebElement (session=\"993e7df9a5251c616153e28f8352ee4c\", element=\"068efe06-d524-4d98-9e0b-712adfb12972\")>,\n",
       " <selenium.webdriver.remote.webelement.WebElement (session=\"993e7df9a5251c616153e28f8352ee4c\", element=\"4db0c098-92db-4e70-b9cc-58ec1ef029f4\")>,\n",
       " <selenium.webdriver.remote.webelement.WebElement (session=\"993e7df9a5251c616153e28f8352ee4c\", element=\"a9dc01fa-2b45-4b7d-b5c0-ce8259f660f9\")>,\n",
       " <selenium.webdriver.remote.webelement.WebElement (session=\"993e7df9a5251c616153e28f8352ee4c\", element=\"c3f58cc2-5fbf-4945-a67d-8c3a7d29c451\")>,\n",
       " <selenium.webdriver.remote.webelement.WebElement (session=\"993e7df9a5251c616153e28f8352ee4c\", element=\"252535f4-4455-438a-9e38-f3ae5bfac016\")>,\n",
       " <selenium.webdriver.remote.webelement.WebElement (session=\"993e7df9a5251c616153e28f8352ee4c\", element=\"e90cbd51-532e-46df-944a-432f368b10e3\")>,\n",
       " <selenium.webdriver.remote.webelement.WebElement (session=\"993e7df9a5251c616153e28f8352ee4c\", element=\"7dc279ed-d325-435a-845b-87693d8453d3\")>,\n",
       " <selenium.webdriver.remote.webelement.WebElement (session=\"993e7df9a5251c616153e28f8352ee4c\", element=\"ce8ee4f7-c1d7-42a9-a91f-33c5279e13d6\")>,\n",
       " <selenium.webdriver.remote.webelement.WebElement (session=\"993e7df9a5251c616153e28f8352ee4c\", element=\"15f67802-c092-4087-9d1d-6fc413c0e271\")>,\n",
       " <selenium.webdriver.remote.webelement.WebElement (session=\"993e7df9a5251c616153e28f8352ee4c\", element=\"92dbf21e-a187-421b-b41c-e875d90eba05\")>,\n",
       " <selenium.webdriver.remote.webelement.WebElement (session=\"993e7df9a5251c616153e28f8352ee4c\", element=\"20e0a655-c5c9-4e44-ba02-0a15627683a2\")>,\n",
       " <selenium.webdriver.remote.webelement.WebElement (session=\"993e7df9a5251c616153e28f8352ee4c\", element=\"0fd10d48-8d6c-4ea8-b35f-674a96695da7\")>,\n",
       " <selenium.webdriver.remote.webelement.WebElement (session=\"993e7df9a5251c616153e28f8352ee4c\", element=\"feb821f4-2f06-4ddc-b0bf-2a3330606b29\")>,\n",
       " <selenium.webdriver.remote.webelement.WebElement (session=\"993e7df9a5251c616153e28f8352ee4c\", element=\"074dcd36-36bd-4516-9efb-8c48ce561922\")>,\n",
       " <selenium.webdriver.remote.webelement.WebElement (session=\"993e7df9a5251c616153e28f8352ee4c\", element=\"fa8ad545-36cc-4723-8508-3d4180bd105e\")>,\n",
       " <selenium.webdriver.remote.webelement.WebElement (session=\"993e7df9a5251c616153e28f8352ee4c\", element=\"ea1287fe-e027-4e6e-a48b-a44138257f2c\")>,\n",
       " <selenium.webdriver.remote.webelement.WebElement (session=\"993e7df9a5251c616153e28f8352ee4c\", element=\"8ac39312-cfbd-4452-a9ae-9dcd9f89aa47\")>,\n",
       " <selenium.webdriver.remote.webelement.WebElement (session=\"993e7df9a5251c616153e28f8352ee4c\", element=\"511eeb31-4e3a-4275-9328-ad0d1717d0ed\")>,\n",
       " <selenium.webdriver.remote.webelement.WebElement (session=\"993e7df9a5251c616153e28f8352ee4c\", element=\"c486b031-5af2-4fb8-bf3f-a1b4e793f4c4\")>,\n",
       " <selenium.webdriver.remote.webelement.WebElement (session=\"993e7df9a5251c616153e28f8352ee4c\", element=\"6c842f90-9cfe-4084-8061-d3fe58ce203b\")>,\n",
       " <selenium.webdriver.remote.webelement.WebElement (session=\"993e7df9a5251c616153e28f8352ee4c\", element=\"284ad52b-840f-4fff-a163-04fca8470fde\")>,\n",
       " <selenium.webdriver.remote.webelement.WebElement (session=\"993e7df9a5251c616153e28f8352ee4c\", element=\"37c6cba2-e15e-482b-a462-285afc2f00cd\")>,\n",
       " <selenium.webdriver.remote.webelement.WebElement (session=\"993e7df9a5251c616153e28f8352ee4c\", element=\"7898ecb2-0e29-421e-b883-9e09a19d602e\")>,\n",
       " <selenium.webdriver.remote.webelement.WebElement (session=\"993e7df9a5251c616153e28f8352ee4c\", element=\"bd128f8d-086c-460e-9a94-ba894cc22fdc\")>,\n",
       " <selenium.webdriver.remote.webelement.WebElement (session=\"993e7df9a5251c616153e28f8352ee4c\", element=\"adeb1b34-1b16-44cf-9074-8f5a6e27e2b1\")>,\n",
       " <selenium.webdriver.remote.webelement.WebElement (session=\"993e7df9a5251c616153e28f8352ee4c\", element=\"c061c3d1-9843-42a7-8cfb-97bcb2dc417b\")>,\n",
       " <selenium.webdriver.remote.webelement.WebElement (session=\"993e7df9a5251c616153e28f8352ee4c\", element=\"b5b0d405-dcd2-480c-aab3-42b00c0e937a\")>,\n",
       " <selenium.webdriver.remote.webelement.WebElement (session=\"993e7df9a5251c616153e28f8352ee4c\", element=\"58add123-f505-4d0c-a4e6-db3919c5ace5\")>,\n",
       " <selenium.webdriver.remote.webelement.WebElement (session=\"993e7df9a5251c616153e28f8352ee4c\", element=\"62da27af-b4ea-4499-a97c-b18adbad5181\")>,\n",
       " <selenium.webdriver.remote.webelement.WebElement (session=\"993e7df9a5251c616153e28f8352ee4c\", element=\"870a8986-3acb-4b7e-85b4-bf8a3a3c8e0d\")>,\n",
       " <selenium.webdriver.remote.webelement.WebElement (session=\"993e7df9a5251c616153e28f8352ee4c\", element=\"1d26e3a7-128c-42f1-ac0a-7686cc926606\")>]"
      ]
     },
     "execution_count": 82,
     "metadata": {},
     "output_type": "execute_result"
    }
   ],
   "source": [
    "page3_brand=driver4.find_elements_by_xpath('//div[@class=\"_2WkVRV\"]')\n",
    "page3_brand"
   ]
  },
  {
   "cell_type": "code",
   "execution_count": 83,
   "id": "db1ec1c1",
   "metadata": {},
   "outputs": [
    {
     "data": {
      "text/plain": [
       "['VINCENT CHASE',\n",
       " 'VINCENT CHASE',\n",
       " 'Elligator',\n",
       " 'SHAAH COLLECTIONS',\n",
       " 'SUNBEE',\n",
       " 'PIRASO',\n",
       " 'SRPM',\n",
       " 'ROYAL SON',\n",
       " 'Fastrack',\n",
       " 'New Specs',\n",
       " 'SHAAH COLLECTIONS',\n",
       " 'EYEXACK',\n",
       " 'SUNBEE',\n",
       " 'kingsunglasses',\n",
       " 'Fastrack',\n",
       " 'ROZZETTA CRAFT',\n",
       " 'PHENOMENAL',\n",
       " 'Elligator',\n",
       " 'Johaena',\n",
       " 'ROYAL SON',\n",
       " 'ROZZETTA CRAFT',\n",
       " 'PIRASO',\n",
       " 'Fastrack',\n",
       " 'ROYAL SON',\n",
       " 'PIRASO',\n",
       " 'GANSTA',\n",
       " 'PHENOMENAL',\n",
       " 'VINCENT CHASE',\n",
       " 'Elligator',\n",
       " 'PHENOMENAL',\n",
       " 'Elligator',\n",
       " 'ROYAL SON',\n",
       " 'maxa',\n",
       " 'DEIXELS',\n",
       " 'kingsunglasses',\n",
       " 'VINCENT CHASE',\n",
       " 'Rich Club',\n",
       " 'PIRASO',\n",
       " 'Singco India',\n",
       " 'ROYAL SON']"
      ]
     },
     "execution_count": 83,
     "metadata": {},
     "output_type": "execute_result"
    }
   ],
   "source": [
    "brand3=[]\n",
    "for i in page3_brand:\n",
    "    brand3.append(i.text)\n",
    "    brand3.append:brand3[0:20]\n",
    "brand3"
   ]
  },
  {
   "cell_type": "markdown",
   "id": "3ee12864",
   "metadata": {},
   "source": [
    "# Scrape 100 reviews data from flipkart.com for iphone11 phone. You have to go the link:\n"
   ]
  },
  {
   "cell_type": "code",
   "execution_count": null,
   "id": "a158fb76",
   "metadata": {},
   "outputs": [],
   "source": [
    "driver5=webdriver.Chrome('chromedriver.exe')"
   ]
  },
  {
   "cell_type": "code",
   "execution_count": 96,
   "id": "a9ee9cad",
   "metadata": {},
   "outputs": [],
   "source": [
    "url5=\"s://www.flipkart.com/apple-iphone-11-black-64-gb-includes- earpods-power-adapter/p/itm0f37c2240b217?pid=MOBFKCTSVZAXUHGR&lid=LSTMOBFKCTSVZAXUHGREPBFGI&marketplace\"\n",
    "driver5.get(url5)"
   ]
  },
  {
   "cell_type": "code",
   "execution_count": null,
   "id": "db4de48a",
   "metadata": {},
   "outputs": [],
   "source": [
    "# The Link provided above is not opening in 'automated tested chrome' it may be removed by flipkart so cannot scrap the data \n",
    "\n",
    "\n"
   ]
  },
  {
   "cell_type": "markdown",
   "id": "dfd6423f",
   "metadata": {},
   "source": [
    "# Q6: Scrape data for first 100 sneakers you find when you visit flipkart.com andsearch for “sneakers” in the\n",
    "search field"
   ]
  },
  {
   "cell_type": "code",
   "execution_count": 98,
   "id": "95caf950",
   "metadata": {},
   "outputs": [],
   "source": [
    "driver6=webdriver.Chrome('chromedriver.exe')"
   ]
  },
  {
   "cell_type": "code",
   "execution_count": 99,
   "id": "2b96c343",
   "metadata": {},
   "outputs": [],
   "source": [
    "url6=\"https://www.flipkart.com/\"\n",
    "driver6.get(url6)"
   ]
  },
  {
   "cell_type": "code",
   "execution_count": 101,
   "id": "3da2a519",
   "metadata": {},
   "outputs": [],
   "source": [
    "srh_sneaker=driver6.find_element_by_class_name('_3704LK')"
   ]
  },
  {
   "cell_type": "code",
   "execution_count": 102,
   "id": "bf74bd0c",
   "metadata": {},
   "outputs": [
    {
     "data": {
      "text/plain": [
       "<selenium.webdriver.remote.webelement.WebElement (session=\"74bc26d4b1788e0d947dbd7160b5dbe7\", element=\"cf870edf-b558-4dc1-a00c-11435d0afd2e\")>"
      ]
     },
     "execution_count": 102,
     "metadata": {},
     "output_type": "execute_result"
    }
   ],
   "source": [
    "srh_sneaker"
   ]
  },
  {
   "cell_type": "code",
   "execution_count": 103,
   "id": "5fe8c863",
   "metadata": {},
   "outputs": [],
   "source": [
    "srh_sneaker.send_keys('sneakers')"
   ]
  },
  {
   "cell_type": "code",
   "execution_count": 107,
   "id": "2b3a25f2",
   "metadata": {},
   "outputs": [],
   "source": [
    "srh_btn6=driver6.find_element_by_class_name(\"_34RNph\")\n",
    "srh_btn6.click()"
   ]
  },
  {
   "cell_type": "code",
   "execution_count": 111,
   "id": "e4b0d35d",
   "metadata": {},
   "outputs": [],
   "source": [
    "brand_name6 = []\n",
    "prd_desc6 = []\n",
    "price6 = []\n",
    "discount6 = []\n",
    "\n",
    "for k in range(1,4):\n",
    "\n",
    "    \n",
    "    brand = driver6.find_elements_by_class_name('_2WkVRV')\n",
    "    \n",
    "\n",
    "    for i in brand:\n",
    "        brand_name6.append(i.text)\n",
    "\n",
    "    desc = driver6.find_elements_by_class_name('IRpwTa')\n",
    "    \n",
    "\n",
    "    for i in desc:\n",
    "        prd_desc6.append(i.text)\n",
    "\n",
    "    cost = driver6.find_elements_by_class_name(\"_30jeq3\")\n",
    "    \n",
    "\n",
    "    for i in cost:\n",
    "        price6.append(i.text)\n",
    "\n",
    "\n",
    "    dis = driver6.find_elements_by_class_name(\"_3Ay6Sb\")\n",
    "    \n",
    "\n",
    "    for i in dis:\n",
    "        discount6.append(i.text)\n",
    "    \n",
    "    \n",
    "        nxt_button=driver6.find_elements_by_xpath(\"//a[@class='_1LKTO3']\")              \n",
    "    try:\n",
    "\n",
    "        driver6.get(nxt_button[1].get_attribute('href'))\n",
    "        \n",
    "\n",
    "    except:\n",
    "\n",
    "        driver6.get(nxt_button[0].get_attribute('href'))"
   ]
  },
  {
   "cell_type": "code",
   "execution_count": 113,
   "id": "9ee595c5",
   "metadata": {},
   "outputs": [],
   "source": [
    "brand_name6 = brand_name6[0:100]\n",
    "prd_desc6 = prd_desc6[0:100]\n",
    "price6 = price6[0:100]\n",
    "discount6 = discount6[0:100]"
   ]
  },
  {
   "cell_type": "code",
   "execution_count": 116,
   "id": "93f00a68",
   "metadata": {},
   "outputs": [],
   "source": [
    "df6 = pd.DataFrame({})\n",
    "df6['brand_name'] = brand_name6\n",
    "df6['prd_desc'] = prd_desc6\n",
    "df6['price'] = price6\n",
    "df6['discount'] = discount6"
   ]
  },
  {
   "cell_type": "code",
   "execution_count": 117,
   "id": "12d484ee",
   "metadata": {},
   "outputs": [
    {
     "data": {
      "text/html": [
       "<div>\n",
       "<style scoped>\n",
       "    .dataframe tbody tr th:only-of-type {\n",
       "        vertical-align: middle;\n",
       "    }\n",
       "\n",
       "    .dataframe tbody tr th {\n",
       "        vertical-align: top;\n",
       "    }\n",
       "\n",
       "    .dataframe thead th {\n",
       "        text-align: right;\n",
       "    }\n",
       "</style>\n",
       "<table border=\"1\" class=\"dataframe\">\n",
       "  <thead>\n",
       "    <tr style=\"text-align: right;\">\n",
       "      <th></th>\n",
       "      <th>brand_name</th>\n",
       "      <th>prd_desc</th>\n",
       "      <th>price</th>\n",
       "      <th>discount</th>\n",
       "    </tr>\n",
       "  </thead>\n",
       "  <tbody>\n",
       "    <tr>\n",
       "      <th>0</th>\n",
       "      <td>Echor</td>\n",
       "      <td>Sneakers For Men</td>\n",
       "      <td>₹474</td>\n",
       "      <td>68% off</td>\n",
       "    </tr>\n",
       "    <tr>\n",
       "      <th>1</th>\n",
       "      <td>HRX by Hrithik Roshan</td>\n",
       "      <td>Men White Printed Sneakers Sneakers For Men</td>\n",
       "      <td>₹2,299</td>\n",
       "      <td>46% off</td>\n",
       "    </tr>\n",
       "    <tr>\n",
       "      <th>2</th>\n",
       "      <td>BRUTON</td>\n",
       "      <td>Combo Pack Of 4 Casual Shoes Loafer Shoes Snea...</td>\n",
       "      <td>₹599</td>\n",
       "      <td>82% off</td>\n",
       "    </tr>\n",
       "    <tr>\n",
       "      <th>3</th>\n",
       "      <td>Chevit</td>\n",
       "      <td>Super Stylish &amp; Trendy Combo Pack of 02 Pairs ...</td>\n",
       "      <td>₹689</td>\n",
       "      <td>56% off</td>\n",
       "    </tr>\n",
       "    <tr>\n",
       "      <th>4</th>\n",
       "      <td>CLYMB</td>\n",
       "      <td>Perfect Sports Shoes for Men's Running ,Cyclin...</td>\n",
       "      <td>₹249</td>\n",
       "      <td>75% off</td>\n",
       "    </tr>\n",
       "    <tr>\n",
       "      <th>...</th>\n",
       "      <td>...</td>\n",
       "      <td>...</td>\n",
       "      <td>...</td>\n",
       "      <td>...</td>\n",
       "    </tr>\n",
       "    <tr>\n",
       "      <th>95</th>\n",
       "      <td>ASTEROID</td>\n",
       "      <td>Original Luxury Branded Fashionable Men's Casu...</td>\n",
       "      <td>₹449</td>\n",
       "      <td>40% off</td>\n",
       "    </tr>\n",
       "    <tr>\n",
       "      <th>96</th>\n",
       "      <td>BIRDE</td>\n",
       "      <td>Birde Trendy Casual Shoes Sneakers For Men</td>\n",
       "      <td>₹299</td>\n",
       "      <td>50% off</td>\n",
       "    </tr>\n",
       "    <tr>\n",
       "      <th>97</th>\n",
       "      <td>BRUTON</td>\n",
       "      <td>CUBIC-1 Sneakers For Men</td>\n",
       "      <td>₹499</td>\n",
       "      <td>45% off</td>\n",
       "    </tr>\n",
       "    <tr>\n",
       "      <th>98</th>\n",
       "      <td>VORII</td>\n",
       "      <td>Latest Stylish Casual sneakers for men | Lace ...</td>\n",
       "      <td>₹711</td>\n",
       "      <td>55% off</td>\n",
       "    </tr>\n",
       "    <tr>\n",
       "      <th>99</th>\n",
       "      <td>BRUTON</td>\n",
       "      <td>Combo Pack Of 2 Latest Stylish Casual Shoes fo...</td>\n",
       "      <td>₹449</td>\n",
       "      <td>54% off</td>\n",
       "    </tr>\n",
       "  </tbody>\n",
       "</table>\n",
       "<p>100 rows × 4 columns</p>\n",
       "</div>"
      ],
      "text/plain": [
       "               brand_name                                           prd_desc  \\\n",
       "0                   Echor                                   Sneakers For Men   \n",
       "1   HRX by Hrithik Roshan        Men White Printed Sneakers Sneakers For Men   \n",
       "2                  BRUTON  Combo Pack Of 4 Casual Shoes Loafer Shoes Snea...   \n",
       "3                  Chevit  Super Stylish & Trendy Combo Pack of 02 Pairs ...   \n",
       "4                   CLYMB  Perfect Sports Shoes for Men's Running ,Cyclin...   \n",
       "..                    ...                                                ...   \n",
       "95               ASTEROID  Original Luxury Branded Fashionable Men's Casu...   \n",
       "96                  BIRDE         Birde Trendy Casual Shoes Sneakers For Men   \n",
       "97                 BRUTON                           CUBIC-1 Sneakers For Men   \n",
       "98                  VORII  Latest Stylish Casual sneakers for men | Lace ...   \n",
       "99                 BRUTON  Combo Pack Of 2 Latest Stylish Casual Shoes fo...   \n",
       "\n",
       "     price discount  \n",
       "0     ₹474  68% off  \n",
       "1   ₹2,299  46% off  \n",
       "2     ₹599  82% off  \n",
       "3     ₹689  56% off  \n",
       "4     ₹249  75% off  \n",
       "..     ...      ...  \n",
       "95    ₹449  40% off  \n",
       "96    ₹299  50% off  \n",
       "97    ₹499  45% off  \n",
       "98    ₹711  55% off  \n",
       "99    ₹449  54% off  \n",
       "\n",
       "[100 rows x 4 columns]"
      ]
     },
     "execution_count": 117,
     "metadata": {},
     "output_type": "execute_result"
    }
   ],
   "source": [
    "df6"
   ]
  },
  {
   "cell_type": "markdown",
   "id": "50017b4c",
   "metadata": {},
   "source": [
    "# Q7:Go to the link - https://www.myntra.com/shoes\n",
    "Set Price filter to “Rs. 7149 to Rs. 14099 ” , Color filter to “Black”, as shown inthe below image."
   ]
  },
  {
   "cell_type": "code",
   "execution_count": 118,
   "id": "7cb57440",
   "metadata": {},
   "outputs": [],
   "source": [
    "driver=webdriver.Chrome('chromedriver.exe')"
   ]
  },
  {
   "cell_type": "code",
   "execution_count": 119,
   "id": "1475434a",
   "metadata": {},
   "outputs": [],
   "source": [
    "url = \"https://www.myntra.com/shoes\"\n",
    "\n",
    "driver.get(url)\n",
    "\n"
   ]
  },
  {
   "cell_type": "code",
   "execution_count": 120,
   "id": "591399b7",
   "metadata": {},
   "outputs": [],
   "source": [
    "driver.find_element_by_xpath(\"/html/body/div[2]/div/div[1]/main/div[3]/div[1]/section/div/div[5]/ul/li[2]/label/div\").click()\n"
   ]
  },
  {
   "cell_type": "code",
   "execution_count": 121,
   "id": "608de38a",
   "metadata": {},
   "outputs": [],
   "source": [
    "driver.find_element_by_xpath(\"/html/body/div[2]/div/div[1]/main/div[3]/div[1]/section/div/div[6]/ul/li[1]/label/div\").click()"
   ]
  },
  {
   "cell_type": "code",
   "execution_count": 122,
   "id": "34770f58",
   "metadata": {},
   "outputs": [],
   "source": [
    "brand_name7 = []\n",
    "prd_desc7 = []\n",
    "price7 = []\n",
    "\n",
    "\n",
    "\n",
    "brand = driver.find_elements_by_class_name('product-brand')\n",
    "    \n",
    "\n",
    "for i in brand:\n",
    "    brand_name7.append(i.text)\n",
    "\n",
    "desc = driver.find_elements_by_class_name('product-product')\n",
    "    \n",
    "for i in desc:\n",
    "    prd_desc7.append(i.text)\n",
    "\n",
    "cost = driver.find_elements_by_class_name(\"product-price\")\n",
    "    \n",
    "\n",
    "for i in cost:\n",
    "    price7.append(i.text)"
   ]
  },
  {
   "cell_type": "code",
   "execution_count": 124,
   "id": "051f4a35",
   "metadata": {},
   "outputs": [
    {
     "data": {
      "text/plain": [
       "(50, 50, 50)"
      ]
     },
     "execution_count": 124,
     "metadata": {},
     "output_type": "execute_result"
    }
   ],
   "source": [
    "len(brand_name7),len(prd_desc7),len(price7)"
   ]
  },
  {
   "cell_type": "code",
   "execution_count": 126,
   "id": "acda3ca1",
   "metadata": {},
   "outputs": [],
   "source": [
    "driver = webdriver.Chrome('chromedriver.exe')\n",
    "\n",
    "url = \"https://www.myntra.com/shoes?f=Color%3ABlack_36454f&p=2&plaEnabled=false&rf=Price%3A6657.0_13105.0_6657.0%20TO%2013105.0\"\n",
    "\n",
    "driver.get(url)"
   ]
  },
  {
   "cell_type": "code",
   "execution_count": 127,
   "id": "e68d4242",
   "metadata": {},
   "outputs": [],
   "source": [
    "brand_name1 = []\n",
    "prd_desc1 = []\n",
    "price1 = []\n",
    "\n",
    "\n",
    "\n",
    "brand = driver.find_elements_by_class_name('product-brand')\n",
    "    \n",
    "\n",
    "for i in brand:\n",
    "    brand_name1.append(i.text)\n",
    "\n",
    "desc = driver.find_elements_by_class_name('product-product')\n",
    "    \n",
    "for i in desc:\n",
    "    prd_desc1.append(i.text)\n",
    "\n",
    "cost = driver.find_elements_by_class_name(\"product-price\")\n",
    "    \n",
    "\n",
    "for i in cost:\n",
    "    price1.append(i.text)"
   ]
  },
  {
   "cell_type": "code",
   "execution_count": 128,
   "id": "ffe12fd9",
   "metadata": {},
   "outputs": [],
   "source": [
    "df24 = pd.DataFrame({})\n",
    "df24['brand_name'] = brand_name7+brand_name1\n",
    "df24['prd_desc'] = prd_desc7+prd_desc1\n",
    "df24['[price]'] = price7+prd_desc1"
   ]
  },
  {
   "cell_type": "code",
   "execution_count": 129,
   "id": "81e6780a",
   "metadata": {},
   "outputs": [
    {
     "data": {
      "text/html": [
       "<div>\n",
       "<style scoped>\n",
       "    .dataframe tbody tr th:only-of-type {\n",
       "        vertical-align: middle;\n",
       "    }\n",
       "\n",
       "    .dataframe tbody tr th {\n",
       "        vertical-align: top;\n",
       "    }\n",
       "\n",
       "    .dataframe thead th {\n",
       "        text-align: right;\n",
       "    }\n",
       "</style>\n",
       "<table border=\"1\" class=\"dataframe\">\n",
       "  <thead>\n",
       "    <tr style=\"text-align: right;\">\n",
       "      <th></th>\n",
       "      <th>brand_name</th>\n",
       "      <th>prd_desc</th>\n",
       "      <th>[price]</th>\n",
       "    </tr>\n",
       "  </thead>\n",
       "  <tbody>\n",
       "    <tr>\n",
       "      <th>0</th>\n",
       "      <td>Nike</td>\n",
       "      <td>Men AIR ZOOM PEGASUS 38</td>\n",
       "      <td>Rs. 9770Rs. 11495(15% OFF)</td>\n",
       "    </tr>\n",
       "    <tr>\n",
       "      <th>1</th>\n",
       "      <td>Nike</td>\n",
       "      <td>Men Blazer Court Skateboarding</td>\n",
       "      <td>Rs. 7495</td>\n",
       "    </tr>\n",
       "    <tr>\n",
       "      <th>2</th>\n",
       "      <td>Puma</td>\n",
       "      <td>Men Deviate Nitro Running Shoe</td>\n",
       "      <td>Rs. 10499Rs. 14999(30% OFF)</td>\n",
       "    </tr>\n",
       "    <tr>\n",
       "      <th>3</th>\n",
       "      <td>Puma</td>\n",
       "      <td>Men Running Shoes</td>\n",
       "      <td>Rs. 9749Rs. 12999(25% OFF)</td>\n",
       "    </tr>\n",
       "    <tr>\n",
       "      <th>4</th>\n",
       "      <td>Puma</td>\n",
       "      <td>Men Magnify Nitro Running</td>\n",
       "      <td>Rs. 7799Rs. 12999(40% OFF)</td>\n",
       "    </tr>\n",
       "    <tr>\n",
       "      <th>...</th>\n",
       "      <td>...</td>\n",
       "      <td>...</td>\n",
       "      <td>...</td>\n",
       "    </tr>\n",
       "    <tr>\n",
       "      <th>95</th>\n",
       "      <td>Geox</td>\n",
       "      <td>Women Solid Leather Pumps</td>\n",
       "      <td>Women Solid Leather Pumps</td>\n",
       "    </tr>\n",
       "    <tr>\n",
       "      <th>96</th>\n",
       "      <td>DAVINCHI</td>\n",
       "      <td>Solid Slip On Shoes</td>\n",
       "      <td>Solid Slip On Shoes</td>\n",
       "    </tr>\n",
       "    <tr>\n",
       "      <th>97</th>\n",
       "      <td>DAVINCHI</td>\n",
       "      <td>Men Formal Leather Slip-Ons</td>\n",
       "      <td>Men Formal Leather Slip-Ons</td>\n",
       "    </tr>\n",
       "    <tr>\n",
       "      <th>98</th>\n",
       "      <td>Pavers England</td>\n",
       "      <td>Men Leather Driving Shoes</td>\n",
       "      <td>Men Leather Driving Shoes</td>\n",
       "    </tr>\n",
       "    <tr>\n",
       "      <th>99</th>\n",
       "      <td>DAVINCHI</td>\n",
       "      <td>Men Solid Leather Formal Derbys</td>\n",
       "      <td>Men Solid Leather Formal Derbys</td>\n",
       "    </tr>\n",
       "  </tbody>\n",
       "</table>\n",
       "<p>100 rows × 3 columns</p>\n",
       "</div>"
      ],
      "text/plain": [
       "        brand_name                         prd_desc  \\\n",
       "0             Nike          Men AIR ZOOM PEGASUS 38   \n",
       "1             Nike   Men Blazer Court Skateboarding   \n",
       "2             Puma   Men Deviate Nitro Running Shoe   \n",
       "3             Puma                Men Running Shoes   \n",
       "4             Puma        Men Magnify Nitro Running   \n",
       "..             ...                              ...   \n",
       "95            Geox        Women Solid Leather Pumps   \n",
       "96        DAVINCHI              Solid Slip On Shoes   \n",
       "97        DAVINCHI      Men Formal Leather Slip-Ons   \n",
       "98  Pavers England        Men Leather Driving Shoes   \n",
       "99        DAVINCHI  Men Solid Leather Formal Derbys   \n",
       "\n",
       "                            [price]  \n",
       "0        Rs. 9770Rs. 11495(15% OFF)  \n",
       "1                          Rs. 7495  \n",
       "2       Rs. 10499Rs. 14999(30% OFF)  \n",
       "3        Rs. 9749Rs. 12999(25% OFF)  \n",
       "4        Rs. 7799Rs. 12999(40% OFF)  \n",
       "..                              ...  \n",
       "95        Women Solid Leather Pumps  \n",
       "96              Solid Slip On Shoes  \n",
       "97      Men Formal Leather Slip-Ons  \n",
       "98        Men Leather Driving Shoes  \n",
       "99  Men Solid Leather Formal Derbys  \n",
       "\n",
       "[100 rows x 3 columns]"
      ]
     },
     "execution_count": 129,
     "metadata": {},
     "output_type": "execute_result"
    }
   ],
   "source": [
    "df24"
   ]
  },
  {
   "cell_type": "markdown",
   "id": "ce6f78c3",
   "metadata": {},
   "source": [
    "# Q8: Go to webpage https://www.amazon.in/\n",
    "Enter “Laptop” in the search field and then click the search icon.\n",
    "Then set CPU Type filter to “Intel Core i7” and “Intel Core i9” as shown in the below image:\n"
   ]
  },
  {
   "cell_type": "code",
   "execution_count": 2,
   "id": "0bc24647",
   "metadata": {},
   "outputs": [],
   "source": [
    "import selenium \n",
    "from selenium import webdriver\n",
    "import pandas as pd\n",
    "import warnings \n",
    "warnings.filterwarnings('ignore')"
   ]
  },
  {
   "cell_type": "code",
   "execution_count": 3,
   "id": "9b830ca3",
   "metadata": {},
   "outputs": [],
   "source": [
    "driver=webdriver.Chrome('chromedriver.exe')"
   ]
  },
  {
   "cell_type": "code",
   "execution_count": 4,
   "id": "4ea13a52",
   "metadata": {},
   "outputs": [],
   "source": [
    "url='https://www.amazon.in/'\n",
    "driver.get(url)"
   ]
  },
  {
   "cell_type": "code",
   "execution_count": 5,
   "id": "c13bc75d",
   "metadata": {},
   "outputs": [
    {
     "data": {
      "text/plain": [
       "<selenium.webdriver.remote.webelement.WebElement (session=\"9aa7250c0eedc566891af7b0ad544103\", element=\"8a7d9944-35f1-47b5-9b2d-7b665abfd88e\")>"
      ]
     },
     "execution_count": 5,
     "metadata": {},
     "output_type": "execute_result"
    }
   ],
   "source": [
    "srh_lap=driver.find_element_by_id('twotabsearchtextbox')\n",
    "srh_lap"
   ]
  },
  {
   "cell_type": "code",
   "execution_count": 6,
   "id": "7b1dae4b",
   "metadata": {},
   "outputs": [],
   "source": [
    "srh_lap.send_keys(\"Laptop\")"
   ]
  },
  {
   "cell_type": "code",
   "execution_count": 7,
   "id": "bf262108",
   "metadata": {},
   "outputs": [],
   "source": [
    "button_srh=driver.find_element_by_id(\"nav-search-submit-button\")\n"
   ]
  },
  {
   "cell_type": "code",
   "execution_count": 8,
   "id": "55b8951e",
   "metadata": {},
   "outputs": [],
   "source": [
    "button_srh.click()"
   ]
  },
  {
   "cell_type": "code",
   "execution_count": 9,
   "id": "ea81b73b",
   "metadata": {},
   "outputs": [],
   "source": [
    "core_i7=driver.find_element_by_xpath(\"/html/body/div[1]/div[2]/div[1]/div[2]/div/div[3]/span/div[1]/div/div/div[6]/ul[3]/li[11]/span/a/div/label\")"
   ]
  },
  {
   "cell_type": "code",
   "execution_count": 10,
   "id": "22aee003",
   "metadata": {},
   "outputs": [],
   "source": [
    "core_i7.click()"
   ]
  },
  {
   "cell_type": "code",
   "execution_count": null,
   "id": "2a6a7da9",
   "metadata": {},
   "outputs": [],
   "source": [
    "core_i9=driver.find_element_by_xpath(\"/html/body/div[1]/div[2]/div[1]/div[2]/div/div[3]/span/div[1]/div/div/div[6]/ul[4]/li[12]/span/a/div/label/input\")"
   ]
  },
  {
   "cell_type": "code",
   "execution_count": null,
   "id": "71ca3c84",
   "metadata": {},
   "outputs": [],
   "source": [
    "core_i9.click"
   ]
  },
  {
   "cell_type": "code",
   "execution_count": 14,
   "id": "ecb8f2c4",
   "metadata": {},
   "outputs": [],
   "source": [
    "lap_title=driver.find_elements_by_xpath('//a[@class=\"a-link-normal s-underline-text s-underline-link-text s-link-style a-text-normal\"]')"
   ]
  },
  {
   "cell_type": "code",
   "execution_count": 22,
   "id": "4a3f1c4f",
   "metadata": {},
   "outputs": [
    {
     "data": {
      "text/plain": [
       "[<selenium.webdriver.remote.webelement.WebElement (session=\"9aa7250c0eedc566891af7b0ad544103\", element=\"bf18c4a8-552b-427c-879f-ecbc06a55fcc\")>,\n",
       " <selenium.webdriver.remote.webelement.WebElement (session=\"9aa7250c0eedc566891af7b0ad544103\", element=\"c7cd7b07-5906-41f3-92e9-d722d21708a3\")>,\n",
       " <selenium.webdriver.remote.webelement.WebElement (session=\"9aa7250c0eedc566891af7b0ad544103\", element=\"5bc6e8b8-19c1-48ce-89cf-f0d35c7d23f4\")>,\n",
       " <selenium.webdriver.remote.webelement.WebElement (session=\"9aa7250c0eedc566891af7b0ad544103\", element=\"82f3e751-068c-4d3e-a91c-17ea126bad4d\")>,\n",
       " <selenium.webdriver.remote.webelement.WebElement (session=\"9aa7250c0eedc566891af7b0ad544103\", element=\"0e6805af-59ac-430e-8e79-8b7043f06fa3\")>,\n",
       " <selenium.webdriver.remote.webelement.WebElement (session=\"9aa7250c0eedc566891af7b0ad544103\", element=\"cca3a058-78ba-4e39-8eaf-44a27b67ad6d\")>,\n",
       " <selenium.webdriver.remote.webelement.WebElement (session=\"9aa7250c0eedc566891af7b0ad544103\", element=\"e710522a-8366-4be3-a314-7428ac206e55\")>,\n",
       " <selenium.webdriver.remote.webelement.WebElement (session=\"9aa7250c0eedc566891af7b0ad544103\", element=\"c9362cc8-c1b6-4fef-889e-b42329d230cd\")>,\n",
       " <selenium.webdriver.remote.webelement.WebElement (session=\"9aa7250c0eedc566891af7b0ad544103\", element=\"a2c47422-c83f-47fb-a36a-85e6f9a52ce0\")>,\n",
       " <selenium.webdriver.remote.webelement.WebElement (session=\"9aa7250c0eedc566891af7b0ad544103\", element=\"de4927ac-3c2e-4ae4-b259-10331c942280\")>,\n",
       " <selenium.webdriver.remote.webelement.WebElement (session=\"9aa7250c0eedc566891af7b0ad544103\", element=\"5db58b62-8aa1-43b9-9dd1-20e17f5716ae\")>,\n",
       " <selenium.webdriver.remote.webelement.WebElement (session=\"9aa7250c0eedc566891af7b0ad544103\", element=\"ea878df9-f1c2-407a-9605-6f113a613c6b\")>,\n",
       " <selenium.webdriver.remote.webelement.WebElement (session=\"9aa7250c0eedc566891af7b0ad544103\", element=\"41f0b0c8-f72a-4607-bfb4-adbf27a83066\")>,\n",
       " <selenium.webdriver.remote.webelement.WebElement (session=\"9aa7250c0eedc566891af7b0ad544103\", element=\"a7d412dd-519d-4099-bfde-9915861f0e74\")>,\n",
       " <selenium.webdriver.remote.webelement.WebElement (session=\"9aa7250c0eedc566891af7b0ad544103\", element=\"4c48d9e3-8d94-4d74-b304-0e51bae28413\")>,\n",
       " <selenium.webdriver.remote.webelement.WebElement (session=\"9aa7250c0eedc566891af7b0ad544103\", element=\"f861a388-2b34-4c31-b976-2ca35f76d6c6\")>,\n",
       " <selenium.webdriver.remote.webelement.WebElement (session=\"9aa7250c0eedc566891af7b0ad544103\", element=\"f029bd0b-f532-4592-bec0-417971aea318\")>,\n",
       " <selenium.webdriver.remote.webelement.WebElement (session=\"9aa7250c0eedc566891af7b0ad544103\", element=\"074b09cd-a888-4a4b-ae6e-868986970e5d\")>,\n",
       " <selenium.webdriver.remote.webelement.WebElement (session=\"9aa7250c0eedc566891af7b0ad544103\", element=\"6e24a5df-3320-4e82-b59a-577721250d03\")>,\n",
       " <selenium.webdriver.remote.webelement.WebElement (session=\"9aa7250c0eedc566891af7b0ad544103\", element=\"0915479f-6d08-498e-9ea2-3d41ef233679\")>,\n",
       " <selenium.webdriver.remote.webelement.WebElement (session=\"9aa7250c0eedc566891af7b0ad544103\", element=\"6a49d4ed-65d9-4945-9e8e-71765793386f\")>,\n",
       " <selenium.webdriver.remote.webelement.WebElement (session=\"9aa7250c0eedc566891af7b0ad544103\", element=\"389f3e2e-88a7-48d1-b570-4a78ac2700ae\")>,\n",
       " <selenium.webdriver.remote.webelement.WebElement (session=\"9aa7250c0eedc566891af7b0ad544103\", element=\"0c2d8d9b-91c1-4c60-81e6-1715bb226db9\")>,\n",
       " <selenium.webdriver.remote.webelement.WebElement (session=\"9aa7250c0eedc566891af7b0ad544103\", element=\"ad67209e-e510-494e-a38b-3c27a4f77e70\")>,\n",
       " <selenium.webdriver.remote.webelement.WebElement (session=\"9aa7250c0eedc566891af7b0ad544103\", element=\"45a88631-616c-4b49-b8dc-0351501933f6\")>,\n",
       " <selenium.webdriver.remote.webelement.WebElement (session=\"9aa7250c0eedc566891af7b0ad544103\", element=\"b3b0f9a2-6481-4af4-8db3-e709d6ff9435\")>,\n",
       " <selenium.webdriver.remote.webelement.WebElement (session=\"9aa7250c0eedc566891af7b0ad544103\", element=\"887f6cc8-a5db-466e-a26a-1a438b759cce\")>,\n",
       " <selenium.webdriver.remote.webelement.WebElement (session=\"9aa7250c0eedc566891af7b0ad544103\", element=\"7283c0a6-1db5-4b10-bc9e-673ceb755b74\")>,\n",
       " <selenium.webdriver.remote.webelement.WebElement (session=\"9aa7250c0eedc566891af7b0ad544103\", element=\"38521e89-5ac3-419c-8760-6421c0e17447\")>,\n",
       " <selenium.webdriver.remote.webelement.WebElement (session=\"9aa7250c0eedc566891af7b0ad544103\", element=\"bb427cb5-6030-4e79-bdbb-2de3c200befa\")>]"
      ]
     },
     "execution_count": 22,
     "metadata": {},
     "output_type": "execute_result"
    }
   ],
   "source": [
    "lap_title"
   ]
  },
  {
   "cell_type": "code",
   "execution_count": 23,
   "id": "ec1d9bf3",
   "metadata": {},
   "outputs": [],
   "source": [
    "lap_price=driver.find_elements_by_xpath('//span[@class=\"a-price-whole\"]')"
   ]
  },
  {
   "cell_type": "code",
   "execution_count": 24,
   "id": "418645be",
   "metadata": {},
   "outputs": [
    {
     "data": {
      "text/plain": [
       "[<selenium.webdriver.remote.webelement.WebElement (session=\"9aa7250c0eedc566891af7b0ad544103\", element=\"b77dc68f-ba66-4010-be14-87e212e9b9f5\")>,\n",
       " <selenium.webdriver.remote.webelement.WebElement (session=\"9aa7250c0eedc566891af7b0ad544103\", element=\"33bc6859-ab89-4917-ad8e-1e7ab3c72242\")>,\n",
       " <selenium.webdriver.remote.webelement.WebElement (session=\"9aa7250c0eedc566891af7b0ad544103\", element=\"f9f425a7-9e62-4bc4-b986-1d8a064b74b1\")>,\n",
       " <selenium.webdriver.remote.webelement.WebElement (session=\"9aa7250c0eedc566891af7b0ad544103\", element=\"5b555ef2-bc54-4691-8963-c5c564993558\")>,\n",
       " <selenium.webdriver.remote.webelement.WebElement (session=\"9aa7250c0eedc566891af7b0ad544103\", element=\"13c266bb-77b1-4a70-ac86-325380d9db6c\")>,\n",
       " <selenium.webdriver.remote.webelement.WebElement (session=\"9aa7250c0eedc566891af7b0ad544103\", element=\"e7b508dd-b769-496e-9c6f-6ad37e4d817c\")>,\n",
       " <selenium.webdriver.remote.webelement.WebElement (session=\"9aa7250c0eedc566891af7b0ad544103\", element=\"3960ed58-05b4-4038-b8dc-bccdd7385c48\")>,\n",
       " <selenium.webdriver.remote.webelement.WebElement (session=\"9aa7250c0eedc566891af7b0ad544103\", element=\"4f5412b9-ee7e-4e8a-aa64-c09d726895f4\")>,\n",
       " <selenium.webdriver.remote.webelement.WebElement (session=\"9aa7250c0eedc566891af7b0ad544103\", element=\"b4cc71f6-9338-4e4e-96d8-e6031d2b7361\")>,\n",
       " <selenium.webdriver.remote.webelement.WebElement (session=\"9aa7250c0eedc566891af7b0ad544103\", element=\"21af1843-371b-4275-8853-128269657c0f\")>,\n",
       " <selenium.webdriver.remote.webelement.WebElement (session=\"9aa7250c0eedc566891af7b0ad544103\", element=\"bda94ff8-687c-4dbc-89ad-002664d9cd8e\")>,\n",
       " <selenium.webdriver.remote.webelement.WebElement (session=\"9aa7250c0eedc566891af7b0ad544103\", element=\"d4e388e3-61c1-40bd-b438-6d9b1925940a\")>,\n",
       " <selenium.webdriver.remote.webelement.WebElement (session=\"9aa7250c0eedc566891af7b0ad544103\", element=\"2f22a0b1-9a06-4570-8210-76f86ac546e3\")>,\n",
       " <selenium.webdriver.remote.webelement.WebElement (session=\"9aa7250c0eedc566891af7b0ad544103\", element=\"518523fa-c214-4401-9879-229fa7c031e1\")>,\n",
       " <selenium.webdriver.remote.webelement.WebElement (session=\"9aa7250c0eedc566891af7b0ad544103\", element=\"48b5fd0a-d459-4e8d-be78-9b231953e1d0\")>,\n",
       " <selenium.webdriver.remote.webelement.WebElement (session=\"9aa7250c0eedc566891af7b0ad544103\", element=\"c233ea6d-e94f-468d-a050-add2bd15ba27\")>,\n",
       " <selenium.webdriver.remote.webelement.WebElement (session=\"9aa7250c0eedc566891af7b0ad544103\", element=\"7585e048-4cd0-4bc0-b426-6e41adec2044\")>,\n",
       " <selenium.webdriver.remote.webelement.WebElement (session=\"9aa7250c0eedc566891af7b0ad544103\", element=\"61f726b7-17fa-4b4b-bad9-419273912976\")>,\n",
       " <selenium.webdriver.remote.webelement.WebElement (session=\"9aa7250c0eedc566891af7b0ad544103\", element=\"5428019e-de3b-4b2a-8037-0211872262de\")>,\n",
       " <selenium.webdriver.remote.webelement.WebElement (session=\"9aa7250c0eedc566891af7b0ad544103\", element=\"7a48232a-40d1-40e9-b66a-d001d19b8b78\")>,\n",
       " <selenium.webdriver.remote.webelement.WebElement (session=\"9aa7250c0eedc566891af7b0ad544103\", element=\"d303fed3-ca03-4b70-b818-5b02cdf7bbec\")>,\n",
       " <selenium.webdriver.remote.webelement.WebElement (session=\"9aa7250c0eedc566891af7b0ad544103\", element=\"f8b7b041-8b34-44a0-818e-796a04f644a5\")>,\n",
       " <selenium.webdriver.remote.webelement.WebElement (session=\"9aa7250c0eedc566891af7b0ad544103\", element=\"20cc3c68-9ddc-43a6-8e65-42cfe54cf37a\")>,\n",
       " <selenium.webdriver.remote.webelement.WebElement (session=\"9aa7250c0eedc566891af7b0ad544103\", element=\"c9b43547-4158-4243-922f-a70b70001f9b\")>,\n",
       " <selenium.webdriver.remote.webelement.WebElement (session=\"9aa7250c0eedc566891af7b0ad544103\", element=\"d7caccb3-c10a-4a7b-bfb6-6fcf5972dbd3\")>,\n",
       " <selenium.webdriver.remote.webelement.WebElement (session=\"9aa7250c0eedc566891af7b0ad544103\", element=\"a4da1f90-90f0-48ae-a3ff-b3228dcebb36\")>,\n",
       " <selenium.webdriver.remote.webelement.WebElement (session=\"9aa7250c0eedc566891af7b0ad544103\", element=\"6ba7cebb-79f7-45ee-88e9-7cee3e69dc19\")>,\n",
       " <selenium.webdriver.remote.webelement.WebElement (session=\"9aa7250c0eedc566891af7b0ad544103\", element=\"75df7df9-16e4-4685-8c51-138cd93768d8\")>,\n",
       " <selenium.webdriver.remote.webelement.WebElement (session=\"9aa7250c0eedc566891af7b0ad544103\", element=\"f0964b2c-0cf2-4485-a15d-49a7a975b2cf\")>]"
      ]
     },
     "execution_count": 24,
     "metadata": {},
     "output_type": "execute_result"
    }
   ],
   "source": [
    "lap_price"
   ]
  },
  {
   "cell_type": "code",
   "execution_count": 51,
   "id": "d4e9dbef",
   "metadata": {},
   "outputs": [],
   "source": [
    "Ratings1=driver.find_elements_by_xpath('//a[@class=\"a-popover-trigger a-declarative\"]')"
   ]
  },
  {
   "cell_type": "code",
   "execution_count": 52,
   "id": "295f58ad",
   "metadata": {},
   "outputs": [
    {
     "data": {
      "text/plain": [
       "29"
      ]
     },
     "execution_count": 52,
     "metadata": {},
     "output_type": "execute_result"
    }
   ],
   "source": [
    "len(Ratings1)"
   ]
  },
  {
   "cell_type": "code",
   "execution_count": 46,
   "id": "e2849126",
   "metadata": {},
   "outputs": [
    {
     "data": {
      "text/plain": [
       "[<selenium.webdriver.remote.webelement.WebElement (session=\"9aa7250c0eedc566891af7b0ad544103\", element=\"bfc4af0b-aadf-4d02-8c03-c67038e895e1\")>,\n",
       " <selenium.webdriver.remote.webelement.WebElement (session=\"9aa7250c0eedc566891af7b0ad544103\", element=\"798b2dab-312a-4d3c-8e1c-1bf4bff811a4\")>,\n",
       " <selenium.webdriver.remote.webelement.WebElement (session=\"9aa7250c0eedc566891af7b0ad544103\", element=\"f529b0b4-4c63-4de3-864f-259b63aa3af3\")>,\n",
       " <selenium.webdriver.remote.webelement.WebElement (session=\"9aa7250c0eedc566891af7b0ad544103\", element=\"632acf0a-ad76-4fea-8497-2fb33bbb7363\")>,\n",
       " <selenium.webdriver.remote.webelement.WebElement (session=\"9aa7250c0eedc566891af7b0ad544103\", element=\"3a5b4baf-52a2-4026-b20c-b8febcff156b\")>,\n",
       " <selenium.webdriver.remote.webelement.WebElement (session=\"9aa7250c0eedc566891af7b0ad544103\", element=\"ee9f8518-37c2-4d9b-9584-aaa7cb5452ec\")>,\n",
       " <selenium.webdriver.remote.webelement.WebElement (session=\"9aa7250c0eedc566891af7b0ad544103\", element=\"fbd15550-8b7b-4037-a065-b0c864453e8c\")>,\n",
       " <selenium.webdriver.remote.webelement.WebElement (session=\"9aa7250c0eedc566891af7b0ad544103\", element=\"97fea2e5-ff7b-4e9c-926e-c85abaa62465\")>,\n",
       " <selenium.webdriver.remote.webelement.WebElement (session=\"9aa7250c0eedc566891af7b0ad544103\", element=\"ed26ded8-7c6a-4acb-9b5c-9f4b83ed740d\")>,\n",
       " <selenium.webdriver.remote.webelement.WebElement (session=\"9aa7250c0eedc566891af7b0ad544103\", element=\"50b7e15e-341f-4d71-a2e2-d3be376975cf\")>,\n",
       " <selenium.webdriver.remote.webelement.WebElement (session=\"9aa7250c0eedc566891af7b0ad544103\", element=\"bfaf1106-404b-45e9-b888-0784b7dc0753\")>,\n",
       " <selenium.webdriver.remote.webelement.WebElement (session=\"9aa7250c0eedc566891af7b0ad544103\", element=\"b8c34812-4361-459a-af42-12af5af2a31b\")>,\n",
       " <selenium.webdriver.remote.webelement.WebElement (session=\"9aa7250c0eedc566891af7b0ad544103\", element=\"5cee7061-f80b-4c78-8f3e-a988d39cca01\")>,\n",
       " <selenium.webdriver.remote.webelement.WebElement (session=\"9aa7250c0eedc566891af7b0ad544103\", element=\"03dbb23a-50ff-41a9-b3bb-c03a18636f96\")>,\n",
       " <selenium.webdriver.remote.webelement.WebElement (session=\"9aa7250c0eedc566891af7b0ad544103\", element=\"eb2db1e2-113c-490c-859a-97505285968c\")>,\n",
       " <selenium.webdriver.remote.webelement.WebElement (session=\"9aa7250c0eedc566891af7b0ad544103\", element=\"20a92bf2-e384-475f-8ead-484715351399\")>,\n",
       " <selenium.webdriver.remote.webelement.WebElement (session=\"9aa7250c0eedc566891af7b0ad544103\", element=\"21ecfeab-05be-4174-b272-ccc409b33abe\")>,\n",
       " <selenium.webdriver.remote.webelement.WebElement (session=\"9aa7250c0eedc566891af7b0ad544103\", element=\"db31dd26-66e2-4e8f-a1ce-3b0b18e5b9bb\")>,\n",
       " <selenium.webdriver.remote.webelement.WebElement (session=\"9aa7250c0eedc566891af7b0ad544103\", element=\"b5512f56-357d-4aae-9e18-ee01566a88c1\")>,\n",
       " <selenium.webdriver.remote.webelement.WebElement (session=\"9aa7250c0eedc566891af7b0ad544103\", element=\"50ce6a6c-8955-4783-89c0-e1f5be23f21e\")>,\n",
       " <selenium.webdriver.remote.webelement.WebElement (session=\"9aa7250c0eedc566891af7b0ad544103\", element=\"2a19fd2a-c64c-4f87-bb9c-a454d006fbc5\")>,\n",
       " <selenium.webdriver.remote.webelement.WebElement (session=\"9aa7250c0eedc566891af7b0ad544103\", element=\"f14e3651-d17b-4ca1-8d9b-54ccc1727272\")>,\n",
       " <selenium.webdriver.remote.webelement.WebElement (session=\"9aa7250c0eedc566891af7b0ad544103\", element=\"f6d0b89e-22ab-49b5-bc29-49fdb3153fbb\")>,\n",
       " <selenium.webdriver.remote.webelement.WebElement (session=\"9aa7250c0eedc566891af7b0ad544103\", element=\"7450a725-552f-4dd8-8302-18c9c5128737\")>,\n",
       " <selenium.webdriver.remote.webelement.WebElement (session=\"9aa7250c0eedc566891af7b0ad544103\", element=\"3e71572a-f75d-42df-a8ed-14387f23bf7f\")>,\n",
       " <selenium.webdriver.remote.webelement.WebElement (session=\"9aa7250c0eedc566891af7b0ad544103\", element=\"3ed15a28-a7e5-4a42-bb91-59599a8cd4cf\")>,\n",
       " <selenium.webdriver.remote.webelement.WebElement (session=\"9aa7250c0eedc566891af7b0ad544103\", element=\"4d1888d0-a70a-4b3c-8aff-96dfce3d94fc\")>,\n",
       " <selenium.webdriver.remote.webelement.WebElement (session=\"9aa7250c0eedc566891af7b0ad544103\", element=\"3a9360ae-597b-47b4-b644-adf620fb106d\")>,\n",
       " <selenium.webdriver.remote.webelement.WebElement (session=\"9aa7250c0eedc566891af7b0ad544103\", element=\"ae6456b3-b6cd-4563-aac4-aa6dfb5f044d\")>]"
      ]
     },
     "execution_count": 46,
     "metadata": {},
     "output_type": "execute_result"
    }
   ],
   "source": [
    "Ratings1"
   ]
  },
  {
   "cell_type": "code",
   "execution_count": null,
   "id": "ac80c309",
   "metadata": {},
   "outputs": [],
   "source": []
  },
  {
   "cell_type": "code",
   "execution_count": 26,
   "id": "b51e9e1c",
   "metadata": {},
   "outputs": [
    {
     "data": {
      "text/plain": [
       "['Lenovo Ideapad 3 AMD Ryzen 5 5500U 15.6\" FHD Thin & Light Laptop (8GB/512GB SSD/Windows 11/Office 2021/Backlit Keyboard/2Yr Warranty/Arctic Grey/1.65Kg), 82KU017KIN',\n",
       " 'Lenovo IdeaPad Slim 3 10th Gen Intel Core i3 15.6\"(39.62cm) FHD Thin & Light Laptop (8GB/256GB SSD/UHD Graphics/Windows 11/MS Office 2021/Platinum Grey/1.7Kg), 81WB01EFIN',\n",
       " 'Lenovo Chromebook 14e 14.0\" FHD Business Laptop (AMD 3015Ce Processor/4GB DDR4 RAM/64GB Storage eMMC/AMD Radeon Graphics/Chrome OS/Grey) 82M10019HA',\n",
       " 'Dell 15 (2021) Athlon Silver 3050U, 4GB, 256GB SSD, Win 11 + MS Office\\'21, AMD Vega Graphics, , 15.6\" (39.62 cms) HD Display, Carbon Black (Inspiron 3515, D560702WIN9BE)',\n",
       " 'HP Chromebook 14 Intel Celeron N4020-4GB SDRAM/64GB eMMC + 256GB Expandable Storage 14inch(35.6 cm) Thin & Light Touchscreen Laptop (Chrome OS/B&O/Google Assistant/BL Keyboard/1.46 kg),14a-na0003TU',\n",
       " 'HP Chromebook MediaTek Kompanio 500 11.6 inch(29.5 cm) HD,Anti -Glare, Touchscreen Laptop(4 GB LPDDR4/64 GB EMMC Storage/Chrome OS/Dual Speakers/ 1.07 Kg)-11a-na0002MU',\n",
       " 'RDP ThinBook 1010 - Intel Celeron Quad Core Processor, 4GB RAM, 64GB Storage, Windows 10 Pro, 14.1” HD Screen',\n",
       " 'HP Chromebook 14 Intel Celeron N4020-4GB SDRAM/64GB eMMC + 256GB Expandable Storage 14inch(35.6 cm) Thin & Light Touchscreen Laptop (Chrome OS/B&O/Google Assistant/BL Keyboard/1.46 kg),14a-na0002TU',\n",
       " \"Lenovo IdeaPad 1 Intel Celeron N4020 11.6'' HD Laptop (4GB/256GB SSD/Windows 11/Office 2021/Platinum Grey/1.2Kg), 81VT0095IN\",\n",
       " 'Lenovo V15 Intel Celeron N4020 15.6\" FHD (1080p)(39.62 cm) HD Thin and Light Laptop (4GB RAM/1 TB HDD / DOS /Iron Grey/1 Year Onsite Warranty/1.7 kg), 82C30052IH']"
      ]
     },
     "execution_count": 26,
     "metadata": {},
     "output_type": "execute_result"
    }
   ],
   "source": [
    "top10=[]\n",
    "for i in lap_title:\n",
    "    top10.append(i.text)\n",
    "    top10=top10[0:10]    \n",
    "top10"
   ]
  },
  {
   "cell_type": "code",
   "execution_count": 27,
   "id": "6393d19f",
   "metadata": {},
   "outputs": [
    {
     "data": {
      "text/plain": [
       "['49,990',\n",
       " '38,990',\n",
       " '20,990',\n",
       " '35,990',\n",
       " '27,390',\n",
       " '23,310',\n",
       " '19,990',\n",
       " '26,774',\n",
       " '30,790',\n",
       " '28,596']"
      ]
     },
     "execution_count": 27,
     "metadata": {},
     "output_type": "execute_result"
    }
   ],
   "source": [
    "top_price=[]\n",
    "for i in lap_price:\n",
    "    top_price.append(i.text)\n",
    "    top_price=top_price[0:10]    \n",
    "top_price"
   ]
  },
  {
   "cell_type": "code",
   "execution_count": 47,
   "id": "c117ff4e",
   "metadata": {},
   "outputs": [
    {
     "data": {
      "text/plain": [
       "['', '', '', '', '', '', '', '', '', '']"
      ]
     },
     "execution_count": 47,
     "metadata": {},
     "output_type": "execute_result"
    }
   ],
   "source": [
    "top_rat=[]\n",
    "for i in Ratings1:\n",
    "    top_rat.append(i.text)\n",
    "    top_rat=top_rat[0:10]    \n",
    "top_rat"
   ]
  },
  {
   "cell_type": "code",
   "execution_count": 54,
   "id": "272ad8c0",
   "metadata": {},
   "outputs": [],
   "source": [
    "df20 = pd.DataFrame({})\n",
    "df20['Title'] = top10 \n",
    "df20['Price'] = top_price\n",
    "df20['Ratings'] = top_rat"
   ]
  },
  {
   "cell_type": "code",
   "execution_count": 55,
   "id": "84d30b60",
   "metadata": {},
   "outputs": [
    {
     "data": {
      "text/html": [
       "<div>\n",
       "<style scoped>\n",
       "    .dataframe tbody tr th:only-of-type {\n",
       "        vertical-align: middle;\n",
       "    }\n",
       "\n",
       "    .dataframe tbody tr th {\n",
       "        vertical-align: top;\n",
       "    }\n",
       "\n",
       "    .dataframe thead th {\n",
       "        text-align: right;\n",
       "    }\n",
       "</style>\n",
       "<table border=\"1\" class=\"dataframe\">\n",
       "  <thead>\n",
       "    <tr style=\"text-align: right;\">\n",
       "      <th></th>\n",
       "      <th>Title</th>\n",
       "      <th>Price</th>\n",
       "      <th>Ratings</th>\n",
       "    </tr>\n",
       "  </thead>\n",
       "  <tbody>\n",
       "    <tr>\n",
       "      <th>0</th>\n",
       "      <td>Lenovo Ideapad 3 AMD Ryzen 5 5500U 15.6\" FHD T...</td>\n",
       "      <td>49,990</td>\n",
       "      <td></td>\n",
       "    </tr>\n",
       "    <tr>\n",
       "      <th>1</th>\n",
       "      <td>Lenovo IdeaPad Slim 3 10th Gen Intel Core i3 1...</td>\n",
       "      <td>38,990</td>\n",
       "      <td></td>\n",
       "    </tr>\n",
       "    <tr>\n",
       "      <th>2</th>\n",
       "      <td>Lenovo Chromebook 14e 14.0\" FHD Business Lapto...</td>\n",
       "      <td>20,990</td>\n",
       "      <td></td>\n",
       "    </tr>\n",
       "    <tr>\n",
       "      <th>3</th>\n",
       "      <td>Dell 15 (2021) Athlon Silver 3050U, 4GB, 256GB...</td>\n",
       "      <td>35,990</td>\n",
       "      <td></td>\n",
       "    </tr>\n",
       "    <tr>\n",
       "      <th>4</th>\n",
       "      <td>HP Chromebook 14 Intel Celeron N4020-4GB SDRAM...</td>\n",
       "      <td>27,390</td>\n",
       "      <td></td>\n",
       "    </tr>\n",
       "    <tr>\n",
       "      <th>5</th>\n",
       "      <td>HP Chromebook MediaTek Kompanio 500 11.6 inch(...</td>\n",
       "      <td>23,310</td>\n",
       "      <td></td>\n",
       "    </tr>\n",
       "    <tr>\n",
       "      <th>6</th>\n",
       "      <td>RDP ThinBook 1010 - Intel Celeron Quad Core Pr...</td>\n",
       "      <td>19,990</td>\n",
       "      <td></td>\n",
       "    </tr>\n",
       "    <tr>\n",
       "      <th>7</th>\n",
       "      <td>HP Chromebook 14 Intel Celeron N4020-4GB SDRAM...</td>\n",
       "      <td>26,774</td>\n",
       "      <td></td>\n",
       "    </tr>\n",
       "    <tr>\n",
       "      <th>8</th>\n",
       "      <td>Lenovo IdeaPad 1 Intel Celeron N4020 11.6'' HD...</td>\n",
       "      <td>30,790</td>\n",
       "      <td></td>\n",
       "    </tr>\n",
       "    <tr>\n",
       "      <th>9</th>\n",
       "      <td>Lenovo V15 Intel Celeron N4020 15.6\" FHD (1080...</td>\n",
       "      <td>28,596</td>\n",
       "      <td></td>\n",
       "    </tr>\n",
       "  </tbody>\n",
       "</table>\n",
       "</div>"
      ],
      "text/plain": [
       "                                               Title   Price Ratings\n",
       "0  Lenovo Ideapad 3 AMD Ryzen 5 5500U 15.6\" FHD T...  49,990        \n",
       "1  Lenovo IdeaPad Slim 3 10th Gen Intel Core i3 1...  38,990        \n",
       "2  Lenovo Chromebook 14e 14.0\" FHD Business Lapto...  20,990        \n",
       "3  Dell 15 (2021) Athlon Silver 3050U, 4GB, 256GB...  35,990        \n",
       "4  HP Chromebook 14 Intel Celeron N4020-4GB SDRAM...  27,390        \n",
       "5  HP Chromebook MediaTek Kompanio 500 11.6 inch(...  23,310        \n",
       "6  RDP ThinBook 1010 - Intel Celeron Quad Core Pr...  19,990        \n",
       "7  HP Chromebook 14 Intel Celeron N4020-4GB SDRAM...  26,774        \n",
       "8  Lenovo IdeaPad 1 Intel Celeron N4020 11.6'' HD...  30,790        \n",
       "9  Lenovo V15 Intel Celeron N4020 15.6\" FHD (1080...  28,596        "
      ]
     },
     "execution_count": 55,
     "metadata": {},
     "output_type": "execute_result"
    }
   ],
   "source": [
    "df20"
   ]
  },
  {
   "cell_type": "code",
   "execution_count": null,
   "id": "42764855",
   "metadata": {},
   "outputs": [],
   "source": []
  },
  {
   "cell_type": "code",
   "execution_count": null,
   "id": "485b5588",
   "metadata": {},
   "outputs": [],
   "source": []
  },
  {
   "cell_type": "code",
   "execution_count": null,
   "id": "1123584e",
   "metadata": {},
   "outputs": [],
   "source": []
  },
  {
   "cell_type": "code",
   "execution_count": null,
   "id": "4ef79623",
   "metadata": {},
   "outputs": [],
   "source": []
  },
  {
   "cell_type": "code",
   "execution_count": null,
   "id": "9ee03a5f",
   "metadata": {},
   "outputs": [],
   "source": []
  },
  {
   "cell_type": "markdown",
   "id": "145f7b17",
   "metadata": {},
   "source": [
    "# Q9: Write a python program to scrape data for first 10 job results for Data Scientist Designation in Noida\n",
    "location. You have to scrape company name, No. of days ago when job was posted, Rating of the company.\n",
    "This task will be done in following steps:"
   ]
  },
  {
   "cell_type": "code",
   "execution_count": 1,
   "id": "9f0264c5",
   "metadata": {},
   "outputs": [],
   "source": [
    "import selenium \n",
    "from selenium import webdriver\n",
    "import pandas as pd\n",
    "import warnings \n",
    "warnings.filterwarnings('ignore')"
   ]
  },
  {
   "cell_type": "code",
   "execution_count": 20,
   "id": "2b442d26",
   "metadata": {},
   "outputs": [],
   "source": [
    "driver=webdriver.Chrome('chromedriver.exe')"
   ]
  },
  {
   "cell_type": "code",
   "execution_count": 21,
   "id": "91d287bc",
   "metadata": {},
   "outputs": [],
   "source": [
    "url='https://www.ambitionbox.com/'\n",
    "driver.get(url)"
   ]
  },
  {
   "cell_type": "code",
   "execution_count": 22,
   "id": "4cf501ad",
   "metadata": {},
   "outputs": [],
   "source": [
    "job_icon=driver.find_element_by_xpath(\"/html/body/div[1]/nav/nav/a[6]\")"
   ]
  },
  {
   "cell_type": "code",
   "execution_count": 23,
   "id": "493de31c",
   "metadata": {},
   "outputs": [],
   "source": [
    "job_icon.click()"
   ]
  },
  {
   "cell_type": "code",
   "execution_count": 25,
   "id": "86a99ecc",
   "metadata": {},
   "outputs": [],
   "source": [
    "job_srh=driver.find_element_by_xpath(\"/html/body/div[1]/div/div/div[2]/div[1]/div/div/div/div/span/input\")"
   ]
  },
  {
   "cell_type": "code",
   "execution_count": 28,
   "id": "4a0a9158",
   "metadata": {},
   "outputs": [
    {
     "data": {
      "text/plain": [
       "<selenium.webdriver.remote.webelement.WebElement (session=\"dd3e92d26dcd20b974fee4c1595566e5\", element=\"7807c827-c14a-45b5-ae81-b38dbbe3a2e9\")>"
      ]
     },
     "execution_count": 28,
     "metadata": {},
     "output_type": "execute_result"
    }
   ],
   "source": [
    "job_srh"
   ]
  },
  {
   "cell_type": "code",
   "execution_count": 29,
   "id": "29b85e21",
   "metadata": {},
   "outputs": [],
   "source": [
    "job_srh.send_keys('Data Scientist')"
   ]
  },
  {
   "cell_type": "code",
   "execution_count": 30,
   "id": "7e5e3214",
   "metadata": {},
   "outputs": [],
   "source": [
    "srh_bt=driver.find_element_by_xpath(\"/html/body/div/div/div/div[2]/div[1]/div/div/div/button/span\")"
   ]
  },
  {
   "cell_type": "code",
   "execution_count": 31,
   "id": "2eaa123b",
   "metadata": {},
   "outputs": [],
   "source": [
    "srh_bt.click()"
   ]
  },
  {
   "cell_type": "code",
   "execution_count": 32,
   "id": "a65453dc",
   "metadata": {},
   "outputs": [],
   "source": [
    "loc_job=driver.find_element_by_xpath(\"/html/body/div/div/div/div[2]/div[2]/div[1]/div/div/div/div[2]/div[1]/p\")"
   ]
  },
  {
   "cell_type": "code",
   "execution_count": 34,
   "id": "057c0f0a",
   "metadata": {},
   "outputs": [],
   "source": [
    "loc_job.click()"
   ]
  },
  {
   "cell_type": "code",
   "execution_count": 39,
   "id": "dc4cb2a5",
   "metadata": {},
   "outputs": [],
   "source": [
    "noida=driver.find_element_by_xpath(\"/html/body/div/div/div/div[2]/div[2]/div[1]/div/div/div/div[2]/div[2]/div/div[3]/div[1]/div[5]/div/label\")"
   ]
  },
  {
   "cell_type": "code",
   "execution_count": 40,
   "id": "b620ab1f",
   "metadata": {},
   "outputs": [
    {
     "data": {
      "text/plain": [
       "<selenium.webdriver.remote.webelement.WebElement (session=\"dd3e92d26dcd20b974fee4c1595566e5\", element=\"ad988c36-7a70-4648-9091-df2a2f5873cb\")>"
      ]
     },
     "execution_count": 40,
     "metadata": {},
     "output_type": "execute_result"
    }
   ],
   "source": [
    "noida"
   ]
  },
  {
   "cell_type": "code",
   "execution_count": 64,
   "id": "f46e778f",
   "metadata": {},
   "outputs": [],
   "source": [
    "company_name=driver.find_elements_by_xpath('//p[@class=\"company body-medium\"]')"
   ]
  },
  {
   "cell_type": "code",
   "execution_count": 67,
   "id": "ecdfc72f",
   "metadata": {},
   "outputs": [
    {
     "data": {
      "text/plain": [
       "[<selenium.webdriver.remote.webelement.WebElement (session=\"dd3e92d26dcd20b974fee4c1595566e5\", element=\"c594b169-7820-4059-ad66-cd7785b531fc\")>,\n",
       " <selenium.webdriver.remote.webelement.WebElement (session=\"dd3e92d26dcd20b974fee4c1595566e5\", element=\"1df2c110-0fc1-4cb0-9682-c2b2476fe0d1\")>,\n",
       " <selenium.webdriver.remote.webelement.WebElement (session=\"dd3e92d26dcd20b974fee4c1595566e5\", element=\"967a5c96-6668-4564-a35c-1fd76ec0d841\")>,\n",
       " <selenium.webdriver.remote.webelement.WebElement (session=\"dd3e92d26dcd20b974fee4c1595566e5\", element=\"a1ced17a-0f75-4b5a-afe2-fe0557c4c7c4\")>,\n",
       " <selenium.webdriver.remote.webelement.WebElement (session=\"dd3e92d26dcd20b974fee4c1595566e5\", element=\"9996bb92-99cb-423d-83f2-8afbbcfeab15\")>,\n",
       " <selenium.webdriver.remote.webelement.WebElement (session=\"dd3e92d26dcd20b974fee4c1595566e5\", element=\"da2075d5-190b-4830-bfb4-42f57e03b242\")>,\n",
       " <selenium.webdriver.remote.webelement.WebElement (session=\"dd3e92d26dcd20b974fee4c1595566e5\", element=\"46029f19-e00c-4ad0-a669-c147772dbb98\")>,\n",
       " <selenium.webdriver.remote.webelement.WebElement (session=\"dd3e92d26dcd20b974fee4c1595566e5\", element=\"110d7345-a259-451a-8ea7-068adc534959\")>,\n",
       " <selenium.webdriver.remote.webelement.WebElement (session=\"dd3e92d26dcd20b974fee4c1595566e5\", element=\"0f391d48-512e-4266-99ae-b711ffda1fd5\")>,\n",
       " <selenium.webdriver.remote.webelement.WebElement (session=\"dd3e92d26dcd20b974fee4c1595566e5\", element=\"839386e4-331a-4604-bfd5-0e403bbcd40a\")>]"
      ]
     },
     "execution_count": 67,
     "metadata": {},
     "output_type": "execute_result"
    }
   ],
   "source": [
    "company_name"
   ]
  },
  {
   "cell_type": "code",
   "execution_count": 59,
   "id": "89fa2c58",
   "metadata": {},
   "outputs": [
    {
     "data": {
      "text/plain": [
       "10"
      ]
     },
     "execution_count": 59,
     "metadata": {},
     "output_type": "execute_result"
    }
   ],
   "source": [
    "len(company_name)"
   ]
  },
  {
   "cell_type": "code",
   "execution_count": 66,
   "id": "8261c4c4",
   "metadata": {},
   "outputs": [
    {
     "data": {
      "text/plain": [
       "['Wipro Limited',\n",
       " 'Wipro Limited',\n",
       " 'J.P. Morgan Services India Private Limited',\n",
       " 'IBM India Pvt. Limited',\n",
       " 'Tata Consultancy Services Ltd.',\n",
       " 'JP Morgan Chase',\n",
       " 'Morningstar',\n",
       " 'Xoriant Solutions Pvt Ltd',\n",
       " 'JP Morgan Chase',\n",
       " 'ECL FINANCE LIMITED']"
      ]
     },
     "execution_count": 66,
     "metadata": {},
     "output_type": "execute_result"
    }
   ],
   "source": [
    "comp_list=[]\n",
    "for i in company_name:\n",
    "    comp_list.append(i.text)\n",
    "    \n",
    "comp_list "
   ]
  },
  {
   "cell_type": "code",
   "execution_count": 68,
   "id": "1e83f4bf",
   "metadata": {},
   "outputs": [],
   "source": [
    "days=driver.find_elements_by_xpath('//span[@class=\"body-small-l\"]')"
   ]
  },
  {
   "cell_type": "code",
   "execution_count": 69,
   "id": "508654bf",
   "metadata": {},
   "outputs": [
    {
     "data": {
      "text/plain": [
       "[<selenium.webdriver.remote.webelement.WebElement (session=\"dd3e92d26dcd20b974fee4c1595566e5\", element=\"1817b4ba-957a-4e36-959a-10bd74e7e67b\")>,\n",
       " <selenium.webdriver.remote.webelement.WebElement (session=\"dd3e92d26dcd20b974fee4c1595566e5\", element=\"573c286c-8307-4604-8314-23a65e86ca31\")>,\n",
       " <selenium.webdriver.remote.webelement.WebElement (session=\"dd3e92d26dcd20b974fee4c1595566e5\", element=\"aeb6f92f-3029-4265-b6bf-eb751ceb8a93\")>,\n",
       " <selenium.webdriver.remote.webelement.WebElement (session=\"dd3e92d26dcd20b974fee4c1595566e5\", element=\"ba157e01-be02-4461-969b-68b9005b10db\")>,\n",
       " <selenium.webdriver.remote.webelement.WebElement (session=\"dd3e92d26dcd20b974fee4c1595566e5\", element=\"43a7943d-31a7-4280-a87d-dcebbe664403\")>,\n",
       " <selenium.webdriver.remote.webelement.WebElement (session=\"dd3e92d26dcd20b974fee4c1595566e5\", element=\"0a549933-bf10-49d5-92d9-df849892de38\")>,\n",
       " <selenium.webdriver.remote.webelement.WebElement (session=\"dd3e92d26dcd20b974fee4c1595566e5\", element=\"a84fdbae-9778-49e2-8352-8f1671f93213\")>,\n",
       " <selenium.webdriver.remote.webelement.WebElement (session=\"dd3e92d26dcd20b974fee4c1595566e5\", element=\"ff188801-55f8-4ef7-87a8-ebc60cc028bf\")>,\n",
       " <selenium.webdriver.remote.webelement.WebElement (session=\"dd3e92d26dcd20b974fee4c1595566e5\", element=\"711bc712-850d-45e1-8a22-04ca4b98ba4d\")>,\n",
       " <selenium.webdriver.remote.webelement.WebElement (session=\"dd3e92d26dcd20b974fee4c1595566e5\", element=\"0c4b8f7e-a97d-4072-9cfa-6c5b700e550d\")>,\n",
       " <selenium.webdriver.remote.webelement.WebElement (session=\"dd3e92d26dcd20b974fee4c1595566e5\", element=\"a9d70d54-139b-42ef-aeda-71f94dbd3c71\")>,\n",
       " <selenium.webdriver.remote.webelement.WebElement (session=\"dd3e92d26dcd20b974fee4c1595566e5\", element=\"dc811780-0306-4ae1-a9b4-879d6d7e0c66\")>,\n",
       " <selenium.webdriver.remote.webelement.WebElement (session=\"dd3e92d26dcd20b974fee4c1595566e5\", element=\"6844f11a-9b9f-42a0-a2f1-95b3801bc4c2\")>,\n",
       " <selenium.webdriver.remote.webelement.WebElement (session=\"dd3e92d26dcd20b974fee4c1595566e5\", element=\"f8e5f81d-577f-4f34-be32-3006282ab580\")>,\n",
       " <selenium.webdriver.remote.webelement.WebElement (session=\"dd3e92d26dcd20b974fee4c1595566e5\", element=\"574e5be2-cd66-4afa-bfe5-5787a558ff2e\")>,\n",
       " <selenium.webdriver.remote.webelement.WebElement (session=\"dd3e92d26dcd20b974fee4c1595566e5\", element=\"2129abc6-67c9-4746-ba17-e50cbc1dc788\")>,\n",
       " <selenium.webdriver.remote.webelement.WebElement (session=\"dd3e92d26dcd20b974fee4c1595566e5\", element=\"3504cdd5-c538-4318-bdd2-a1aed2b20373\")>,\n",
       " <selenium.webdriver.remote.webelement.WebElement (session=\"dd3e92d26dcd20b974fee4c1595566e5\", element=\"6385af54-ee42-4543-bfea-e69276690b35\")>,\n",
       " <selenium.webdriver.remote.webelement.WebElement (session=\"dd3e92d26dcd20b974fee4c1595566e5\", element=\"2bc9f214-ac76-4d50-95ba-bba9e83381d5\")>,\n",
       " <selenium.webdriver.remote.webelement.WebElement (session=\"dd3e92d26dcd20b974fee4c1595566e5\", element=\"7572b2fe-a0a3-4881-8926-7accf559bd4a\")>]"
      ]
     },
     "execution_count": 69,
     "metadata": {},
     "output_type": "execute_result"
    }
   ],
   "source": [
    "days"
   ]
  },
  {
   "cell_type": "code",
   "execution_count": 78,
   "id": "05464492",
   "metadata": {},
   "outputs": [
    {
     "data": {
      "text/plain": [
       "['19hr ago',\n",
       " 'via naukri.com',\n",
       " '1d ago',\n",
       " 'via naukri.com',\n",
       " '14d ago',\n",
       " 'via naukri.com',\n",
       " '29d ago',\n",
       " 'via naukri.com',\n",
       " '26d ago',\n",
       " 'via naukri.com']"
      ]
     },
     "execution_count": 78,
     "metadata": {},
     "output_type": "execute_result"
    }
   ],
   "source": [
    "days_list=[]\n",
    "for i in days:\n",
    "    days_list.append(i.text)\n",
    "    days_list=days_list[0:10]\n",
    "    \n",
    "days_list"
   ]
  },
  {
   "cell_type": "code",
   "execution_count": null,
   "id": "a596e67b",
   "metadata": {},
   "outputs": [],
   "source": []
  },
  {
   "cell_type": "code",
   "execution_count": 74,
   "id": "74e878b5",
   "metadata": {},
   "outputs": [],
   "source": [
    "ratings=driver.find_elements_by_xpath('//span[@class=\"body-small\"]')"
   ]
  },
  {
   "cell_type": "code",
   "execution_count": 75,
   "id": "3efaf189",
   "metadata": {},
   "outputs": [
    {
     "data": {
      "text/plain": [
       "[<selenium.webdriver.remote.webelement.WebElement (session=\"dd3e92d26dcd20b974fee4c1595566e5\", element=\"c9ec0bf2-03ab-4627-98e2-00d5dfd5208e\")>,\n",
       " <selenium.webdriver.remote.webelement.WebElement (session=\"dd3e92d26dcd20b974fee4c1595566e5\", element=\"6b5801ae-9391-4dc8-87f4-338e44b63ea8\")>,\n",
       " <selenium.webdriver.remote.webelement.WebElement (session=\"dd3e92d26dcd20b974fee4c1595566e5\", element=\"6293fd4e-ebde-4f90-b990-dbd55c8698a3\")>,\n",
       " <selenium.webdriver.remote.webelement.WebElement (session=\"dd3e92d26dcd20b974fee4c1595566e5\", element=\"5fa70b87-c817-42d1-8359-4426f2efe05e\")>,\n",
       " <selenium.webdriver.remote.webelement.WebElement (session=\"dd3e92d26dcd20b974fee4c1595566e5\", element=\"eb560d48-5988-4b86-b2bb-b4c6d68de587\")>,\n",
       " <selenium.webdriver.remote.webelement.WebElement (session=\"dd3e92d26dcd20b974fee4c1595566e5\", element=\"d162227c-7391-45b4-8641-1ea6008dbf3f\")>,\n",
       " <selenium.webdriver.remote.webelement.WebElement (session=\"dd3e92d26dcd20b974fee4c1595566e5\", element=\"ade05a1b-c446-4228-a8f8-b0da8ad5f3b6\")>,\n",
       " <selenium.webdriver.remote.webelement.WebElement (session=\"dd3e92d26dcd20b974fee4c1595566e5\", element=\"062f63f1-7fc7-4c01-b7c2-a74a82da0276\")>,\n",
       " <selenium.webdriver.remote.webelement.WebElement (session=\"dd3e92d26dcd20b974fee4c1595566e5\", element=\"5e086feb-c25e-40ff-bdd7-5e95ae9be259\")>,\n",
       " <selenium.webdriver.remote.webelement.WebElement (session=\"dd3e92d26dcd20b974fee4c1595566e5\", element=\"3e5a715b-d72c-42d3-bcb4-2d801d1cc1bc\")>]"
      ]
     },
     "execution_count": 75,
     "metadata": {},
     "output_type": "execute_result"
    }
   ],
   "source": [
    "ratings"
   ]
  },
  {
   "cell_type": "code",
   "execution_count": 76,
   "id": "a97a138b",
   "metadata": {},
   "outputs": [
    {
     "data": {
      "text/plain": [
       "['3.8', '3.8', '4.1', '4.1', '3.9', '4.1', '4.2', '4.1', '4.1', '4.1']"
      ]
     },
     "execution_count": 76,
     "metadata": {},
     "output_type": "execute_result"
    }
   ],
   "source": [
    "rat_list=[]\n",
    "for i in ratings:\n",
    "    rat_list.append(i.text)\n",
    "    \n",
    "    \n",
    "rat_list"
   ]
  },
  {
   "cell_type": "code",
   "execution_count": 79,
   "id": "25a982c7",
   "metadata": {},
   "outputs": [],
   "source": [
    "df48 = pd.DataFrame({})\n",
    "df48['Comapny Name'] = comp_list \n",
    "df48['Posted Days'] = days_list\n",
    "df48['Ratings'] = rat_list"
   ]
  },
  {
   "cell_type": "code",
   "execution_count": 80,
   "id": "cb2a3daf",
   "metadata": {},
   "outputs": [
    {
     "data": {
      "text/html": [
       "<div>\n",
       "<style scoped>\n",
       "    .dataframe tbody tr th:only-of-type {\n",
       "        vertical-align: middle;\n",
       "    }\n",
       "\n",
       "    .dataframe tbody tr th {\n",
       "        vertical-align: top;\n",
       "    }\n",
       "\n",
       "    .dataframe thead th {\n",
       "        text-align: right;\n",
       "    }\n",
       "</style>\n",
       "<table border=\"1\" class=\"dataframe\">\n",
       "  <thead>\n",
       "    <tr style=\"text-align: right;\">\n",
       "      <th></th>\n",
       "      <th>Comapny Name</th>\n",
       "      <th>Posted Days</th>\n",
       "      <th>Ratings</th>\n",
       "    </tr>\n",
       "  </thead>\n",
       "  <tbody>\n",
       "    <tr>\n",
       "      <th>0</th>\n",
       "      <td>Wipro Limited</td>\n",
       "      <td>19hr ago</td>\n",
       "      <td>3.8</td>\n",
       "    </tr>\n",
       "    <tr>\n",
       "      <th>1</th>\n",
       "      <td>Wipro Limited</td>\n",
       "      <td>via naukri.com</td>\n",
       "      <td>3.8</td>\n",
       "    </tr>\n",
       "    <tr>\n",
       "      <th>2</th>\n",
       "      <td>J.P. Morgan Services India Private Limited</td>\n",
       "      <td>1d ago</td>\n",
       "      <td>4.1</td>\n",
       "    </tr>\n",
       "    <tr>\n",
       "      <th>3</th>\n",
       "      <td>IBM India Pvt. Limited</td>\n",
       "      <td>via naukri.com</td>\n",
       "      <td>4.1</td>\n",
       "    </tr>\n",
       "    <tr>\n",
       "      <th>4</th>\n",
       "      <td>Tata Consultancy Services Ltd.</td>\n",
       "      <td>14d ago</td>\n",
       "      <td>3.9</td>\n",
       "    </tr>\n",
       "    <tr>\n",
       "      <th>5</th>\n",
       "      <td>JP Morgan Chase</td>\n",
       "      <td>via naukri.com</td>\n",
       "      <td>4.1</td>\n",
       "    </tr>\n",
       "    <tr>\n",
       "      <th>6</th>\n",
       "      <td>Morningstar</td>\n",
       "      <td>29d ago</td>\n",
       "      <td>4.2</td>\n",
       "    </tr>\n",
       "    <tr>\n",
       "      <th>7</th>\n",
       "      <td>Xoriant Solutions Pvt Ltd</td>\n",
       "      <td>via naukri.com</td>\n",
       "      <td>4.1</td>\n",
       "    </tr>\n",
       "    <tr>\n",
       "      <th>8</th>\n",
       "      <td>JP Morgan Chase</td>\n",
       "      <td>26d ago</td>\n",
       "      <td>4.1</td>\n",
       "    </tr>\n",
       "    <tr>\n",
       "      <th>9</th>\n",
       "      <td>ECL FINANCE LIMITED</td>\n",
       "      <td>via naukri.com</td>\n",
       "      <td>4.1</td>\n",
       "    </tr>\n",
       "  </tbody>\n",
       "</table>\n",
       "</div>"
      ],
      "text/plain": [
       "                                 Comapny Name     Posted Days Ratings\n",
       "0                               Wipro Limited        19hr ago     3.8\n",
       "1                               Wipro Limited  via naukri.com     3.8\n",
       "2  J.P. Morgan Services India Private Limited          1d ago     4.1\n",
       "3                      IBM India Pvt. Limited  via naukri.com     4.1\n",
       "4              Tata Consultancy Services Ltd.         14d ago     3.9\n",
       "5                             JP Morgan Chase  via naukri.com     4.1\n",
       "6                                 Morningstar         29d ago     4.2\n",
       "7                   Xoriant Solutions Pvt Ltd  via naukri.com     4.1\n",
       "8                             JP Morgan Chase         26d ago     4.1\n",
       "9                         ECL FINANCE LIMITED  via naukri.com     4.1"
      ]
     },
     "execution_count": 80,
     "metadata": {},
     "output_type": "execute_result"
    }
   ],
   "source": [
    "df48"
   ]
  },
  {
   "cell_type": "markdown",
   "id": "cbf5f327",
   "metadata": {},
   "source": [
    "# Q10: Write a python program to scrape the salary data for Data Scientist designation.\n",
    "You have to scrape Company name, Number of salaries, Average salary, Minsalary, Max Salary.\n"
   ]
  },
  {
   "cell_type": "code",
   "execution_count": 56,
   "id": "a42e8b18",
   "metadata": {},
   "outputs": [],
   "source": [
    "import pandas as pd \n",
    "import numpy as np\n",
    "from selenium import webdriver\n",
    "import warnings\n",
    "warnings.filterwarnings('ignore')"
   ]
  },
  {
   "cell_type": "code",
   "execution_count": 66,
   "id": "41b7635e",
   "metadata": {},
   "outputs": [],
   "source": [
    "driver=webdriver.Chrome('chromedriver.exe')"
   ]
  },
  {
   "cell_type": "code",
   "execution_count": 67,
   "id": "2b1f0552",
   "metadata": {},
   "outputs": [],
   "source": [
    "url =\"https://www.ambitionbox.com/\"\n",
    "\n",
    "driver.get(url)\n",
    "\n",
    "driver.maximize_window()"
   ]
  },
  {
   "cell_type": "code",
   "execution_count": 68,
   "id": "f3337f24",
   "metadata": {},
   "outputs": [],
   "source": [
    "sal_icon=driver.find_element_by_xpath(\"/html/body/div[1]/nav/nav/a[4]\")"
   ]
  },
  {
   "cell_type": "code",
   "execution_count": 70,
   "id": "c6f6d5fa",
   "metadata": {},
   "outputs": [],
   "source": [
    "sal_icon.click()"
   ]
  },
  {
   "cell_type": "code",
   "execution_count": 72,
   "id": "53c0fb07",
   "metadata": {},
   "outputs": [],
   "source": [
    "job_srh=driver.find_element_by_xpath(\"/html/body/div[1]/div/div/div[2]/div/div/div/div[1]/span/input\")"
   ]
  },
  {
   "cell_type": "code",
   "execution_count": 73,
   "id": "e1e7f34d",
   "metadata": {},
   "outputs": [
    {
     "data": {
      "text/plain": [
       "<selenium.webdriver.remote.webelement.WebElement (session=\"1a485acbfd4bce3d14025d10f808cfe6\", element=\"d9e8792f-40ff-4884-b9d3-1bac5764739f\")>"
      ]
     },
     "execution_count": 73,
     "metadata": {},
     "output_type": "execute_result"
    }
   ],
   "source": [
    "job_srh"
   ]
  },
  {
   "cell_type": "code",
   "execution_count": 74,
   "id": "6b4eb028",
   "metadata": {},
   "outputs": [],
   "source": [
    "job_srh.send_keys('Data Scientist')"
   ]
  },
  {
   "cell_type": "code",
   "execution_count": 75,
   "id": "1db02708",
   "metadata": {},
   "outputs": [],
   "source": [
    "srh_bt=driver.find_element_by_xpath(\"/html/body/div[1]/div/div/div[2]/div/div/div/button/span\")"
   ]
  },
  {
   "cell_type": "code",
   "execution_count": 77,
   "id": "48ae42b9",
   "metadata": {},
   "outputs": [],
   "source": [
    "srh_bt.click()"
   ]
  },
  {
   "cell_type": "code",
   "execution_count": 78,
   "id": "914a401d",
   "metadata": {},
   "outputs": [],
   "source": [
    "Company=driver.find_elements_by_xpath('//div[@class=\"name\"]')"
   ]
  },
  {
   "cell_type": "code",
   "execution_count": 79,
   "id": "685dc28d",
   "metadata": {},
   "outputs": [
    {
     "data": {
      "text/plain": [
       "[<selenium.webdriver.remote.webelement.WebElement (session=\"1a485acbfd4bce3d14025d10f808cfe6\", element=\"fb9d2a77-6aa3-4d49-a6df-07992c9f3c22\")>,\n",
       " <selenium.webdriver.remote.webelement.WebElement (session=\"1a485acbfd4bce3d14025d10f808cfe6\", element=\"d77a359d-3dbb-4926-90c9-7f002c10516c\")>,\n",
       " <selenium.webdriver.remote.webelement.WebElement (session=\"1a485acbfd4bce3d14025d10f808cfe6\", element=\"8e5f23b4-3c80-4daf-bf31-82af75c87161\")>,\n",
       " <selenium.webdriver.remote.webelement.WebElement (session=\"1a485acbfd4bce3d14025d10f808cfe6\", element=\"ba1bcc27-09ec-46fa-95b6-ef22f529c6ec\")>,\n",
       " <selenium.webdriver.remote.webelement.WebElement (session=\"1a485acbfd4bce3d14025d10f808cfe6\", element=\"ad6f425c-1145-4033-90a9-60e5facf0583\")>,\n",
       " <selenium.webdriver.remote.webelement.WebElement (session=\"1a485acbfd4bce3d14025d10f808cfe6\", element=\"a69382cc-97b8-4209-a0f4-c046dc6fb675\")>,\n",
       " <selenium.webdriver.remote.webelement.WebElement (session=\"1a485acbfd4bce3d14025d10f808cfe6\", element=\"2c994bc6-aec6-4413-bacf-72250f920274\")>,\n",
       " <selenium.webdriver.remote.webelement.WebElement (session=\"1a485acbfd4bce3d14025d10f808cfe6\", element=\"d466a8aa-b56f-4f29-b840-43356fcd923d\")>,\n",
       " <selenium.webdriver.remote.webelement.WebElement (session=\"1a485acbfd4bce3d14025d10f808cfe6\", element=\"e0288cb6-4b73-470d-a850-c2b4a4e9c704\")>,\n",
       " <selenium.webdriver.remote.webelement.WebElement (session=\"1a485acbfd4bce3d14025d10f808cfe6\", element=\"201a50c2-a7cb-44b2-9770-51caeafc9ec0\")>]"
      ]
     },
     "execution_count": 79,
     "metadata": {},
     "output_type": "execute_result"
    }
   ],
   "source": [
    "Company"
   ]
  },
  {
   "cell_type": "code",
   "execution_count": 80,
   "id": "1045a90e",
   "metadata": {},
   "outputs": [
    {
     "data": {
      "text/plain": [
       "10"
      ]
     },
     "execution_count": 80,
     "metadata": {},
     "output_type": "execute_result"
    }
   ],
   "source": [
    "len(Company)"
   ]
  },
  {
   "cell_type": "code",
   "execution_count": 87,
   "id": "7bd67517",
   "metadata": {},
   "outputs": [],
   "source": [
    "Expirence=driver.find_elements_by_xpath('//div[@class=\"salaries sbold-list-header\"]')"
   ]
  },
  {
   "cell_type": "code",
   "execution_count": 88,
   "id": "9351a235",
   "metadata": {},
   "outputs": [
    {
     "data": {
      "text/plain": [
       "10"
      ]
     },
     "execution_count": 88,
     "metadata": {},
     "output_type": "execute_result"
    }
   ],
   "source": [
    "len(Expirence)"
   ]
  },
  {
   "cell_type": "code",
   "execution_count": 89,
   "id": "c25e4c27",
   "metadata": {},
   "outputs": [
    {
     "data": {
      "text/plain": [
       "[<selenium.webdriver.remote.webelement.WebElement (session=\"1a485acbfd4bce3d14025d10f808cfe6\", element=\"ef6ea320-c087-4243-a79e-427f999e178a\")>,\n",
       " <selenium.webdriver.remote.webelement.WebElement (session=\"1a485acbfd4bce3d14025d10f808cfe6\", element=\"c7795db7-a1d1-4dd1-8f49-5109f3fae209\")>,\n",
       " <selenium.webdriver.remote.webelement.WebElement (session=\"1a485acbfd4bce3d14025d10f808cfe6\", element=\"2e9fda61-1c6a-442d-9c73-b3d5c2d31d1a\")>,\n",
       " <selenium.webdriver.remote.webelement.WebElement (session=\"1a485acbfd4bce3d14025d10f808cfe6\", element=\"c9066ac3-e189-46a2-a06f-f8c6a00b0369\")>,\n",
       " <selenium.webdriver.remote.webelement.WebElement (session=\"1a485acbfd4bce3d14025d10f808cfe6\", element=\"4f986deb-566f-4b9d-8f39-fa3935c545b6\")>,\n",
       " <selenium.webdriver.remote.webelement.WebElement (session=\"1a485acbfd4bce3d14025d10f808cfe6\", element=\"8ad99a03-6615-48f2-acf8-6b78261a6119\")>,\n",
       " <selenium.webdriver.remote.webelement.WebElement (session=\"1a485acbfd4bce3d14025d10f808cfe6\", element=\"a1a8b7a4-f4bf-4bb2-ba00-b2fd41260a0a\")>,\n",
       " <selenium.webdriver.remote.webelement.WebElement (session=\"1a485acbfd4bce3d14025d10f808cfe6\", element=\"499cc7fe-6746-4513-b07a-63ef7c1b5d34\")>,\n",
       " <selenium.webdriver.remote.webelement.WebElement (session=\"1a485acbfd4bce3d14025d10f808cfe6\", element=\"2d851394-6369-4229-840c-75d995c3a300\")>,\n",
       " <selenium.webdriver.remote.webelement.WebElement (session=\"1a485acbfd4bce3d14025d10f808cfe6\", element=\"b93fae59-948d-486e-90f9-fce06fabf1a7\")>]"
      ]
     },
     "execution_count": 89,
     "metadata": {},
     "output_type": "execute_result"
    }
   ],
   "source": [
    "Expirence"
   ]
  },
  {
   "cell_type": "code",
   "execution_count": 90,
   "id": "950ca193",
   "metadata": {},
   "outputs": [],
   "source": [
    "Salary=driver.find_elements_by_xpath('//div[@class=\"result-col salary-range\"]')"
   ]
  },
  {
   "cell_type": "code",
   "execution_count": 93,
   "id": "d6ac4b3d",
   "metadata": {},
   "outputs": [
    {
     "data": {
      "text/plain": [
       "['₹ 28.7L\\n₹ 17.7L\\n₹ 35.0L',\n",
       " '₹ 20.2L\\n₹ 15.0L\\n₹ 25.5L',\n",
       " '₹ 15.5L\\n₹ 9.8L\\n₹ 20.0L',\n",
       " '₹ 15.1L\\n₹ 11.0L\\n₹ 21.3L',\n",
       " '₹ 15.1L\\n₹ 9.5L\\n₹ 22.0L',\n",
       " '₹ 14.2L\\n₹ 9.0L\\n₹ 18.5L',\n",
       " '₹ 13.8L\\n₹ 8.3L\\n₹ 20.5L',\n",
       " '₹ 12.7L\\n₹ 10.0L\\n₹ 21.0L',\n",
       " '₹ 12.4L\\n₹ 8.5L\\n₹ 15.0L',\n",
       " '₹ 11.9L\\n₹ 5.8L\\n₹ 24.0L']"
      ]
     },
     "execution_count": 93,
     "metadata": {},
     "output_type": "execute_result"
    }
   ],
   "source": [
    "Sal=[]\n",
    "for i in Salary:\n",
    "    Sal.append(i.text)\n",
    "    \n",
    "Sal    "
   ]
  },
  {
   "cell_type": "code",
   "execution_count": 94,
   "id": "afb66ca9",
   "metadata": {},
   "outputs": [
    {
     "data": {
      "text/plain": [
       "['Data Scientist\\n . \\n3 yrs exp',\n",
       " 'Data Scientist\\n . \\n3-4 yrs exp',\n",
       " 'Data Scientist\\n . \\n2 yrs exp',\n",
       " 'Data Scientist\\n . \\n3-4 yrs exp',\n",
       " 'Data Scientist\\n . \\n2-4 yrs exp',\n",
       " 'Data Scientist\\n . \\n3-4 yrs exp',\n",
       " 'Data Scientist\\n . \\n2-4 yrs exp',\n",
       " 'Data Scientist\\n . \\n4 yrs exp',\n",
       " 'Data Scientist\\n . \\n4 yrs exp',\n",
       " 'Data Scientist\\n . \\n3-4 yrs exp']"
      ]
     },
     "execution_count": 94,
     "metadata": {},
     "output_type": "execute_result"
    }
   ],
   "source": [
    "Exp=[]\n",
    "for i in Expirence:\n",
    "    Exp.append(i.text)\n",
    "    \n",
    "Exp    "
   ]
  },
  {
   "cell_type": "code",
   "execution_count": 96,
   "id": "81269e1f",
   "metadata": {},
   "outputs": [
    {
     "data": {
      "text/plain": [
       "['Walmart\\nbased on 10 salaries',\n",
       " 'Ab Inbev\\nbased on 25 salaries',\n",
       " 'ZS\\nbased on 13 salaries',\n",
       " 'Optum\\nbased on 25 salaries',\n",
       " 'Fractal Analytics\\nbased on 75 salaries',\n",
       " 'Tiger Analytics\\nbased on 30 salaries',\n",
       " 'UnitedHealth\\nbased on 51 salaries',\n",
       " 'Verizon\\nbased on 14 salaries',\n",
       " 'Ganit Business Solutions\\nbased on 13 salaries',\n",
       " 'Ericsson\\nbased on 43 salaries']"
      ]
     },
     "execution_count": 96,
     "metadata": {},
     "output_type": "execute_result"
    }
   ],
   "source": [
    "Comp=[]\n",
    "for i in Company:\n",
    "    Comp.append(i.text)\n",
    "    \n",
    "Comp    "
   ]
  },
  {
   "cell_type": "code",
   "execution_count": 97,
   "id": "ddd05389",
   "metadata": {},
   "outputs": [],
   "source": [
    "df21 = pd.DataFrame({})\n",
    "df21['Comapny Name'] = Comp \n",
    "df21['Expirence'] = Exp\n",
    "df21['Average Salary'] = Sal"
   ]
  },
  {
   "cell_type": "code",
   "execution_count": 98,
   "id": "d045d9e6",
   "metadata": {},
   "outputs": [
    {
     "data": {
      "text/html": [
       "<div>\n",
       "<style scoped>\n",
       "    .dataframe tbody tr th:only-of-type {\n",
       "        vertical-align: middle;\n",
       "    }\n",
       "\n",
       "    .dataframe tbody tr th {\n",
       "        vertical-align: top;\n",
       "    }\n",
       "\n",
       "    .dataframe thead th {\n",
       "        text-align: right;\n",
       "    }\n",
       "</style>\n",
       "<table border=\"1\" class=\"dataframe\">\n",
       "  <thead>\n",
       "    <tr style=\"text-align: right;\">\n",
       "      <th></th>\n",
       "      <th>Comapny Name</th>\n",
       "      <th>Expirence</th>\n",
       "      <th>Average Salary</th>\n",
       "    </tr>\n",
       "  </thead>\n",
       "  <tbody>\n",
       "    <tr>\n",
       "      <th>0</th>\n",
       "      <td>Walmart\\nbased on 10 salaries</td>\n",
       "      <td>Data Scientist\\n . \\n3 yrs exp</td>\n",
       "      <td>₹ 28.7L\\n₹ 17.7L\\n₹ 35.0L</td>\n",
       "    </tr>\n",
       "    <tr>\n",
       "      <th>1</th>\n",
       "      <td>Ab Inbev\\nbased on 25 salaries</td>\n",
       "      <td>Data Scientist\\n . \\n3-4 yrs exp</td>\n",
       "      <td>₹ 20.2L\\n₹ 15.0L\\n₹ 25.5L</td>\n",
       "    </tr>\n",
       "    <tr>\n",
       "      <th>2</th>\n",
       "      <td>ZS\\nbased on 13 salaries</td>\n",
       "      <td>Data Scientist\\n . \\n2 yrs exp</td>\n",
       "      <td>₹ 15.5L\\n₹ 9.8L\\n₹ 20.0L</td>\n",
       "    </tr>\n",
       "    <tr>\n",
       "      <th>3</th>\n",
       "      <td>Optum\\nbased on 25 salaries</td>\n",
       "      <td>Data Scientist\\n . \\n3-4 yrs exp</td>\n",
       "      <td>₹ 15.1L\\n₹ 11.0L\\n₹ 21.3L</td>\n",
       "    </tr>\n",
       "    <tr>\n",
       "      <th>4</th>\n",
       "      <td>Fractal Analytics\\nbased on 75 salaries</td>\n",
       "      <td>Data Scientist\\n . \\n2-4 yrs exp</td>\n",
       "      <td>₹ 15.1L\\n₹ 9.5L\\n₹ 22.0L</td>\n",
       "    </tr>\n",
       "    <tr>\n",
       "      <th>5</th>\n",
       "      <td>Tiger Analytics\\nbased on 30 salaries</td>\n",
       "      <td>Data Scientist\\n . \\n3-4 yrs exp</td>\n",
       "      <td>₹ 14.2L\\n₹ 9.0L\\n₹ 18.5L</td>\n",
       "    </tr>\n",
       "    <tr>\n",
       "      <th>6</th>\n",
       "      <td>UnitedHealth\\nbased on 51 salaries</td>\n",
       "      <td>Data Scientist\\n . \\n2-4 yrs exp</td>\n",
       "      <td>₹ 13.8L\\n₹ 8.3L\\n₹ 20.5L</td>\n",
       "    </tr>\n",
       "    <tr>\n",
       "      <th>7</th>\n",
       "      <td>Verizon\\nbased on 14 salaries</td>\n",
       "      <td>Data Scientist\\n . \\n4 yrs exp</td>\n",
       "      <td>₹ 12.7L\\n₹ 10.0L\\n₹ 21.0L</td>\n",
       "    </tr>\n",
       "    <tr>\n",
       "      <th>8</th>\n",
       "      <td>Ganit Business Solutions\\nbased on 13 salaries</td>\n",
       "      <td>Data Scientist\\n . \\n4 yrs exp</td>\n",
       "      <td>₹ 12.4L\\n₹ 8.5L\\n₹ 15.0L</td>\n",
       "    </tr>\n",
       "    <tr>\n",
       "      <th>9</th>\n",
       "      <td>Ericsson\\nbased on 43 salaries</td>\n",
       "      <td>Data Scientist\\n . \\n3-4 yrs exp</td>\n",
       "      <td>₹ 11.9L\\n₹ 5.8L\\n₹ 24.0L</td>\n",
       "    </tr>\n",
       "  </tbody>\n",
       "</table>\n",
       "</div>"
      ],
      "text/plain": [
       "                                     Comapny Name  \\\n",
       "0                   Walmart\\nbased on 10 salaries   \n",
       "1                  Ab Inbev\\nbased on 25 salaries   \n",
       "2                        ZS\\nbased on 13 salaries   \n",
       "3                     Optum\\nbased on 25 salaries   \n",
       "4         Fractal Analytics\\nbased on 75 salaries   \n",
       "5           Tiger Analytics\\nbased on 30 salaries   \n",
       "6              UnitedHealth\\nbased on 51 salaries   \n",
       "7                   Verizon\\nbased on 14 salaries   \n",
       "8  Ganit Business Solutions\\nbased on 13 salaries   \n",
       "9                  Ericsson\\nbased on 43 salaries   \n",
       "\n",
       "                          Expirence             Average Salary  \n",
       "0    Data Scientist\\n . \\n3 yrs exp  ₹ 28.7L\\n₹ 17.7L\\n₹ 35.0L  \n",
       "1  Data Scientist\\n . \\n3-4 yrs exp  ₹ 20.2L\\n₹ 15.0L\\n₹ 25.5L  \n",
       "2    Data Scientist\\n . \\n2 yrs exp   ₹ 15.5L\\n₹ 9.8L\\n₹ 20.0L  \n",
       "3  Data Scientist\\n . \\n3-4 yrs exp  ₹ 15.1L\\n₹ 11.0L\\n₹ 21.3L  \n",
       "4  Data Scientist\\n . \\n2-4 yrs exp   ₹ 15.1L\\n₹ 9.5L\\n₹ 22.0L  \n",
       "5  Data Scientist\\n . \\n3-4 yrs exp   ₹ 14.2L\\n₹ 9.0L\\n₹ 18.5L  \n",
       "6  Data Scientist\\n . \\n2-4 yrs exp   ₹ 13.8L\\n₹ 8.3L\\n₹ 20.5L  \n",
       "7    Data Scientist\\n . \\n4 yrs exp  ₹ 12.7L\\n₹ 10.0L\\n₹ 21.0L  \n",
       "8    Data Scientist\\n . \\n4 yrs exp   ₹ 12.4L\\n₹ 8.5L\\n₹ 15.0L  \n",
       "9  Data Scientist\\n . \\n3-4 yrs exp   ₹ 11.9L\\n₹ 5.8L\\n₹ 24.0L  "
      ]
     },
     "execution_count": 98,
     "metadata": {},
     "output_type": "execute_result"
    }
   ],
   "source": [
    "df21"
   ]
  },
  {
   "cell_type": "code",
   "execution_count": null,
   "id": "3ddc68ba",
   "metadata": {},
   "outputs": [],
   "source": []
  },
  {
   "cell_type": "code",
   "execution_count": null,
   "id": "c566cfc7",
   "metadata": {},
   "outputs": [],
   "source": []
  },
  {
   "cell_type": "code",
   "execution_count": null,
   "id": "d7606937",
   "metadata": {},
   "outputs": [],
   "source": []
  },
  {
   "cell_type": "code",
   "execution_count": null,
   "id": "4f9437ef",
   "metadata": {},
   "outputs": [],
   "source": []
  },
  {
   "cell_type": "code",
   "execution_count": null,
   "id": "90ee0484",
   "metadata": {},
   "outputs": [],
   "source": []
  }
 ],
 "metadata": {
  "kernelspec": {
   "display_name": "Python 3",
   "language": "python",
   "name": "python3"
  },
  "language_info": {
   "codemirror_mode": {
    "name": "ipython",
    "version": 3
   },
   "file_extension": ".py",
   "mimetype": "text/x-python",
   "name": "python",
   "nbconvert_exporter": "python",
   "pygments_lexer": "ipython3",
   "version": "3.8.8"
  }
 },
 "nbformat": 4,
 "nbformat_minor": 5
}
