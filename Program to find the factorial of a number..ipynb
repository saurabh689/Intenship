{
 "cells": [
  {
   "cell_type": "code",
   "execution_count": 4,
   "id": "dfdd3e95",
   "metadata": {},
   "outputs": [
    {
     "name": "stdout",
     "output_type": "stream",
     "text": [
      "Enter the number =20\n",
      "Factorial =   2432902008176640000\n"
     ]
    }
   ],
   "source": [
    "i = int (input(\"Enter the number =\"))\n",
    "\n",
    "'''\n",
    "We have set factorial to 1 because multiplying any number by 1 does not cause any change to it.\n",
    "\n",
    "'''\n",
    "fac = 1\n",
    "\n",
    "while (i>0):\n",
    "     fac= fac * i\n",
    "     i = i - 1\n",
    "print(\"Factorial =  \",fac)        "
   ]
  },
  {
   "cell_type": "code",
   "execution_count": null,
   "id": "8457bafa",
   "metadata": {},
   "outputs": [],
   "source": []
  },
  {
   "cell_type": "code",
   "execution_count": null,
   "id": "0a5be008",
   "metadata": {},
   "outputs": [],
   "source": []
  }
 ],
 "metadata": {
  "kernelspec": {
   "display_name": "Python 3",
   "language": "python",
   "name": "python3"
  },
  "language_info": {
   "codemirror_mode": {
    "name": "ipython",
    "version": 3
   },
   "file_extension": ".py",
   "mimetype": "text/x-python",
   "name": "python",
   "nbconvert_exporter": "python",
   "pygments_lexer": "ipython3",
   "version": "3.8.8"
  }
 },
 "nbformat": 4,
 "nbformat_minor": 5
}
